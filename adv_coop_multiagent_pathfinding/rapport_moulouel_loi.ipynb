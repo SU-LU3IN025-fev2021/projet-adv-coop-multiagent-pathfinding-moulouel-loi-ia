{
 "cells": [
  {
   "cell_type": "markdown",
   "metadata": {
    "collapsed": true,
    "id": "ydCt3luniZF1"
   },
   "source": [
    "---\n",
    "# LU3IN025 Projet IA et Jeux 2021\n",
    "# ***Cooperative path-finding***\n",
    "Loi Alessia, Moulouel Myriem, Groupe 3\n",
    "\n",
    "---"
   ]
  },
  {
   "cell_type": "markdown",
   "metadata": {
    "id": "a5uLDCDcEBcR"
   },
   "source": [
    "# I. Objectifs et méthodes de résolution implementées"
   ]
  },
  {
   "cell_type": "markdown",
   "metadata": {
    "id": "d0BAPQpPCkjj"
   },
   "source": [
    "Objectif du projet : dans un univers de N agents, partagés en 2 équipes de N/2 joueurs, trouver un ensemble de chemins, sans collisions, permettant à chaque agent d'atteindre sa destination. En suite, comparer les performances des differentes strategies.\n",
    "\n",
    "Version adversariale: N équipes d'agents sont en compétition et cherchent à atteindre leurs destinations avant leurs adversaires. Consignes: N=2, chaque agent a un objectif unique, différent pour chaque agent.\n"
   ]
  },
  {
   "cell_type": "markdown",
   "metadata": {
    "id": "v1wiX6m_WbYA"
   },
   "source": [
    "**Règles:**\n",
    "\n",
    "\n",
    "---\n",
    "\n",
    "\n",
    "*   Un joueur peut faire une pause dans son déplacement, (reste sur sa case sans bouger).\n",
    "*   Nombre de tours du jeu fixé pour éviter les situations de blocage.\n",
    "*   Les actions au sein de chaque équipe peuvent être cordonnées.\n",
    "\n",
    "\n",
    "*Déplacement:*\n",
    "\n",
    "\n",
    "    1.   Les tours alternent entre équipes: les agents de l'équpe Apeuvent tous bouger, puis ceux de l'équipe B\n",
    "    2.   Les agents de déplacent sur une case adjacente ou restent au même endroit\n",
    "    3.   Éviter toute collision: un agent se déplace vers une case si celle-ci est libre ou libérée dans le même tour par un joueur de la même équipe.\n",
    "    4.   L'échange de positions entre 2 agents n'est oas permis.\n",
    "*   Les positions des agents (équipiers et adversaires) et des objectifs aux autres agents, ce n'est pas le cas pour les agents de l'autre équipe.\n",
    "\n",
    "\n",
    "\n",
    "\n",
    "\n",
    "\n",
    "\n",
    "\n",
    "\n",
    "\n",
    "\n"
   ]
  },
  {
   "cell_type": "markdown",
   "metadata": {
    "id": "0jbKZQVIZY1S"
   },
   "source": [
    "**Critères de victoire:**\n",
    "\n",
    "\n",
    "---\n",
    "\n",
    "\n",
    "*   L'équipe gagnante est celle qui a placé le plus d'agents à leur destination.\n",
    "*   En cas d'égalité, l'équipe gagnante est celle dont la somme des pas du chemin des agents arrivés à destination est la plus petite.\n",
    "*   Il est possible de déplacer une équipe victorieuse même si toutes les destinations ne sont pas atteintes.\n",
    "\n"
   ]
  },
  {
   "cell_type": "markdown",
   "metadata": {
    "id": "TqvJ_RplagUf"
   },
   "source": [
    "**Code fourni:**\n",
    "\n",
    "\n",
    "---\n",
    "\n",
    "*   *pySpiriteWorld* : gestion des personnages et des cartes (CODE À NE PAS MODIFIER), les cartes sont organisées en layers: layer joueur, layer ramassable (objets), layer obstacle.\n",
    "*   *repertoire search* : algorithmes de résolution (Probleme.py)\n",
    "*   *main.py* : exemple de code (\"A* cooperative\" versus \"MinMax\")\n",
    "\n"
   ]
  },
  {
   "cell_type": "markdown",
   "metadata": {
    "id": "5Orn5W_mEZ91"
   },
   "source": [
    "Nous avons implementé les strategies suivantes:\n",
    "\n",
    "*   Local Repair A*\n",
    "\n",
    "    A* indépendants au sein d'une équipe, recalcul du chemin en cas de collision avec co-équipiers ou adversaires\n",
    "\n",
    "\n",
    "*   Collaborative Pathfinding with A*\n",
    "\n",
    "    A* au sein d'une équipe, et chaque joueur calcule son chemin en évitant les collisions avec les co-équipiers\n",
    "\n",
    "*   MinMax\n",
    "\n",
    "    MinMax consiste à maximiser le gain minimum au sein d'une équipe, en prevoyant le coup de l'équipe adversaire, qui va surement essayer de minimiser les gains de cette équipe!\n"
   ]
  },
  {
   "cell_type": "markdown",
   "metadata": {
    "id": "TbC8lru1G6WQ"
   },
   "source": [
    "Pour effectuer les tests, nous avons modifié plusieures maps JSON:\n",
    "\n",
    "* init('map1_2equipes_2joueurs')\n",
    "* init('map1_2equipes_5joueurs')\n",
    "* init('map2_2equipes_1joueur')\n",
    "* init('map2_2equipes_2joueurs')\n",
    "* init('map2_2equipes_3joueurs')\n",
    "* init('map2_2equipes_5joueurs')\n",
    "* init('map2_2equipes_10joueurs')\n"
   ]
  },
  {
   "cell_type": "markdown",
   "metadata": {
    "id": "qBvaBwgwwgLT"
   },
   "source": [
    "# II. Structure du programme"
   ]
  },
  {
   "cell_type": "markdown",
   "metadata": {
    "id": "ZJYQocVww32Y"
   },
   "source": [
    "Le fichier main.py contient l'initialisation des équipes et la boucle des iterations de jeu.\n",
    "1. Nous avons partagé les informations contenues dans les listes initStates et goalStates (générées à partir du file JSON) en 2 groupes, l'un pour l'équipe Bleue et l'autre pour l'équipe Rouge.\n",
    "> initStates ---->  initStates_equipeB, initStates_equipeR\n",
    "> goalStates ---->  objectifs_equipeB, objectifs_equipeR\n",
    "\n",
    "2. Nous avons instantiancé autant de ProblemeGrid2D que de nombre d'agents, et on les a partagés dans 2 listes equipeB et equipeR.\n",
    "\n",
    "3. Trois variables globales LOCAL_REPAIR, COLLAB_PATH_FINDING et MINMAX permettent d'éxecuter la strategie souhaitée pour une équipe.\n",
    "\n",
    "4. La boucle des iterations de jeu contient le code pour déplacer les équipes. Les équipes jouent sequentiellement : d'abord il se deplacent tous les agents de l'équipe BLEUE, en suite ceux de l'équipe ROUGE.\n",
    "\n",
    "5. Les strategies sont implementées dans le fichier *probleme.py*, et leur fonctions sont appelées par l'équipe concernée depuis le *main.py*. Toute strategie retourne la liste des positions à effectuer *posPlayersB* ou *posPlayersR* pour l'iteration courante du jeu.\n",
    "\n",
    "6. Un test en fin de boucle permet de vérifier si la dernière configuration de positions retournée par une strategie a produit l'obtention d'un nouveau objectif dans l'iteration du jeu  et donc l'incrementation du score.\n",
    "\n",
    "7. Dès qu'une équipe gagne ou dès que le seuil maximum d'iterations a été executé, alors le jeu s'arrete et on compare les scores de chaque équipe pour décreter le gagnant.\n",
    "\n",
    "Separé par rapport au *main.py*, nous avons ajouté un nouveau fichier chargé d'executer plusieures fois automatiquement le main et ainsi collecter les données statistiques. \n"
   ]
  },
  {
   "cell_type": "markdown",
   "metadata": {
    "id": "wdapvY03LsZT"
   },
   "source": [
    "# III. Strategies et observations"
   ]
  },
  {
   "cell_type": "markdown",
   "metadata": {
    "id": "mGsm-56MNYLK"
   },
   "source": [
    "## Local Repair A*\n",
    "\n",
    "**Description générale**\n",
    "\n",
    "---\n",
    "\n",
    "L'algorithme \"Local Repair A*\" permet à chaque agent au sein d'une équipe de trouver le plus court chemin jusqu'à une destination donnée en utilisant A*, et ensuite gérer les collisions eventuelles avec les voisins directs de la case courante.\n",
    "Chaque agent calcule son chemin independemment, sans s'accorder ni tenir compte des chemins des autres agents. Une fois le chemin calculé, l'agent le suit case après case, tant qu'il n'y a pas de collision avec un autre agent. Dans ce dernier cas, l'agent re-calcule un nouveau chemin en évitant la case occupée par l'autre agent participant à la collision.\n",
    "\n",
    "**Implementation**\n",
    "\n",
    "    localRepair_astar(equipe,posPlayersEquipe,posPlayersAdv,scoreEquipe,verbose=False,stepwise=False)**\n",
    "\n",
    "---\n",
    "1. En fonction du remplissage du tableau des scores de l'équipe, on ne traite que les joueurs qui ne sont pas encore arrivés à leur objectif (score[\\joueur]=0). Les joueurs ainsi selectionnées seront répresentés par un chiffre dans une liste *joueursEnAttente*.\n",
    "\n",
    "2. On itére sur la liste joueursEnAttente. Pour chaque joueur, on teste si il y a déjà un chemin path pre-calculé en memoire : dans la structure de données ProblemeGrid2D associée à chaque joueur, nous avons ajouté un champ *self.path* contenant le path à effectuer, i.e la liste de cases (x,y) à partir de l'état courant jusqu'à l'état objectif. Ce champ permettera à chaque agent de reprendre son chemin sans le recalculer. En debut de jeu la liste path est vide, donc on initialise la liste avec le chemin calculé par A*.\n",
    "\n",
    "3. On traite la première case de la liste *path* : normalement c'est notre prochain pas. On teste si la case est déjà occupée par un membre de notre équipe ou sinon un adversaire. Selon le cas, on agit differemment:\n",
    "\n",
    "  3a. Gestion des collisions 1 : la case (row,col) choisie est occupée par un joueur de notre équipe. Principe : mon co-équipier ne cherchera pas à me bloquer exprès, donc pour moi il est mieux d'attendre un tour de jeu et maintenir mon chemin optimal à la place de le recalculer et modifier. En détail, il y a donc 2 cas possibles:\n",
    "  * le joueur qui occupe ma case a déjà joué --> le joueur courant fait une pause = il ne se deplace pas dans ce tour de jeu. Dans ce cas il est notifié en affectant la valeur True à la variable *joueurBloqueParAmi*\n",
    "  * le joueur qui occupe ma case doit encore jouer --> on place le joueur courant en fin de liste joueursEnAttente, pour voir si la case se libère autretemps.\n",
    "\n",
    "  3b. Gestion des collisions 2 : la case (row,col) choisie est occupée par un joueur de l'équipe adversaire. Principe : en ne connaissant pas les intentions de mon adversaire (simple passage ou blocage volontaire?), il est mieux de trouver de suite un nouveau chemin pour m'éloigner de son perimetre et lui empecher d'autres blocages. En détail, il y a 2 cas possibles:\n",
    "  * tant qu'il y a d'autres cases accessibles autour du joueur (liste facteurBr) ---> le joueur cherche un nouveau path\n",
    "  * si il n'y a plus de cases accessibles ---> le joueur courant fait une pause = il ne se deplace pas dans ce tour de jeu. Dans ce cas il est notifié en affectant la valeur True à la variable *joueurBloqueParEnnemi*\n",
    "\n",
    "4. Si la case choisie n'est pas occupée par un co-équipier ou un adversaire, alors la case choisie est valide et le joueur peut affecter la liste *posPlayersEquipe* à retourner. Sinon, la case est replacé en tete de liste de *path* car il ne le \"consomme\" pas (= ne fait aucun déplacement) pour l'iteration en cours.\n",
    "\n",
    "**Observations**\n",
    "\n",
    "---\n",
    "\n",
    "L'algorithme apparait rapide et efficace. Chaque agent calcule son plus court chemin avec A* et si le plan de jeu est peu dense cela suffit pour avoir des chemins optimaux et arriver rapidement à destination. Justement, les défauts de cette approche apparaissent et s'accentuent en fonction du nombre de joueurs et de la densité en obstacles.\n",
    "\n",
    "* La reparation de collision est seulement locale, donc un agent ne peut pas éviter les autres agents avant de se retrouver sur une case adjacente. Cela veut dire que toute collision constituira un retard, une prolungation d'un chemin optimal, ce qui augmente les pas nécessaires pour arriver à l'objectif.\n",
    "\n",
    "* L'implementation choisie pour la gestion de collisions 1 (celle avec un co-équipier) peut créer des interblocages. En effet, si 2 agents j1 et j2 d'une meme équipe veulent se deplacer en direction opposée (ex : vers le nord, vers le sud) et collident autour de 2 cases adjacents, les 2 vont se placer en fin de liste *joueursEnAttente* le temps que l'autre équipier ne libère le passage, en créant ainsi une attente mutuelle.\n",
    "Pour regler cela, on a ajouté une variable *preventLoop* qui autorise une utilisation de tel mecanisme pour un nombre limité de fois et donc empêche de boucler indefiniment. Une fois depassées les iterations *preventLoop*, les co-equipiers essaient de se liberer en calculant un nouveau chemin A*.\n",
    "\n",
    "* On a remarqué que un petit nombre de collisions peut amener à des boucles du parcours qui concernent plusieurs agents. Par exemple, l'image ci-dessous est tirée d'une instance avec 10 agents dans le map dense : l'agent entouré en jaune repetait deux chemins, l'un en direction du personnage entouré en rouge en haut et l'autre en direction du personnage entouré en rouge en bas.\n",
    "A chaque iteration, le personnage en jaune entrait en collision avec le personnage entouré en rouge en haut, après celui en bas, celui en haut...\n",
    "\n",
    "![2.JPG](data:image/jpeg;base64,/9j/4AAQSkZJRgABAQEAeAB4AAD/4RD6RXhpZgAATU0AKgAAAAgABQESAAMAAAABAAEAAAE7AAIAAAAMAAAIVodpAAQAAAABAAAIYpydAAEAAAAYAAAQ2uocAAcAAAgMAAAASgAAAAAc6gAAAAgAAAAAAAAAAAAAAAAAAAAAAAAAAAAAAAAAAAAAAAAAAAAAAAAAAAAAAAAAAAAAAAAAAAAAAAAAAAAAAAAAAAAAAAAAAAAAAAAAAAAAAAAAAAAAAAAAAAAAAAAAAAAAAAAAAAAAAAAAAAAAAAAAAAAAAAAAAAAAAAAAAAAAAAAAAAAAAAAAAAAAAAAAAAAAAAAAAAAAAAAAAAAAAAAAAAAAAAAAAAAAAAAAAAAAAAAAAAAAAAAAAAAAAAAAAAAAAAAAAAAAAAAAAAAAAAAAAAAAAAAAAAAAAAAAAAAAAAAAAAAAAAAAAAAAAAAAAAAAAAAAAAAAAAAAAAAAAAAAAAAAAAAAAAAAAAAAAAAAAAAAAAAAAAAAAAAAAAAAAAAAAAAAAAAAAAAAAAAAAAAAAAAAAAAAAAAAAAAAAAAAAAAAAAAAAAAAAAAAAAAAAAAAAAAAAAAAAAAAAAAAAAAAAAAAAAAAAAAAAAAAAAAAAAAAAAAAAAAAAAAAAAAAAAAAAAAAAAAAAAAAAAAAAAAAAAAAAAAAAAAAAAAAAAAAAAAAAAAAAAAAAAAAAAAAAAAAAAAAAAAAAAAAAAAAAAAAAAAAAAAAAAAAAAAAAAAAAAAAAAAAAAAAAAAAAAAAAAAAAAAAAAAAAAAAAAAAAAAAAAAAAAAAAAAAAAAAAAAAAAAAAAAAAAAAAAAAAAAAAAAAAAAAAAAAAAAAAAAAAAAAAAAAAAAAAAAAAAAAAAAAAAAAAAAAAAAAAAAAAAAAAAAAAAAAAAAAAAAAAAAAAAAAAAAAAAAAAAAAAAAAAAAAAAAAAAAAAAAAAAAAAAAAAAAAAAAAAAAAAAAAAAAAAAAAAAAAAAAAAAAAAAAAAAAAAAAAAAAAAAAAAAAAAAAAAAAAAAAAAAAAAAAAAAAAAAAAAAAAAAAAAAAAAAAAAAAAAAAAAAAAAAAAAAAAAAAAAAAAAAAAAAAAAAAAAAAAAAAAAAAAAAAAAAAAAAAAAAAAAAAAAAAAAAAAAAAAAAAAAAAAAAAAAAAAAAAAAAAAAAAAAAAAAAAAAAAAAAAAAAAAAAAAAAAAAAAAAAAAAAAAAAAAAAAAAAAAAAAAAAAAAAAAAAAAAAAAAAAAAAAAAAAAAAAAAAAAAAAAAAAAAAAAAAAAAAAAAAAAAAAAAAAAAAAAAAAAAAAAAAAAAAAAAAAAAAAAAAAAAAAAAAAAAAAAAAAAAAAAAAAAAAAAAAAAAAAAAAAAAAAAAAAAAAAAAAAAAAAAAAAAAAAAAAAAAAAAAAAAAAAAAAAAAAAAAAAAAAAAAAAAAAAAAAAAAAAAAAAAAAAAAAAAAAAAAAAAAAAAAAAAAAAAAAAAAAAAAAAAAAAAAAAAAAAAAAAAAAAAAAAAAAAAAAAAAAAAAAAAAAAAAAAAAAAAAAAAAAAAAAAAAAAAAAAAAAAAAAAAAAAAAAAAAAAAAAAAAAAAAAAAAAAAAAAAAAAAAAAAAAAAAAAAAAAAAAAAAAAAAAAAAAAAAAAAAAAAAAAAAAAAAAAAAAAAAAAAAAAAAAAAAAAAAAAAAAAAAAAAAAAAAAAAAAAAAAAAAAAAAAAAAAAAAAAAAAAAAAAAAAAAAAAAAAAAAAAAAAAAAAAAAAAAAAAAAAAAAAAAAAAAAAAAAAAAAAAAAAAAAAAAAAAAAAAAAAAAAAAAAAAAAAAAAAAAAAAAAAAAAAAAAAAAAAAAAAAAAAAAAAAAAAAAAAAAAAAAAAAAAAAAAAAAAAAAAAAAAAAAAAAAAAAAAAAAAAAAAAAAAAAAAAAAAAAAAAAAAAAAAAAAAAAAAAAAAAAAAAAAAAAAAAAAAAAAAAAAAAAAAAAAAAAAAAAAAAAAAAAAAAAAAAAAAAAAAAAAAAAAAAAAAAAAAAAAAAAAAAAAAAAAAAAAAAAAAAAAAAAAAAAAAAAAAAAAAAAAAAAAAAAAAAAAAAAAAAAAAAAAAAAAAAAAAAAAAAAAAAAAAAAAAAAAAAAAAAAAAAAAAAAAAAAAAAAAAAAAAAAAAAAAAAAAAAAAAAAAAAAAAAAAAAAAAAAAAAAAAAAAAAAAAAAAAAAAAAAAAAAAAAAAAAAAAAAAAAAAAAAAAAAAAAAAAAAAAAAAAAAAAAAAAAAAAAAAAAAAAAAAAAAAAAAAAAAAAAAAAAAAAAAAAAAAAAAAAAAAAAAAAAAAAAAAAAAAAAAAAAAAAAAAAAAAAAAAAAAAAAAAAAAAAAAAAAAAAAAAAAAAAAAAAAAAAAAAAAAAAAAAAAAAAAAAAAAAAAAAAAAAAAAAAAAAAAAAAAAAAAAAAAAAAAAAAAAAAAAAAAAAAAAAAAAAAAAAAAAAAAAAAAAAAAAAAAAAAAAAAAAAAAAAAAAAAAAAAAAAAAAAAAAAAAAAAAAAAAAAAAAAAAAAAAAAAAAAAAAAAAAAAAAAAAAAAAAAAAAAAAAAAAAAAAAAAAAAAAAAAAAAAAAAAAAAAAAAAAAAAAAAAAAAAAAAAAAAAAAAAAAAAAAAAAAAAAAAAAAAAAAAAAAAAAAAAAAAAAAAAAAAAAAAAAAAAAAAAAAAAAAAAAAAAAAAAAAAAAAAAAAAAAAAAAAAAAAAAAAAAAAAAAAAAAAAAAAAAAAAAAAAAAAAAAAAAAAAAAAAAAAAAAAAAAAAAAAAAAAAAAAAAAAAAAAAAAAAAAAAAAAAAAAAAAAAAAAAAAAAAAAAAAAAAAAAAAAAAAAAAAAAAAAAAAAAAAAAAAAAAAAAAEFsZXNzaWEgTG9pAAAFkAMAAgAAABQAABCwkAQAAgAAABQAABDEkpEAAgAAAAMyOQAAkpIAAgAAAAMyOQAA6hwABwAACAwAAAikAAAAABzqAAAACAAAAAAAAAAAAAAAAAAAAAAAAAAAAAAAAAAAAAAAAAAAAAAAAAAAAAAAAAAAAAAAAAAAAAAAAAAAAAAAAAAAAAAAAAAAAAAAAAAAAAAAAAAAAAAAAAAAAAAAAAAAAAAAAAAAAAAAAAAAAAAAAAAAAAAAAAAAAAAAAAAAAAAAAAAAAAAAAAAAAAAAAAAAAAAAAAAAAAAAAAAAAAAAAAAAAAAAAAAAAAAAAAAAAAAAAAAAAAAAAAAAAAAAAAAAAAAAAAAAAAAAAAAAAAAAAAAAAAAAAAAAAAAAAAAAAAAAAAAAAAAAAAAAAAAAAAAAAAAAAAAAAAAAAAAAAAAAAAAAAAAAAAAAAAAAAAAAAAAAAAAAAAAAAAAAAAAAAAAAAAAAAAAAAAAAAAAAAAAAAAAAAAAAAAAAAAAAAAAAAAAAAAAAAAAAAAAAAAAAAAAAAAAAAAAAAAAAAAAAAAAAAAAAAAAAAAAAAAAAAAAAAAAAAAAAAAAAAAAAAAAAAAAAAAAAAAAAAAAAAAAAAAAAAAAAAAAAAAAAAAAAAAAAAAAAAAAAAAAAAAAAAAAAAAAAAAAAAAAAAAAAAAAAAAAAAAAAAAAAAAAAAAAAAAAAAAAAAAAAAAAAAAAAAAAAAAAAAAAAAAAAAAAAAAAAAAAAAAAAAAAAAAAAAAAAAAAAAAAAAAAAAAAAAAAAAAAAAAAAAAAAAAAAAAAAAAAAAAAAAAAAAAAAAAAAAAAAAAAAAAAAAAAAAAAAAAAAAAAAAAAAAAAAAAAAAAAAAAAAAAAAAAAAAAAAAAAAAAAAAAAAAAAAAAAAAAAAAAAAAAAAAAAAAAAAAAAAAAAAAAAAAAAAAAAAAAAAAAAAAAAAAAAAAAAAAAAAAAAAAAAAAAAAAAAAAAAAAAAAAAAAAAAAAAAAAAAAAAAAAAAAAAAAAAAAAAAAAAAAAAAAAAAAAAAAAAAAAAAAAAAAAAAAAAAAAAAAAAAAAAAAAAAAAAAAAAAAAAAAAAAAAAAAAAAAAAAAAAAAAAAAAAAAAAAAAAAAAAAAAAAAAAAAAAAAAAAAAAAAAAAAAAAAAAAAAAAAAAAAAAAAAAAAAAAAAAAAAAAAAAAAAAAAAAAAAAAAAAAAAAAAAAAAAAAAAAAAAAAAAAAAAAAAAAAAAAAAAAAAAAAAAAAAAAAAAAAAAAAAAAAAAAAAAAAAAAAAAAAAAAAAAAAAAAAAAAAAAAAAAAAAAAAAAAAAAAAAAAAAAAAAAAAAAAAAAAAAAAAAAAAAAAAAAAAAAAAAAAAAAAAAAAAAAAAAAAAAAAAAAAAAAAAAAAAAAAAAAAAAAAAAAAAAAAAAAAAAAAAAAAAAAAAAAAAAAAAAAAAAAAAAAAAAAAAAAAAAAAAAAAAAAAAAAAAAAAAAAAAAAAAAAAAAAAAAAAAAAAAAAAAAAAAAAAAAAAAAAAAAAAAAAAAAAAAAAAAAAAAAAAAAAAAAAAAAAAAAAAAAAAAAAAAAAAAAAAAAAAAAAAAAAAAAAAAAAAAAAAAAAAAAAAAAAAAAAAAAAAAAAAAAAAAAAAAAAAAAAAAAAAAAAAAAAAAAAAAAAAAAAAAAAAAAAAAAAAAAAAAAAAAAAAAAAAAAAAAAAAAAAAAAAAAAAAAAAAAAAAAAAAAAAAAAAAAAAAAAAAAAAAAAAAAAAAAAAAAAAAAAAAAAAAAAAAAAAAAAAAAAAAAAAAAAAAAAAAAAAAAAAAAAAAAAAAAAAAAAAAAAAAAAAAAAAAAAAAAAAAAAAAAAAAAAAAAAAAAAAAAAAAAAAAAAAAAAAAAAAAAAAAAAAAAAAAAAAAAAAAAAAAAAAAAAAAAAAAAAAAAAAAAAAAAAAAAAAAAAAAAAAAAAAAAAAAAAAAAAAAAAAAAAAAAAAAAAAAAAAAAAAAAAAAAAAAAAAAAAAAAAAAAAAAAAAAAAAAAAAAAAAAAAAAAAAAAAAAAAAAAAAAAAAAAAAAAAAAAAAAAAAAAAAAAAAAAAAAAAAAAAAAAAAAAAAAAAAAAAAAAAAAAAAAAAAAAAAAAAAAAAAAAAAAAAAAAAAAAAAAAAAAAAAAAAAAAAAAAAAAAAAAAAAAAAAAAAAAAAAAAAAAAAAAAAAAAAAAAAAAAAAAAAAAAAAAAAAAAAAAAAAAAAAAAAAAAAAAAAAAAAAAAAAAAAAAAAAAAAAAAAAAAAAAAAAAAAAAAAAAAAAAAAAAAAAAAAAAAAAAAAAAAAAAAAAAAAAAAAAAAAAAAAAAAAAAAAAAAAAAAAAAAAAAAAAAAAAAAAAAAAAAAAAAAAAAAAAAAAAAAAAAAAAAAAAAAAAAAAAAAAAAAAAAAAAAAAAAAAAAAAAAAAAAAAAAAAAAAAAAAAAAAAAAAAAAAAAAAAAAAAAAAAAAAAAAAAAAAAAAAAAAAAAAAAAAAAAAAAAAAAAAAAAAAAAAAAAAAAAAAAAAAAAAAAAAAAAAAAAAAAAAAAAAAAAAAAAAAAAAAAAAAAAAAAAAAAAAAAAAAAAAAAAAAAAAAAAAAAAAAAAAAAAAAAAAAAAAAAAAAAAAAAAAAAAAAAAAAAAAAAAAAAAAAAAAAAAAAAAAAAAAAAAAAAAAAAAAAAAAAAAAAAAAAAAAAAAAAAAAAAAAAAAAAAAAAAAAAAAAAAAAAAAAAAAAAAAAAAAAAAAAAAAAAAAAAAAAAAAAAAAAAAAAAAAAAAAAAAAAAAAAAAAAAAAAAAAAAAAAAAAAAAAAAAAAAAAAAAAAAAMjAyMTowMzozMCAwNzoxMTozMwAyMDIxOjAzOjMwIDA3OjExOjMzAAAAQQBsAGUAcwBzAGkAYQAgAEwAbwBpAAAA/+ELHmh0dHA6Ly9ucy5hZG9iZS5jb20veGFwLzEuMC8APD94cGFja2V0IGJlZ2luPSfvu78nIGlkPSdXNU0wTXBDZWhpSHpyZVN6TlRjemtjOWQnPz4NCjx4OnhtcG1ldGEgeG1sbnM6eD0iYWRvYmU6bnM6bWV0YS8iPjxyZGY6UkRGIHhtbG5zOnJkZj0iaHR0cDovL3d3dy53My5vcmcvMTk5OS8wMi8yMi1yZGYtc3ludGF4LW5zIyI+PHJkZjpEZXNjcmlwdGlvbiByZGY6YWJvdXQ9InV1aWQ6ZmFmNWJkZDUtYmEzZC0xMWRhLWFkMzEtZDMzZDc1MTgyZjFiIiB4bWxuczpkYz0iaHR0cDovL3B1cmwub3JnL2RjL2VsZW1lbnRzLzEuMS8iLz48cmRmOkRlc2NyaXB0aW9uIHJkZjphYm91dD0idXVpZDpmYWY1YmRkNS1iYTNkLTExZGEtYWQzMS1kMzNkNzUxODJmMWIiIHhtbG5zOnhtcD0iaHR0cDovL25zLmFkb2JlLmNvbS94YXAvMS4wLyI+PHhtcDpDcmVhdGVEYXRlPjIwMjEtMDMtMzBUMDc6MTE6MzMuMjkyPC94bXA6Q3JlYXRlRGF0ZT48L3JkZjpEZXNjcmlwdGlvbj48cmRmOkRlc2NyaXB0aW9uIHJkZjphYm91dD0idXVpZDpmYWY1YmRkNS1iYTNkLTExZGEtYWQzMS1kMzNkNzUxODJmMWIiIHhtbG5zOmRjPSJodHRwOi8vcHVybC5vcmcvZGMvZWxlbWVudHMvMS4xLyI+PGRjOmNyZWF0b3I+PHJkZjpTZXEgeG1sbnM6cmRmPSJodHRwOi8vd3d3LnczLm9yZy8xOTk5LzAyLzIyLXJkZi1zeW50YXgtbnMjIj48cmRmOmxpPkFsZXNzaWEgTG9pPC9yZGY6bGk+PC9yZGY6U2VxPg0KCQkJPC9kYzpjcmVhdG9yPjwvcmRmOkRlc2NyaXB0aW9uPjwvcmRmOlJERj48L3g6eG1wbWV0YT4NCiAgICAgICAgICAgICAgICAgICAgICAgICAgICAgICAgICAgICAgICAgICAgICAgICAgICAgICAgICAgICAgICAgICAgICAgICAgICAgICAgICAgICAgICAgICAgICAgICAgICAKICAgICAgICAgICAgICAgICAgICAgICAgICAgICAgICAgICAgICAgICAgICAgICAgICAgICAgICAgICAgICAgICAgICAgICAgICAgICAgICAgICAgICAgICAgICAgICAgICAgIAogICAgICAgICAgICAgICAgICAgICAgICAgICAgICAgICAgICAgICAgICAgICAgICAgICAgICAgICAgICAgICAgICAgICAgICAgICAgICAgICAgICAgICAgICAgICAgICAgICAgCiAgICAgICAgICAgICAgICAgICAgICAgICAgICAgICAgICAgICAgICAgICAgICAgICAgICAgICAgICAgICAgICAgICAgICAgICAgICAgICAgICAgICAgICAgICAgICAgICAgICAKICAgICAgICAgICAgICAgICAgICAgICAgICAgICAgICAgICAgICAgICAgICAgICAgICAgICAgICAgICAgICAgICAgICAgICAgICAgICAgICAgICAgICAgICAgICAgICAgICAgIAogICAgICAgICAgICAgICAgICAgICAgICAgICAgICAgICAgICAgICAgICAgICAgICAgICAgICAgICAgICAgICAgICAgICAgICAgICAgICAgICAgICAgICAgICAgICAgICAgICAgCiAgICAgICAgICAgICAgICAgICAgICAgICAgICAgICAgICAgICAgICAgICAgICAgICAgICAgICAgICAgICAgICAgICAgICAgICAgICAgICAgICAgICAgICAgICAgICAgICAgICAKICAgICAgICAgICAgICAgICAgICAgICAgICAgICAgICAgICAgICAgICAgICAgICAgICAgICAgICAgICAgICAgICAgICAgICAgICAgICAgICAgICAgICAgICAgICAgICAgICAgIAogICAgICAgICAgICAgICAgICAgICAgICAgICAgICAgICAgICAgICAgICAgICAgICAgICAgICAgICAgICAgICAgICAgICAgICAgICAgICAgICAgICAgICAgICAgICAgICAgICAgCiAgICAgICAgICAgICAgICAgICAgICAgICAgICAgICAgICAgICAgICAgICAgICAgICAgICAgICAgICAgICAgICAgICAgICAgICAgICAgICAgICAgICAgICAgICAgICAgICAgICAKICAgICAgICAgICAgICAgICAgICAgICAgICAgICAgICAgICAgICAgICAgICAgICAgICAgICAgICAgICAgICAgICAgICAgICAgICAgICAgICAgICAgICAgICAgICAgICAgICAgIAogICAgICAgICAgICAgICAgICAgICAgICAgICAgICAgICAgICAgICAgICAgICAgICAgICAgICAgICAgICAgICAgICAgICAgICAgICAgICAgICAgICAgICAgICAgICAgICAgICAgCiAgICAgICAgICAgICAgICAgICAgICAgICAgICAgICAgICAgICAgICAgICAgICAgICAgICAgICAgICAgICAgICAgICAgICAgICAgICAgICAgICAgICAgICAgICAgICAgICAgICAKICAgICAgICAgICAgICAgICAgICAgICAgICAgICAgICAgICAgICAgICAgICAgICAgICAgICAgICAgICAgICAgICAgICAgICAgICAgICAgICAgICAgICAgICAgICAgICAgICAgIAogICAgICAgICAgICAgICAgICAgICAgICAgICAgICAgICAgICAgICAgICAgICAgICAgICAgICAgICAgICAgICAgICAgICAgICAgICAgICAgICAgICAgICAgICAgICAgICAgICAgCiAgICAgICAgICAgICAgICAgICAgICAgICAgICAgICAgICAgICAgICAgICAgICAgICAgICAgICAgICAgICAgICAgICAgICAgICAgICAgICAgICAgICAgICAgICAgICAgICAgICAKICAgICAgICAgICAgICAgICAgICAgICAgICAgICAgICAgICAgICAgICAgICAgICAgICAgICAgICAgICAgICAgICAgICAgICAgICAgICAgICAgICAgICAgICAgICAgICAgICAgIAogICAgICAgICAgICAgICAgICAgICAgICAgICAgICAgICAgICAgICAgICAgICAgICAgICAgICAgICAgICAgICAgICAgICAgICAgICAgICAgICAgICAgICAgICAgICAgICAgICAgCiAgICAgICAgICAgICAgICAgICAgICAgICAgICAgICAgICAgICAgICAgICAgICAgICAgICAgICAgICAgICAgICAgICAgICAgICAgICAgICAgICAgICAgICAgICAgICAgICAgICAKICAgICAgICAgICAgICAgICAgICAgICAgICAgICAgICAgICAgICAgICAgICAgICAgICAgICAgICAgICAgICAgICAgICAgICAgICAgICAgICAgICAgICAgICAgICAgICAgICAgIAogICAgICAgICAgICAgICAgICAgICAgICAgICAgPD94cGFja2V0IGVuZD0ndyc/Pv/bAEMAAgEBAgEBAgICAgICAgIDBQMDAwMDBgQEAwUHBgcHBwYHBwgJCwkICAoIBwcKDQoKCwwMDAwHCQ4PDQwOCwwMDP/bAEMBAgICAwMDBgMDBgwIBwgMDAwMDAwMDAwMDAwMDAwMDAwMDAwMDAwMDAwMDAwMDAwMDAwMDAwMDAwMDAwMDAwMDP/AABEIANsArwMBIgACEQEDEQH/xAAfAAABBQEBAQEBAQAAAAAAAAAAAQIDBAUGBwgJCgv/xAC1EAACAQMDAgQDBQUEBAAAAX0BAgMABBEFEiExQQYTUWEHInEUMoGRoQgjQrHBFVLR8CQzYnKCCQoWFxgZGiUmJygpKjQ1Njc4OTpDREVGR0hJSlNUVVZXWFlaY2RlZmdoaWpzdHV2d3h5eoOEhYaHiImKkpOUlZaXmJmaoqOkpaanqKmqsrO0tba3uLm6wsPExcbHyMnK0tPU1dbX2Nna4eLj5OXm5+jp6vHy8/T19vf4+fr/xAAfAQADAQEBAQEBAQEBAAAAAAAAAQIDBAUGBwgJCgv/xAC1EQACAQIEBAMEBwUEBAABAncAAQIDEQQFITEGEkFRB2FxEyIygQgUQpGhscEJIzNS8BVictEKFiQ04SXxFxgZGiYnKCkqNTY3ODk6Q0RFRkdISUpTVFVWV1hZWmNkZWZnaGlqc3R1dnd4eXqCg4SFhoeIiYqSk5SVlpeYmZqio6Slpqeoqaqys7S1tre4ubrCw8TFxsfIycrS09TV1tfY2dri4+Tl5ufo6ery8/T19vf4+fr/2gAMAwEAAhEDEQA/ANPxV4qsvBuiyX19J5cMfCqOXlbsqjux/wAScAE14F8UP2kr64RrqS//AOEf02MhkSKYq5ZQT98AMxxnCrwdq8EjNW9f1q4+Nfj7b5/9n6bEGZDN/qrKEAbnIHALEDr3ZV3YANfLn7Svjnw74o+OWmv4Zt7qbRNNjW2mkmuDIuqOrnDCE9ByfmGA+eABX805HkVKNlX1klfyiu3r/W2/9VeHfh7kPAcsLTzvCfW83xEVOUGuanhab2utYyqNqzerumouMdansnwR8X+HfjR41m8Prqk2kagy+ZZfabXMepKCd3lMG+8BghSAxzyBXr2p/su3kVups9Wt7iXdgrNCYVC885Bbnpxj8a81+Pfx002P49fCvx02mano3hXwzazQG0lTy/7Phf8AcIiJ/AkbvH8n/fHmV6z4S+N2peKPjRJpqw28nh+4nnsLWZP9Zvgggn3/APbSO6T5P+mdd2ZYTMoxVehFxhyczul3/pnyHH/0guP8uzycssxVsOkmoSo0uXT4teTn8/j+Z5d8UPC+uyaLHofiCXWbe0V0aFRdOqqUXgRupxgK+CqnHIyMgY9X/Zl/4J3fDn48/DtdQ/4TPx6NYtpDFqFnFqKD7OzNhSR5f3WHIYcHBHVWA9d0nwVqnxFstR0bTf7KkXULR47pdQGYjCCCpHcMGAII5BAIIIBrxPxh4O8Z/sQ/FCwvLW+SOa6haSC5gDPbXUe/DwSblCuQQjFecbo24O0j2OGs4xVPCfWIq0Xul0fdH6ZwfmGV+KGSOSo0sHml73pq0Kriru63WndylFJPmkk4r0+X/gjT8Pbq4jeXxV8QJJLf7jvqMH7v/wAgVx3ij/gl14P0b40eHPD0Xirx59h1iCeSd31FPMj2f8Ar2T4R/F/4kfGqK6l0jVPDqx2UUMrNNAMESjO0AEgMpyCM8EEdq1tU+FXxO1nxpp2vXGpeF/7S0tHjg+R/L+f/AIBX3Ec0rVFofCR4d+pYqpSx1SKkotNOWqajaKfzPO/+HOngP/obfiJ/4NE/+IrP1T/gjp4A8OeH76a18T/ECP7PA86ImowRx/c/3K9R+Jfi34qfC/w3/at/qXhuSDz0g2QwfvPnrZuvDnxd1TT5IZdU8J+XcJ5b/I//AMRR/alY89cPzg4V6mIhyf4j55+CP/BLDwZ8RvhnpusXnir4gR3V5v3pDqKeX/rPL/uV08v/AARp+Ht1cRvL4q+IEklv9x31GD93/wCQK9R8EfDT4qfD7wvBpWm6r4Xjtbffs3o8n8fmf3KqeF/GXxU8W+KNc0q31Lw3HP4fdI5neD93Jv8A+edFPNK0ToxXD8MRVq1MLWhyf4jwjxR/wS68H6N8aPDnh6LxV48+w6xBPJO76inmR7P+AV23/DnTwH/0NvxE/wDBon/xFeiap8KvidrPjTTteuNS8L/2lpaPHB8j+X8//AKZ8S/FvxU+F/hv+1b/AFLw3JB56QbIYP3nz1SzCsXVySniFSo4atDn/wAUviPPNL/4J9+Ev2S4/wC2/D+seKL6e4/0R4b+6SS3jR/3m/YiR/vPkq5XafEG18eReH4JPFF5oc9jv+RLNP3m+uLr8U46xE62Zc8z+ZPEjD/Vs59m58/uxCiiivjD4MKoeKP2eNK/aR8P32latf6xpsGlwvqSPps/lySOifc/65/PV+tvwRpniHWry6tfDtzp8F1cWrpO95/q/Ir3uGKk4ZnRnA+m4LpqWeYaFSf2zy74I/8ABLDwZ8RvhnpusXnir4gR3V5v3pDqKeX/AKzy/wC5XR3n/BGP4c6iytN4m+IFwyfdD6jB8n/kCvVfBHw0+Knw+8LwaVpuq+F47W337N6PJ/H5n9yqfhrxr8VfFPiXXdMttS8Mx3Hh10SaSSD91Jv/ALlfv1PNK0D+r8Vw/HEVqs8LVhy/4vsn5s/tOfEVfBPwytfD8Bkj1Txc/nzMG2sLCJ8AIR95ZJkZJIz1RQcdDXz/AKJNNe67pdvHNb6ZNPcoI7mZ/LjiOfvu9bn7Sut3x+N839oSTNZ6baxjT0dSIxEVDED1BmMnI75HUVJ8I3s1XxRrWuXWoWNrp2mJ5kMCfvLxHk+58/8AuV42U5bUnGEY9fe/r5WR+j8XZ7PK6ua5li3+/q16kI/4IydOklf+7FbaN3Z7748+I3gnw58aJ/DHjS5j8W6PrEE8f/CSQ3X2i3kup/8Al6Ty/wB35ccj/wCo/wCWf8f7yOvQfBlzol94Y0PSvCdtJfR6f4unSDWLTUPM8uee1tI5540d/MnjjjSB9km+PzJJN/7vy6+ddd1lP2kP2cb7Uk037LqWjz+ZHDDP5n/LT5/4P9X5e+m/sS/tBX+kfFbwl4c8R6lcTeGY5/IsrP5PLt7p/wDUP/38rp4qwWIjQjOE/sf17p/NEsC8Xk+JxUY+/S5v8Z+nPw++L+m/BHVJNS1SwuNVguIPI2Qv5fz/AN//AMcrA/a8/aT8LfHv4PTaXZeHtZ07ULG4iv7SdrmMxEpuRw4wSV8t5CACDuC84yDyPxptZr/wvAkFz9lk+1J86f7kleM3Iu1uNRt5dQZktYTksuA/t+PT8a/OuG8IpYNzcpf+BS/I/Svo/YDDUcLhMxdOTre2uve63W65vk0ex/sTftFWXwWg1aPUtOvNShuJYAqwyKuwfvD39ya+gf8Ah4H4P/6E/WP/AAKSvhXwdp1xftcGC8a12hQwC58wHP8AhV66tb+21i1s/wC0pP8ASE+/sr344f20YznKf/bsuU/b/EfhrLHxBiMRWoSbk4q6lZNyjHpdfabPpL9pz9sjRPiD8P8A7HYaDqFj+/gk+edJP469A0b9vrwxa6fGl14V1SeT+/8Aakr43ufCV5f2+2XUpHj/ANyn/wDCO3//AEFJP++K7KmH56Pseef/AIEfJ/6q4ecPYzw8uSHwe9/4F9o+y7r9v/wlLbyeX4S1iOTZ8j/akrzP4S/tf6V4X+LHjHUrrRNQng1S6gfyUnT93/rK+c7W1v7nWLqz/tKT/R0+/sq1F4SvLa4kddSkjkk+/wDJ/rKKGH9lDkhOf/gRjQ4dwShyYXDy5J+7P3v/ALb+Y+0v+Hgfg/8A6E/WP/ApK81/ac/bI0T4g/D/AOx2Gg6hY/v4JPnnST+Ovm26tb+21i1s/wC0pP8ASE+/sq1c+Ery/t9supSPH/uVnh8H7KfPCc//AAKQYfhnAwnOeDw8uaH977X/AIEfVniL9pvS/i/4Xg0e10e8sbq3fz3mmn8yORP7n/j9czXlvwR0u5sPFE73F/JdR/ZfubP9uOvUq/NuLP8Af5n8leM2Bo4XiKVGjHk9yIUUUV80flAVvfD74v6b8FtYk1XVNNuNVguIPISGF/L+f/KVg1xvxptZr/wtAlvc/ZZPtX3/APgElepk9PnxsIH2nh7hIYjiHCUakOb3z3q6/b/8JS28nl+EtYjk2fI/2pK8z+FH7YGleGfil4w1O40fULiDV545ERJ0/d/6yvnO1tb+51i6s/7Sk/0dPv7KtReE7y1uZJI9Tkikk++dn36/XsPh/ZQ5ISn/AOBH9uUOHsEo8uFw8uSXuz97/wC2/mPF/jJpvhTRtIbxFr3hFPFF1DJbWcfm6q9jBBG0pXMpVgSu6T+HLZPQjp5j8WfEdz+018RNVmuNV8D+C/B+j6dZb4Ydn2ezggeTyIIET9/PJ87/APLP/fr648cfsv8A/CB+BI4ba6vvEWm29ube8/tIRSzyRcjLhAFddvytlc4GTuyxHj/wi/YU+D954pt5tak1uNo5nmNndXijTZ06iNnAWReMgbmOdv3iTitMp4rwtHBySbly7OKu/R9f+B6HzfihSfGmVw484QU69Jpe2pR1qYerFe9J0+qtbmsr3/eLmjNuPzn8NNYvNA1Txda+E/ENn/wj8lzJBPc3Nr+8ntf9X5+z/rnXSfC/4ZaPqHim31TS/Gfg/wATR6VdQSXVgn+hyXCf7H9opHBJ/uV9eeNP+CX3wq8cS2t5pKat4atzEBs0e82w3YPILF/MyD61V8B/8Eovhf4H8QR38/8AbmvpGn/Htf3SfZ/9/wCRI6nE8dZTUo8/PPnj/dP5q/4iFXoQcKEuSptNckfe/wAR6Ff6Dqsvwnhhv3vNO/4mLvZWz3X2i4s7X+CCef8Ajkj/AL/mPXnPijSV0M7ftdxPPc8yBzxgf/X/AJGu8/ahuvDvjLwcNEfUb5by1nWWKPTrnYY2EbRnewBAxk5X72ccAHI5v4S/AubxppvmSSXGn6TGhiilQhppWAxlS4OcHkswOSMcnOPl8JmlNYOdauuRyl0jZW/N38j+n/BGnhuH+FpcVcW0XhsPRqOcHNNTqzesVTg7N909nbT3VKUeJ13W7zwv4h8JadDI6p4llcSYfCx7Oh/EYrtpfBEktwjtf3nmR/cercv/AAT28K3VxG8uveMJJLf7jvep+7/8cp//AAwJ4f8A+hk8af8AgxT/AOIr2pcTZHGlCPPP/wABPhsV4/ZLjcdXx2Nw85qpJyj73wX6fLYqy+F5oo/+QrqH/fdYfw+uk+IPh/7fa6reSQb3j/74rpv+GBfDf/QyeNP/AAYx/wDxFMtf+Ce3hWwt9lvr3jCCP+4l6kf/ALJU/wCsmR8v8Wf/AICctTxvyH20Jww8+T/HIqReCJIrh3W/vPMk++9cr481m88JeOPDOlxXlxPH4gneN3d/9XsruP8AhgTw/wD9DJ40/wDBin/xFMl/4J7eFbq4jeXXvGEklv8Acd71P3f/AI5VU+KMjjP35z/8BIxfjhkM6PJQw84f9vFSXwRJLcI7X955kf3HqSXwvNFH/wAhXUP++6tf8MCeH/8AoZPGn/gxT/4ij/hgXw3/ANDJ40/8GMf/AMRU/wCsmTX/AIs//ATo/wCI58N20w8//ApFr9lXWYfFtxPqtvqFxdW+x4Pn/wB+Ovbq8x+CP7KuifAfxBPf6TqWuXX2iB7fybmdJI/v/wBzZ/sV6dX55xPjMNicZz4X4D+eeOeIKOcZh9bo/wAsQooor54+NCuN+NNg+qeF4EWaS3/0r76f7kldlXK/GT4QWfxp8Nwabf3+qWMdvP5++wn8uT/Pz16mT4ijRxsKlf4D6Pg/OKOW5tRx2KhzwhM8ji8ESRXDut/eeZJ9964/4oeK9Q+HXiTQbWC4uLldWMxZnf7nlpXff8MCeH/+hk8af+DFP/iKju/+CeHhTUWVpte8WXDJwoe9T5P/AByv1TD8UZHCf7yc/wDwE/o3MPGvIZUeTC0pwn/iPfK898Xfs6aTr1x52nzPpMrNl1RPMhPUnC5G08jodoAxjvXoVFfj+HxVWhLmoysfz3wjx1n/AAvinjMgxUqE5WvazjK17c0JJxla7tzRdr6HhK/Bvxr4TuGTTJXKzKGkeyvvJViM4B3FCSPpjnr1ol+FHjrxM8drqElwbfdv3XeoCWNGAODgMxz2yB39M17tRXqf6wYjfljfvbX8z9z/AOJsOKm/bzweDde38V0Ze0vaylf2lrpWt7ttErW0PMfCf7NNjYOsur3T6g20EwRAxRhsHILZ3MASMEbenI5xXpdvbx2lvHFFGkcUahERF2qijgADsB6U+ivNxWMrYh81WV/y+4/FuNfEbiPi3ELE5/ipVnH4Y6RhG+/LCKUU3ZXaV5WXM3YKKKK5T4kKKKKACiiigAooooAKKKKACiiigAooooAKKKKACiiigAooooAKKKKACiiigAooooAKKKKACiiigAoorqPh38FfFXxX81vD+i3V/FDkPNlYoQw25XzHKpu+ZTtzuwc4xzXPi8Zh8LSdbEzUILdyaSXq3ZG1DD1a81ToxcpPok2/uRy9FfR3hr/gnLrV1539seJNLsdu3yfscEl3v67t27ytuOMY3ZyemOZfEX/BOLVLayVtJ8UWF9cbwGS7tHtUCYOSGVpCTnHG0dTzxg/Ey8UOF1V9j9bV/wDDO3/gXLy/ifRrgrO3D2nsHb1jf7r3/A+bKK7j4m/s5+MPhLFJcavpEv8AZ8bsn223YT25AYKGLLzGGLLt8wKTnGMggcPX2WBzDC42kq+DqRqQfWLTXpdde66Hz2KwlfDT9liIOMuzTT/EKKKK7DnCiiigAooooA3vAfheHxRJqX2h5I/sdk92mz++ldR8DPhVpvxL+HelaxqU15BJePJ56Qyf7fl1yngjTPEOtXl1a+HbnT4Lq4tXSd7z/V+RXT+CPhp8VPh94Xg0rTdV8Lx2tvv2b0eT+PzP7lfp/DOT4PE4DnrwP37gHhPKcxyDnxXJ7bn+3/Kehf8ADNHgn/n+8Qf99p/8RXmvjL4c6boHxw8P+HrWa4k03WIJ5Hd3/efJTPC/jL4qeLfFGuaVb6l4bjn8PukczvB+7k3/APPOn6p8KvidrPjTTteuNS8L/wBpaWjxwfI/l/P/AMAr1cHwjgKX2Of/ABH3GE8NcnwlacMb7L4P/bfdPSov2afBIij3X+ueZ/vp/wDEVm+Mv2fPCul+G7q5sLzWJJ7eB5P3zp/c/wByuE+Jfi34qfC/w3/at/qXhuSDz0g2QwfvPnrZuvDnxd1TT5IZdU8J+XcJ5b/I/wD8RWdPgzLYT9p75x0/C/LIOFepKlyf4ir8DPhVpvxL+HelaxqU15BJePJ56Qyf7fl133/DNHgn/n+8Qf8Afaf/ABFee+CPhp8VPh94Xg0rTdV8Lx2tvv2b0eT+PzP7lVPC/jL4qeLfFGuaVb6l4bjn8PukczvB+7k3/wDPOtMZwjltbk9zl/wnRjvDXKMRVq18L7Lk/wDbR/jL4c6boHxw8P8Ah61muJNN1iCeR3d/3nyV6VF+zT4JEUe6/wBc8z/fT/4ivNdU+FXxO1nxpp2vXGpeF/7S0tHjg+R/L+f/AIBXSaL4c+MGr+LNF006p4bxq19HaO0NurSW8TAvLLhmUNsjV325BbbgckVy5pw7lNHCVMXif3VOnFylJ7KMVdt+iTbDGeHuSVYU4UHSTSu/8S3PTvAf7D/hnxPeWuoG61htLhuC00M+1RfKFwI1I5C5+8w54IBB+Zdr42ftcaF8DIpvDHg7TbCbU9PcIyRwiPTrIlmaRMRlS0gPVVwAznLblZK0/wBsf4rXvwf+F1npvh+4+w3l8Rbeah3S21sFIPlnduWQnaA2DgByCGCkfnp8ZPi/bfCrR02p9u1m8/d2Vn/z0f8Avv8A3I/9uv5I4d4UxvH+YrNMZSm8POT+r0E3ayduefdu1nbd32ikn+S8TZnQ4ff1TK1GnOespvouiXbv5eruvSP2lv2+/HXhvQ49Wm1DXLm4luhb6bpWiyGz8+aU58n93hmC7MDeWIGeeSTwP7Ln/BVHxd8SPEmoWjah4m8O6raz/YEg1S7N+k77PMdQs25RKPL4UDIBIB5OflT43XXib403HhXxJcX/ANhn0PVHtL3SvL+yf2W7p/rEmj8yR4/k+/JGlcJ8PtZhsf2hNH1Wz1jULGPS4Z/Pv/sv2uSPZBJ8nkP5f7yT7n+s/wBZJX9r5L9G7JqnCVWtiaFOFeGns+SNvut/7bqfC080xssXCl7aUnKHP7Tmf+Z+3/we/bo0/wAcyyaL46sbCyXUn+zpcQxf6CY3UgpOsjMVBPG7lSH+YKFLGl+0X+xrYaVdap4m0Pdb6WtvJdT2EIwLSZRu8yMf88zzlf4D0+U4T4D+CP7Rk3jfUI9K8TWEeh6rcfvLL5/3d4n/ALJP/sf9NK/Qj9gn443mv29x4P1a6a5NhAJtLkfG5YVO1oSxOWABUoMHChxkBVA/jbjLgPM+AMxed5VQ5IU1erQbfJOGl3HdxaWrfTdaJxl9nw1n1DOKscBm/LX1vCa7rXlfe/8Aw99GvFfgZ8KtN+Jfw70rWNSmvIJLx5PPSGT/AG/Lrvv+GaPBP/P94g/77T/4isvx78DfiD8FfFF9onhLUvD9v4Z82S50uO5idpIYXk80Rn75Ow5TcWy2zccbsVwvhrxr8VfFPiXXdMttS8Mx3Hh10SaSSD91Jv8A7lf1BgcoyTPMvw2ZYJWp1YqUXHezV9V0a2a6O6ep+v4vw2yjFVKmIwypKOmj3UfNdziaKKK/Lj+TwooooA3vh98X9N+C2sSarqmm3GqwXEHkJDC/l/P/AJSuquv2/wDwlLbyeX4S1iOTZ8j/AGpK8F+NNrNf+FoEt7n7LJ9q+/8A8AkryG1tb+51i6s/7Sk/0dPv7K/SOF8HzYP2nPP/AMCkf1r4Q5Dl+IyCFbE0pznOcvtf/bH0Z8Jf2v8ASvC/xY8Y6ldaJqE8GqXUD+Sk6fu/9ZXqH/DwPwf/ANCfrH/gUlfFsXhK8triR11KSOST7/yf6yqt1a39trFrZ/2lJ/pCff2V9NiMP7afPOc/+3Zcp+r1uHcDP99jMPLn+D4v+3Y/aPpL9pz9sjRPiD8P/sdhoOoWP7+CT550k/jr0DRv2+vDFrp8aXXhXVJ5P7/2pK+N7nwleX9vtl1KR4/9yn/8I7f/APQUk/74rSph+ej7Hnn/AOBG3+quHnD2M8PLkh8Hvf8AgX2j7Luv2/8AwlLbyeX4S1iOTZ8j/akrzP4S/tf6V4X+LHjHUrrRNQng1S6gfyUnT93/AKyvnO1tb+51i6s/7Sk/0dPv7KtReEry2uJHXUpI5JPv/J/rKMPh/ZQ5ITn/AOBGNDh3BKHJhcPLkn7k/e/+2/mPtL/h4H4P/wChP1j/AMCkr2b9iv4y6X+0J4y1a/0/RDp9v4dtYv8Aj5lWWRZZy4VkwOPkilBOQcMBggnH5e3Vrf22sWtn/aUn+kJ9/ZX3V/wRnf8Asy/+IVndalHcXV1Hp80ELMFkaOM3IdlXqVBkjBI4Bdc9RX5D43Rq4PgjMK2GnK7jGL96T92VSEZaf4Wzyc04fwGHwlathKMouFk25XV20npzPox37V/7Smk/E/4ja74XtNN1CG60DUHtZLm5ceXKIP3ToqgkBS5Yj1ByQCSK+CfjP/bVj+0Nr15MtxNe2+lxv4eihTzI5IP7j7P+m/mV9IfFHwbqng79s34jx6pNJ/pGqXd7Hbja+IZ7hZ4jlSRzHIhx1GcEAgivJ/2wfA803gCfxVpd5cadqXh9Envbm1fy5JNOR/MmT/vjfs/6aV9p4N55guG8wy6qoqdFUaSi07ytKEbOL2fe/Xc/knxtyOnisxlgcMvZqpCDvLrdJ3l8Xus8L+FXxGT4jeNPGN5peq/8JBdfZdOsJ9KSy8uTULp/P/0WBHT56n/aG+D+ufs4eA7rUvEXhmTwdY6he2sl7c2eqx69JH5d1H8+9HeRP7/7z935lcddfD268I+FrXW9D1XUNK8d3k/+i2Glfu5LiB/+WHz/APLT/brrf2gv2afiF4y+G+h+OfF9t5nl2vkTprGov9ns4N/lwI9rGn7+eSPZ/wAtE/eV/R2PwucYev8A7Vz89b3170f/ACb+8eNw7XyfFYGccFP9zR9xvl/l/l/umZN8bLf4szWFvouu2F14qt9USPw8sMfl/aJPk2Tuj/cf/rp8lfoV8IPjpbfs9eJY/EF/YXepN5YiEVvL5RL9x+IQj6GvhP8AYu/Z9bxl4g/tXVJryxsfB91B5Gm22yC3j1FP3/3P3n7vy3g/5af6zzK+nfitoV/4q0iw0/SzP/aF5frDBHDGZJJpGV1VFUcsxJAAHJJr8d8WM+oZ/mtLL8Yk1TpunUT92TbVneUeltx+GOQYPDcQYfCYZ89KU+f3f5Zfy/CfoP8Atu/E7Tfg38ONP17ULG51Ddff2fEkDhGRpI3k3ZPbEOPxr4f+FH7YGleGfil4w1O40fULiDV545ERJ0/d/wCsr6W/4LA3Edz+z54f0+PUIbS/uNfS4ji3jzZIo7a4V2VepVWkjBI4BdQfvDP5zxeE7y1uZJI9Tkikk++dn36/Dfo4VK0+CKMZSlZTqKNnZW529O/vOWvy6H9ocOZRTr4PndGUlUbjJqVlbp1XU+hqKKKk/gcKKKKAON+NNg+qeF4EWaS3/wBK++n+5JXlcXgiSK4d1v7zzJPvvXu/ij9njSv2kfD99pWrX+sabBpcL6kj6bP5ckjon3P+ufz1znwM/wCCVfgn4l/DvStY1Lxb8QLeS8d/P8nUU/v+X/cr9h4Lw9GWW885/wAx/VnhTnmHwnDXPWw/PyT/AJjwHx5rN54S8ceGdLivLiePxBO8bu7/AOr2V1UvgiSW4R2v7zzI/uPX0hL/AMEYPg/dXEby+MPiZJJb/wCrd9Rg/d/+QK858Z/8EuvBmg/HDw/4ftfFXxAk03WIJ5Hd9RTzPk/4BX02H+p4j3Ic8P8AFE+/yzimjia1W+H/AL/xfDyxPOZfC80Uf/IV1D/vusP4fXSfEHw/9vtdVvJIN7x/98V9Vxf8Eb/hR5fz+M/ih5n8f/Exg/8AjFY3ij/gjp8LvC/he6m0nxb8SI5LdHn2PqMEcf3P+uFY4eeGnPk9/wD8BMY8cYeeKgoYefJ/iPBYvBEkVw7rf3nmSffeuV8eazeeEvHHhnS4ry4nj8QTvG7u/wDq9le/fAz/AIJV+CfiX8O9K1jUvFvxAt5Lx38/ydRT+/5f9yu8l/4IwfB+6uI3l8YfEySS3/1bvqMH7v8A8gVtU+rYefv88/8ADErNuLsNSlLDU8PyThP+b+97x83y+CJJbhHa/vPMj+49e5f8E/vinF+zv+0hpuoalftJpOuQto19LcsNtqkroyzbmdVQLLHGXZsgR+ZwTjHL+M/+CXXgzQfjh4f8P2vir4gSabrEE8ju+op5nyf8Ar0mL/gjf8KPL+fxn8UPM/j/AOJjB/8AGK8TifIsuzLKq+X4rnnCtFxdo6q6tdea3XmjfMeKsFDDctTC/wAVOXxdz2D/AIKIfAuPwV8VV+KEMskem6tp7WerLvYrHdQx5ikALk/PCm3CIFX7PkktJX54an+1h4T/AGsrl/BsN5ceFdH+2wSahqt/dJb29xZJP86ff8x/Pj+TZ/00+ev2X+HkHh/xZ8JrLwHr15P4hihsIdKeTWp/MvNYCRcSSM2Ge42xGR3XB3AuMdvjL9rn/gmzovhXTb6O+8MaXrHgmS4iZLpIlgkh3EgJMY8EEEAb9oQll6Ftg/mnwt4yw2QY6PC/FlKX1vDOMaTb5VUp3/d8t+vK0orflSXxKSX87ccYGdStHNHDnpqKTtq427rtbr069L/m343/AGsPBnw++M9jNqklx4m8P6fp97psltDap/G8Gz/pn/BWT4o/bY8K+O/GHhJtL1v4jp/ZF688j+Idan1O3jj8iRP3aSPJ+8+evr3Qf2HvhT4X1y11Kz8GafHdWb+ZA7yTyeX/AMAd63PHv7MngD4l6fBbax4S0eeC3fzE2QfZ/n/4B5df05iPFLCzzGGZP2vP/i/lPzOnWy6jS+r0KX7r+X7P/gJ4ZY/Hjwx+zyH8bWutSeJrHxZZQfbdKs7pI7izvUeT9+8G/wAv95H5Cfu/7lfbH/BNDTdI/bP8SaH44s/tMeg+FLldTmhfMbG9C4hiO11YBZB5ucMp8naww9ec/s4f8Eq/BHxD8cWc+g+B7Wwt7WYvPqs63MtvbMu0sMu+Gkwy4QHJ3AnC5YfoNLF4V/ZA+Ecmg+FbPTLW5tLWS7hsgUWW4fac3MyLtZgSmCwAHCoNoA2/z/4zeI2DzjFPJ+Gqc5Zpi3yNtpcilo3J/Zdm7O65fibVlf77gnJ6dXE08dSp+zhTbSbXLzN6JJdl326Lrb49/wCCsfxKt/il8Y9F8PaXqVvLa+D7WZLmW1Vi8V5M486F3ztbYsMPCj5WaRScgqvw/wDFDxXqHw68SaDawXFxcrqxmLM7/c8tK+jPhH/wTC8KfGvwjZ+J/EHjf4kTalrVzNcX9y2qrJLcSPKVZ3ZkJZmJJJJySc12V7/wRf8Ag9qLI03iz4mXDJwoe+g+T/yBX7dwjwzlvC2T4TJoOdRUo2bjHeTblJ/OTb+Z/QON4lp4LDf2fRotTi0r829n7xXooor8fP4nCiiigDb8EaZ4h1q8urXw7c6fBdXFq6Tvef6vyK6fwR8NPip8PvC8GlabqvheO1t9+zejyfx+Z/crm/h98X9N+C2sSarqmm3GqwXEHkJDC/l/P/lK6q6/b/8ACUtvJ5fhLWI5NnyP9qSv0/hTMPZYOEPZT/8AJf8A5I/qTwow+azyHkw2H54c/wDdM7wv4y+Kni3xRrmlW+peG45/D7pHM7wfu5N//POn6p8KvidrPjTTteuNS8L/ANpaWjxwfI/l/P8A8ArgfhL+1/pXhf4seMdSutE1CeDVLqB/JSdP3f8ArK9Q/wCHgfg//oT9Y/8AApK+pxGYex+xOf8AhP1PEYPNoVufL8JDk/wx/wC3v/JjK+Jfi34qfC/w3/at/qXhuSDz0g2QwfvPnrZuvDnxd1TT5IZdU8J+XcJ5b/I//wARXmP7Tn7ZGifEH4f/AGOw0HULH9/BJ886Sfx16Bo37fXhi10+NLrwrqk8n9/7UlaVMw5KPtOSf+Aipgcy9jB08JD232/dj/27/wC3B4I+GnxU+H3heDStN1XwvHa2+/ZvR5P4/M/uVU8L+Mvip4t8Ua5pVvqXhuOfw+6RzO8H7uTf/wA860br9v8A8JS28nl+EtYjk2fI/wBqSvM/hL+1/pXhf4seMdSutE1CeDVLqB/JSdP3f+sow+Yc8OfknAKeDzKftZ4rCQ55fB7sfel/+zzHfap8KvidrPjTTteuNS8L/wBpaWjxwfI/l/P/AMApnxL8W/FT4X+G/wC1b/UvDckHnpBshg/efPWr/wAPA/B//Qn6x/4FJXmv7Tn7ZGifEH4f/Y7DQdQsf38EnzzpJ/HWOHzT20+T2U4f+A//ACQqGDzf2sVmGEh7KH92Pwnb+M5PiFo+mWV5r+paQIbedZbZtOBSeKZTkMpHIIIBBHIr1/4Q/wDBQWbS9M+yeNLG61KWPeyahYpGssmSNqPF8icZb5lI4CjaTlj4b4i/ab0v4v8AheDR7XR7yxurd/PeaafzI5E/uf8Aj9czX4f4ocMZZn2KdLMaSly7PaS9JLWz6rZ6XWiP5s8QM1zTJ+IKjh+7k4Rut0/Vbej3XQ+0L6++A3xqvZrm5m8NrcQO0sssryaQ87yHJZifKMxJUkk7tue27mH+x/2f/hf/AMTDf4XuvO/0fb9pfWMZ+bPlbpdv3fv7RjOM/Ng/GtFfkMfCtxXsKeZYlUduTn6dV/Lvr8P+Z8z/AK7cz9pLB0XU/m5ev57eZ9Y/E3/gobp9jFJb+E9LlvrhXZBd6gvl2+Awwyxq29wy7vvGMr8pIPIHzxp+qeMfib4s1W8sdTtJta1aGQ3tzqH3Hh+g4AAwAAAAAAAAAK5Wt74ffF/TfgtrEmq6pptxqsFxB5CQwv5fz/5Sv0Pw+4Pyrh/FReX07SlvJu8n5X6LySS62vqd3D+fZpmue4Xn99qekVpFfLq/N3fyOk8EfDT4qfD7wvBpWm6r4Xjtbffs3o8n8fmf3Kp+GvGvxV8U+Jdd0y21LwzHceHXRJpJIP3Um/8AuVpXX7f/AISlt5PL8JaxHJs+R/tSV5n8KP2wNK8M/FLxhqdxo+oXEGrzxyIiTp+7/wBZX9I4fMOeHwTgf1ZSwmZS9rPFYSHPL4Pdj70v/wBnmJKKKK/Az+CwooooA43402s1/wCFoEt7n7LJ9q+//wAAkryG1tb+51i6s/7Sk/0dPv7K9e+NNg+qeF4EWaS3/wBK++n+5JXlcXgiSK4d1v7zzJPvvX6pwmm8Af2Z4K4epV4bpThGXxy+3yhF4SvLa4kddSkjkk+/8n+sqrdWt/baxa2f9pSf6Qn39lc/481m88JeOPDOlxXlxPH4gneN3d/9XsrqpfBEktwjtf3nmR/cevqqmFqQhCZ+qezVXmoYWnL3J+/7/wD29/MFz4SvL+32y6lI8f8AuU//AIR2/wD+gpJ/3xSy+F5oo/8AkK6h/wB91h/D66T4g+H/ALfa6reSQb3j/wC+KPY1PjOj2dKFbl9hLnn/ANPf5f8At4vWtrf3OsXVn/aUn+jp9/ZVqLwleW1xI66lJHJJ9/5P9ZRF4IkiuHdb+88yT771yvjzWbzwl448M6XFeXE8fiCd43d3/wBXsop4erOfJA56lNYej7bE05fH/P8AzS937R0F1a39trFrZ/2lJ/pCff2VaufCV5f2+2XUpHj/ANyiXwRJLcI7X955kf3HqSXwvNFH/wAhXUP++6z5XfY2p4ColN1qUp/9xf8A7Y7D4I6Xc2Hiid7i/kuo/sv3Nn+3HXqVeI/sq6zD4tuJ9Vt9QuLq32PB8/8Avx16p4u+IOk+B7fdqF0iSldyQJ800nXGF9DtIycLnuK/MeLMPV/tH2Vrs/kHxRy3F5xxTHC5Vh5VZVYxSjBOpJ/JXenV7LqbVFeV6n+1FaRXCiz0m4uItuS00whYNzxgBuOnOfwo0z9qK0luGF5pNxbxbchoZhMxbjjBC8dec/hXj/2Ljbc3J+K/K9zo/wCJbfEj6v8AWf7Lly2vb2lLm/8AAPac9/Llv5Hqlcb8abWa/wDC0CW9z9lk+1ff/wCASVreD/iRo/jncun3W+eONZJIXQpJGD7Hg4PBKkgHHPIzk/GmwfVPC8CLNJb/AOlffT/ckrfI6M4ZlShNNPsz53gzIswyvi/DZdmdGdGrGavCcXGSurp2dnZrVPZrVaHkNra39zrF1Z/2lJ/o6ff2Vai8J3lrcySR6nJFJJ987Pv0ReCJIrh3W/vPMk++9cf8UPFeofDrxJoNrBcXFyurGYszv9zy0r9joYapWnyQP7OxFOOEo+3xtOXx/wA/83w/aPrasK/8bwy+LI/Del/Z9S8TXCeYlg919n8tP787/wAEf+3W7XKaD4j1L4fftKSNpc0c9j4w8L30et6bef6RZ3iWrweR8n/PSPz3/wC/lfk/CeV0cxx8MLXP89cnw9GtioQr/ASaN8VLGXX4dF1K40e11y4d/Jhs9QS7t7zZ9/yJ0+/5f8f/ADzrp68R8B6p/wALL+MHhx7i2s9KsfD9lqN/Y6bpUH2Szjn+1eRv2f8AXN3r26q4wyihluP+q0Cs3w9GjiZ06HwHK/GT4QWfxp8Nwabf3+qWMdvP5++wn8uT/Pz15j/wwJ4f/wChk8af+DFP/iK94orhwHEWZYSj7DDVeSBtg+IsxwdP2GHrckDwSX/gnt4VuriN5de8YSSW/wBx3vU/d/8AjlP/AOGBPD//AEMnjT/wYp/8RXvFFdv+uGb/APQRM3XF+cLavM8H/wCGBfDf/QyeNP8AwYx//EUy1/4J7eFbC32W+veMII/7iXqR/wDsle90Uf64Zv8A9BEw/wBb83/5/wAzwf8A4YE8P/8AQyeNP/Bin/xFMl/4J7eFbq4jeXXvGEklv9x3vU/d/wDjle90Uf64Zv8A9BEx/wCt+bvevM8H/wCGBPD/AP0MnjT/AMGKf/EUf8MC+G/+hk8af+DGP/4iveKxfiD4vj8D+E7rUG2GVF2QI3/LSU8KMZGR3IBztBParp8XZzOShGrK70PUyfOeIc0x1HLcFXnKrWlGEV3lJpJfe9X0Wp8/2/w/0n9l3xZcQ+EdU1q41B4jDcm+ZJYYVLBgqoUwWIVTnkAHHJ+72Hgj9n6+8Su194gmuLNZm3+XkNcT7hksxOdpyRwwLH5sgcGj9n7wQ3iXXZvEF8zzLZzHy9+H8+cjJZicnK5DZxyzA54IruPjJ8X7b4VaOm1Pt2s3n7uys/8Ano/99/7kf+3XoYjFZhi8bHA4P97iJ/FLq3+n6eup/S/iN4jR8NaX+p3CM4LFKEfreL5U6kqjSbhBu6iop7e9yc1ly1Iym+V+JvjHwH8FdukWuh2mv+J7pkey0GIedfXhf0L5IHydBxyfU1yHwQ/aA8B/tB+KrvwvqPhOHwrr1nKyxWkreW0/l5DjdHg7uemcV5F8Y/C+sfFnxxo/xCa8ksdYs7r+ydU03/j0j0v5JJEeOZN8jx/f+eSNK5X4fapDp/7Quj6xZ6xeWP8AZcM/n3/2L7XcR/uJPk8l9n+s+5/rP9ZJX7VgfBxVuGauYV60oYuH2bu9z+bKfG3EKx8HTzGvOpOPP7X21Tmv35ua/wA7n1V4y/Z5vfDu7UNBuprkW371Ym+W5QrjlGXhmzk8BSMADcazZNUtP2idEtfDPinU9S0+5jufOtryxkEDXBOfkOBgN8xxjAPTrjd0XwR/aMm8b6hHpXiawj0PVbj95ZfP+7vE/wDZJ/8AY/6aVm/tA+CG8Na7D4gsWeFbyYeZswnkTgZDKRg5bBbOOGUnPIFfjMqOY4PF/UcyhKlXj8MrWd/Xz/H1sf0d4c+IEPEtf6ncZVIzxLjL6pjIpRqRqJX9nKSVmpJX1tz8vK+ao4SVH/hgTw//ANDJ40/8GKf/ABFR3f8AwTw8KaiytNr3iy4ZOFD3qfJ/45XsHw48Yf8ACc+ELXUGWGOd9yTRxtuEbqcH3GRhsHkBh16ncry6nFmc05uEsRO6dj+bM7zLiHKswr5Xj6k41aM5Qkr3tKLs7NaNXWjWjWq0CvVP2Lv2FNQ/ax0f/hak2qW+k6T/AGddad4dg/1n22Ofy/Pnn/uf6mPYn+/Xgnxo0u81j4QeKrPTUknvrjS7qO1SH/WSPs+SvVf2ff2gfFuhfBuOz8Ca0sPg27tZ00S2uYfPv5Hg8jfA/wBzYn75/n/6ZvXgUc6xOTcuYYKKlPmlHX/D/X/gLO/gHIKOYzqznP34Hzz8S/gr45/Y8+Kl1qV14V1jWPD+lpPBdXltD58dvavJ57z70/d16hpeqQ6zpcF5b/vILyBJ0/3Hr1/VPhh448cWd1rXjnWJE8LWdrP58NhP5dvHB5Ej/v5tn/LP/lp+7/5Z187fs+6NNoPwj0q2l8z928+zf/y0Tz5JEk/797KX+s1biCnLF4zl9tD3Jcnw/wDk3+E7vEbhzDZd7KtQn8Z2VFFFcp+WhRRRQAUUUUAFFFFABXlf7UWpyRaRpNmFTyriaSZiR8wZAAMe37w5+gr1SvK/2otMkl0jSbwMnlW80kLAn5izgEY9v3Zz9RXqZLb67Dm8/wAnY/cPo2/V/wDiJGV/WrcvNUtf+b2VTk+fPy287HafCvTI9I+HWjxRs7K1qsxLHndJ+8P4ZY49sV4L8Zzren/tCeILyVLie+t9LSTw9DDH5kckH9x9n/TfzK96+Fepx6v8OtHljV1VbVYSGHO6P92fwypx7Yrz39sHwPNN4An8VaXeXGnal4fRJ725tX8uSTTkfzJ0/wC+N+z/AKaV994Y8UUMj4ojjMXDS7h/evJ/ZPynxQy3F4/O8zweJv7WVerz8/w83tJc3N53ueV/sv3UPx9uPi34ij8UafJfeH7XTrRPDbwpHeeKJ5PP/wBFsUk+/wCX/wB/K5v9of4S+Kv2afDF3f8AiPwl/wAIjo+qXtr9qvLDVE1qS32Txyb3+eSRPuf8tP3fmVzN18OLnwl4Wtdb0HVdQ0nx5cT/AOi2Glfu5JIH/wCWHz/8tP8Abrrf2gv2afiF4y+G+h+OfGFv5nl2vkTprGov9ns4N+yBHtUT9/PJHs/5aJ+8r+jcyjm9CryYrn55++ve+7m/vHpcO4vJ8Vl3Jgv4VH3H7v8ALvy/3TNl+NMHxaexg0XXLG68UW+qRx+HxFH5YuJPk8uZ0k+5J/10+SvsX4oaZ/a/wx1aKcurLatM2087o/3i/hlRn2r5X/Yu/Z9bxl4g/tXVJryxsfB91B5Gm22yC3j1FP3/ANz5/wB35bwf8tP9Z5lfVHxU1OPSPh1rEsiuytatCAo53Sfux+GWGfbNfh3i1xU81zbDUX/EopRlzfHz3Rw+HOVrLuI8FSye/NLFUp0rbe9Uja3ne1vM4v8AZd1OSXSNWsyqeVbzRzKQPmLOCDn2/djH1NeqV5X+y7pkkWkateFk8q4mjhUA/MGQEnPt+8GPoa9Ur8lzq312fL5fkr/ifqX0kfq//ESM0+q25eane383sqfP8+fmv53CuAtfjL8Sv2LrvUdY8M6H4f8AiF4Ijd508MXkPl3Gnu/8cDonmeXHs+5/00rv6K5sLUor3K0ITh/JM/I8rzfE5dW9vhZ8h8l/tj/8F1fi1+0X4OvvCWn6Vp/w5028ge01eGw3yahefP8AP++f9+n9ySP/AJ51h/8ABPH9qXxV4y8eWvgnWLmPUdOj05/ss03/AB8W+z/b/jr6i8efALwZ8ULeNNc8PaffeXP5+/Z5cm//AH0qP4a/s++DPhBqE9z4c0Gz0q6uE8t5k3ySf+P19r/bnDtLJp5fgsD7H/5P+bm+I9bNOIPr9P8Af/GdlRW94D8Lw+KJNS+0PJH9jsnu02f30rqPgZ8KtN+Jfw70rWNSmvIJLx5PPSGT/b8uvncBw5jMXR9vQKyvg3MsdgP7RofBz8p5zRX0J/wzR4J/5/vEH/faf/EV5r4y+HOm6B8cPD/h61muJNN1iCeR3d/3nyUYThfMKv2OX/Ed2F8Pc4xE+SEThaK+hIv2afBIij3X+ueZ/vp/8RWb4y/Z88K6X4burmwvNYknt4Hk/fOn9z/cqKfD+PnP2fspHPT4DzadT2fIeG0V6N8DPhVpvxL+HelaxqU15BJePJ56Qyf7fl133/DNHgn/AJ/vEH/faf8AxFXi+F8zpfY5/wDCa4rw9zbD1pUZw+A+e6w/iP4P/wCE68IXWnq0Mc77XhkkTcI3U5HuMjK5HIDHr0Pq3jL4c6boHxw8P+HrWa4k03WIJ5Hd3/efJXpUX7NPgkRR7r/XPM/30/8AiK0nw5muGtXhHma1PXyvhXiPJMZhs3wi5asJxnB72lFpq6ejV1qno1o9D4N+Bvj+HwTdalpWryfYYDumBlGxopUGGQjGcsAOpGCmMZauM1T9q/wn+1jcyeDIry48K6P9tgk1HVb+6S3t7iySf54/v+Y/nx/Js/6afPX1H+3H+yBo+i6ND4o8J3epXWoNL5N9Z3ChvPRUO2SMgDDKqYK4O4Yxhhh/mNJ/DOuaFL4e8aeE7HVtPEq7zHCttdRbBgqxULuOQOWIbOck9B9VldPDUcT9fxNF+00vG9mmuye/6+p/RvHnhrT8QG+NuFYRli5Rj9awvMlONSKScqd7KSa115ee11epKUF5XrP7c/h/4BfHO11RtH0f4laNb6RfaFJpWqp9nt9k7wfvN6f9ca4bxb+3hbfF/wCMHg+8t38QeGdH8PvPJJbXniTUdejkd0kj3p9qeTy5PLfZX1n4P/Zy+A2marb6tpujeH47ixmzC9xczKUOAeI5nBI56jj9a2vif8O/g5420i3i13S/DN3bwS74xap82/n+GDaccdcYr7Op4lUnmSzD2NT238139n4fcufzlT4VzanD+xaeU17Xt7L2NTmvL4lblvfyPJYvjxon7OeoQeNrDWLfxNofiyyT+19NtrpI7zT75Hk/f+R/q/3kexP+2ddd42+N9v8AHTw14ebRbW+jtb2Jbr7PPFibznyqoBjOMcjBw28egrjL34YfDmy1mE+EPAdpp915g8q5kkmnuWc4xsUuwU5yP4icgjBr6H/ZY/Zwt9SmvtW19ZFurWwkvLO3+XEDAfKz5/j7gfw9fvfd8LP8Zgsyxqx0aT9tLrJptv0W36ep/R3h/wCHeF8PJU+L+K6apYiKccLhbxlUnOSaU5pNqKim33i9XyzUYy1vhx4P/wCEF8IWuns0Mk6bnmkjTaJHY5PucDC5PJCjp0G5Xo3wM+FWm/Ev4d6VrGpTXkEl48nnpDJ/t+XXff8ADNHgn/n+8Qf99p/8RX5/mHDeaxm5zjzt6+6fzdxNwtxBj82xOOzL3qtScpye15Sbbslold6JaJaLQ+e6KKK+dPzQKKKKANvwRpniHWry6tfDtzp8F1cWrpO95/q/Irp/BHw0+Knw+8LwaVpuq+F47W337N6PJ/H5n9ytL9kqzjv/AIgXyzIJF/s9+D/vx179qOg2kdlIywqGCdcmv0jhfOadDCQpe9fvdH9EeH2eVsFkv1eUISXP/KfMnhfxl8VPFvijXNKt9S8Nxz+H3SOZ3g/dyb/+edP1T4VfE7WfGmna9cal4X/tLS0eOD5H8v5/+AV0X7PEa3f7QHxGWQb1N7Bwf+2lfQ3/AAiWn/8APv8A+RG/xr6zH5vSw0oRlzP5o/Uc2zx5dieWjSh8Efs/zRPlT4l+Lfip8L/Df9q3+peG5IPPSDZDB+8+etm68OfF3VNPkhl1Twn5dwnlv8j/APxFbn7c9nHY/CfbCgjX7VBwP9+vXPCWjWt3olu0kQdvUk1pUzSjGjGs+a0ul0RiM29hgqWLhSheU5fZ/wAJ88+CPhp8VPh94Xg0rTdV8Lx2tvv2b0eT+PzP7lVPC/jL4qeLfFGuaVb6l4bjn8PukczvB+7k3/8APOvpvUdBtI7KRlhUME65NeE/s8Rrd/tAfEZZBvU3sHB/7aUYfNKNWMpR5ko9LorBZ28bh8Ri61KHNH3vh/vROd1T4VfE7WfGmna9cal4X/tLS0eOD5H8v5/+AUz4l+Lfip8L/Df9q3+peG5IPPSDZDB+8+evqv8A4RLT/wDn3/8AIjf414T+3PZx2Pwn2woI1+1QcD/frHCZ1Rr1fZRUl80RkvEEsxzClha1KHLbl+E4f4g2vjyLw/BJ4ovNDnsd/wAiWafvN9eX+MPhxo/jra2oWu+eONo45kcpJGD7jg4PIDAgHPHJz9JftD2cf/CnNNm2L5321Bu7/ckrwmvznirESWaSlTbTifzvxbxRjsJxK8wympLD1Y3tKEnGSvo1dNOzWjWzWj0PK9T/AGXbSW4U2erXFvFtwVmhEzFuecgrx04x+NGmfsu2kVwxvNWuLiLbgLDCIWDcc5Jbjrxj8a9Uorx/7axtuXn/AAX52ufR/wDEyPiR9X+q/wBqS5bWv7Olzf8Agfs+e/nzX8zD8H/DjR/Au5tPtdk8kaxyTO5eSQD3PAyeSFABOOOBjt/BGmeIdavLq18O3OnwXVxauk73n+r8isSvVP2SrOO/+IF8syCRf7Pfg/78daZXjJLGwxFS8nE+HyXiHMcfxDTzTM6069aU1eU5OUnbRK7bdktEtktFoZvgj4afFT4feF4NK03VfC8drb79m9Hk/j8z+5VPw141+KvinxLrumW2peGY7jw66JNJJB+6k3/3K+nNR0G0jspGWFQwTrk14X8AY1f47/ERSPl+1wcf8Akr9gweaUsRSlVjzLl8z+oMHnbxeGxGLqUoc0f7v96J/9k=)\n",
    "\n",
    "* Il est possible pour un agent de rester bloqué dans une impasse, fermé sur les ouvertures par des agents qui ont presque en même temps rejoint leurs objectifs. L'agent réagit en calculant A* à chaque nouveau step, sans détecter que tout chemin ne pourra pas le sortir de l'impasse.\n",
    "\n",
    "![test1.JPG](data:image/jpeg;base64,/9j/4AAQSkZJRgABAQEAeAB4AAD/4RDuRXhpZgAATU0AKgAAAAgABAE7AAIAAAAMAAAISodpAAQAAAABAAAIVpydAAEAAAAYAAAQzuocAAcAAAgMAAAAPgAAAAAc6gAAAAgAAAAAAAAAAAAAAAAAAAAAAAAAAAAAAAAAAAAAAAAAAAAAAAAAAAAAAAAAAAAAAAAAAAAAAAAAAAAAAAAAAAAAAAAAAAAAAAAAAAAAAAAAAAAAAAAAAAAAAAAAAAAAAAAAAAAAAAAAAAAAAAAAAAAAAAAAAAAAAAAAAAAAAAAAAAAAAAAAAAAAAAAAAAAAAAAAAAAAAAAAAAAAAAAAAAAAAAAAAAAAAAAAAAAAAAAAAAAAAAAAAAAAAAAAAAAAAAAAAAAAAAAAAAAAAAAAAAAAAAAAAAAAAAAAAAAAAAAAAAAAAAAAAAAAAAAAAAAAAAAAAAAAAAAAAAAAAAAAAAAAAAAAAAAAAAAAAAAAAAAAAAAAAAAAAAAAAAAAAAAAAAAAAAAAAAAAAAAAAAAAAAAAAAAAAAAAAAAAAAAAAAAAAAAAAAAAAAAAAAAAAAAAAAAAAAAAAAAAAAAAAAAAAAAAAAAAAAAAAAAAAAAAAAAAAAAAAAAAAAAAAAAAAAAAAAAAAAAAAAAAAAAAAAAAAAAAAAAAAAAAAAAAAAAAAAAAAAAAAAAAAAAAAAAAAAAAAAAAAAAAAAAAAAAAAAAAAAAAAAAAAAAAAAAAAAAAAAAAAAAAAAAAAAAAAAAAAAAAAAAAAAAAAAAAAAAAAAAAAAAAAAAAAAAAAAAAAAAAAAAAAAAAAAAAAAAAAAAAAAAAAAAAAAAAAAAAAAAAAAAAAAAAAAAAAAAAAAAAAAAAAAAAAAAAAAAAAAAAAAAAAAAAAAAAAAAAAAAAAAAAAAAAAAAAAAAAAAAAAAAAAAAAAAAAAAAAAAAAAAAAAAAAAAAAAAAAAAAAAAAAAAAAAAAAAAAAAAAAAAAAAAAAAAAAAAAAAAAAAAAAAAAAAAAAAAAAAAAAAAAAAAAAAAAAAAAAAAAAAAAAAAAAAAAAAAAAAAAAAAAAAAAAAAAAAAAAAAAAAAAAAAAAAAAAAAAAAAAAAAAAAAAAAAAAAAAAAAAAAAAAAAAAAAAAAAAAAAAAAAAAAAAAAAAAAAAAAAAAAAAAAAAAAAAAAAAAAAAAAAAAAAAAAAAAAAAAAAAAAAAAAAAAAAAAAAAAAAAAAAAAAAAAAAAAAAAAAAAAAAAAAAAAAAAAAAAAAAAAAAAAAAAAAAAAAAAAAAAAAAAAAAAAAAAAAAAAAAAAAAAAAAAAAAAAAAAAAAAAAAAAAAAAAAAAAAAAAAAAAAAAAAAAAAAAAAAAAAAAAAAAAAAAAAAAAAAAAAAAAAAAAAAAAAAAAAAAAAAAAAAAAAAAAAAAAAAAAAAAAAAAAAAAAAAAAAAAAAAAAAAAAAAAAAAAAAAAAAAAAAAAAAAAAAAAAAAAAAAAAAAAAAAAAAAAAAAAAAAAAAAAAAAAAAAAAAAAAAAAAAAAAAAAAAAAAAAAAAAAAAAAAAAAAAAAAAAAAAAAAAAAAAAAAAAAAAAAAAAAAAAAAAAAAAAAAAAAAAAAAAAAAAAAAAAAAAAAAAAAAAAAAAAAAAAAAAAAAAAAAAAAAAAAAAAAAAAAAAAAAAAAAAAAAAAAAAAAAAAAAAAAAAAAAAAAAAAAAAAAAAAAAAAAAAAAAAAAAAAAAAAAAAAAAAAAAAAAAAAAAAAAAAAAAAAAAAAAAAAAAAAAAAAAAAAAAAAAAAAAAAAAAAAAAAAAAAAAAAAAAAAAAAAAAAAAAAAAAAAAAAAAAAAAAAAAAAAAAAAAAAAAAAAAAAAAAAAAAAAAAAAAAAAAAAAAAAAAAAAAAAAAAAAAAAAAAAAAAAAAAAAAAAAAAAAAAAAAAAAAAAAAAAAAAAAAAAAAAAAAAAAAAAAAAAAAAAAAAAAAAAAAAAAAAAAAAAAAAAAAAAAAAAAAAAAAAAAAAAAAAAAAAAAAAAAAAAAAAAAAAAAAAAAAAAAAAAAAAAAAAAAAAAAAAAAAAAAAAAAAAAAAAAAAAAAAAAAAAAAAAAAAAAAAAAAAAAAAAAAAAAAAAAAAAAAAAAAAAAAAAAAAAAAAAAAAAAAAAAAAAAAAAAAAAAAAAAAAAAAAAAAAAAAAAAAAAAAAAAAAAAAAAAAAAAAAAAAAAAAAAAAAAAAAAAAAAAAAAAAAAAAAAAAAAAAAAAAAAAAAAAAAAAAAAAAAAAAAAAAAAAAAAAAAAAAAAAAAAAAAAAAAAAAAAAAAAAAAAAAAAAAAAAAAAAAAAAAAAAAAAAAAAAAAAAAAAAAAAAAAAAAAAAAAAAAAAAAAAAAAAAAAAAAAAAAAAAAAAAAAAAAAAAAAAAAAAAAAAAAAAAAAAAAAAAAAAAAAAAAAAAAAAAAAAAAAAAAAAAAAAAAAAAAAAAAAAAAAAAAAAAAAAAAAAAAAAAAAAAAAAAAAAAAAAAAAAAAAAAAAAAAAAAAAAAAAAAAAAAAAAAAAAAAAAAAAAAAAAAAAAAAAAAAAAAAAAAAAAAAAAAAAAAAAAAAAAAAAAAAAAAAAAAAAAAAAAAAAAAAAAAAAAAAAAAAAAAAAAAAAAAAAAAAAAAAAAAAAAAAAAAAAAAAAAAAAAAAAAAAAAAAAAAAAAAAAAAAAAAAAAAAAAAAAAAAAAAAAAAAAAAAAAAAAAAAAAAAAAAAAAAAAAAAAAAAAAAAAAAAAAAAAAAAAAAAAAAAAAAAAAAAAAAAAAAAAAAAAAAAAAAAAAAAAAAAAAAAAAAAAAAAAAAAAAAAAAAAAAAAAAAAAAAAAAAAAAAAAAAAAAAAAAAAAAAAAAAAAAAAAAEFsZXNzaWEgTG9pAAAFkAMAAgAAABQAABCkkAQAAgAAABQAABC4kpEAAgAAAAM3NwAAkpIAAgAAAAM3NwAA6hwABwAACAwAAAiYAAAAABzqAAAACAAAAAAAAAAAAAAAAAAAAAAAAAAAAAAAAAAAAAAAAAAAAAAAAAAAAAAAAAAAAAAAAAAAAAAAAAAAAAAAAAAAAAAAAAAAAAAAAAAAAAAAAAAAAAAAAAAAAAAAAAAAAAAAAAAAAAAAAAAAAAAAAAAAAAAAAAAAAAAAAAAAAAAAAAAAAAAAAAAAAAAAAAAAAAAAAAAAAAAAAAAAAAAAAAAAAAAAAAAAAAAAAAAAAAAAAAAAAAAAAAAAAAAAAAAAAAAAAAAAAAAAAAAAAAAAAAAAAAAAAAAAAAAAAAAAAAAAAAAAAAAAAAAAAAAAAAAAAAAAAAAAAAAAAAAAAAAAAAAAAAAAAAAAAAAAAAAAAAAAAAAAAAAAAAAAAAAAAAAAAAAAAAAAAAAAAAAAAAAAAAAAAAAAAAAAAAAAAAAAAAAAAAAAAAAAAAAAAAAAAAAAAAAAAAAAAAAAAAAAAAAAAAAAAAAAAAAAAAAAAAAAAAAAAAAAAAAAAAAAAAAAAAAAAAAAAAAAAAAAAAAAAAAAAAAAAAAAAAAAAAAAAAAAAAAAAAAAAAAAAAAAAAAAAAAAAAAAAAAAAAAAAAAAAAAAAAAAAAAAAAAAAAAAAAAAAAAAAAAAAAAAAAAAAAAAAAAAAAAAAAAAAAAAAAAAAAAAAAAAAAAAAAAAAAAAAAAAAAAAAAAAAAAAAAAAAAAAAAAAAAAAAAAAAAAAAAAAAAAAAAAAAAAAAAAAAAAAAAAAAAAAAAAAAAAAAAAAAAAAAAAAAAAAAAAAAAAAAAAAAAAAAAAAAAAAAAAAAAAAAAAAAAAAAAAAAAAAAAAAAAAAAAAAAAAAAAAAAAAAAAAAAAAAAAAAAAAAAAAAAAAAAAAAAAAAAAAAAAAAAAAAAAAAAAAAAAAAAAAAAAAAAAAAAAAAAAAAAAAAAAAAAAAAAAAAAAAAAAAAAAAAAAAAAAAAAAAAAAAAAAAAAAAAAAAAAAAAAAAAAAAAAAAAAAAAAAAAAAAAAAAAAAAAAAAAAAAAAAAAAAAAAAAAAAAAAAAAAAAAAAAAAAAAAAAAAAAAAAAAAAAAAAAAAAAAAAAAAAAAAAAAAAAAAAAAAAAAAAAAAAAAAAAAAAAAAAAAAAAAAAAAAAAAAAAAAAAAAAAAAAAAAAAAAAAAAAAAAAAAAAAAAAAAAAAAAAAAAAAAAAAAAAAAAAAAAAAAAAAAAAAAAAAAAAAAAAAAAAAAAAAAAAAAAAAAAAAAAAAAAAAAAAAAAAAAAAAAAAAAAAAAAAAAAAAAAAAAAAAAAAAAAAAAAAAAAAAAAAAAAAAAAAAAAAAAAAAAAAAAAAAAAAAAAAAAAAAAAAAAAAAAAAAAAAAAAAAAAAAAAAAAAAAAAAAAAAAAAAAAAAAAAAAAAAAAAAAAAAAAAAAAAAAAAAAAAAAAAAAAAAAAAAAAAAAAAAAAAAAAAAAAAAAAAAAAAAAAAAAAAAAAAAAAAAAAAAAAAAAAAAAAAAAAAAAAAAAAAAAAAAAAAAAAAAAAAAAAAAAAAAAAAAAAAAAAAAAAAAAAAAAAAAAAAAAAAAAAAAAAAAAAAAAAAAAAAAAAAAAAAAAAAAAAAAAAAAAAAAAAAAAAAAAAAAAAAAAAAAAAAAAAAAAAAAAAAAAAAAAAAAAAAAAAAAAAAAAAAAAAAAAAAAAAAAAAAAAAAAAAAAAAAAAAAAAAAAAAAAAAAAAAAAAAAAAAAAAAAAAAAAAAAAAAAAAAAAAAAAAAAAAAAAAAAAAAAAAAAAAAAAAAAAAAAAAAAAAAAAAAAAAAAAAAAAAAAAAAAAAAAAAAAAAAAAAAAAAAAAAAAAAAAAAAAAAAAAAAAAAAAAAAAAAAAAAAAAAAAAAAAAAAAAAAAAAAAAAAAAAAAAAAAAAAAAAAAAAAAAAAAAAAAAAAAAAAAAAAAAAAAAAAAAAAAAAAAAAAAAAAAAAAAAAAAAAAAAAAAAAAAAAAAAAAAAAAAAAAAAAAAAAAAAAAAAAAAAAAAAAAAAAAAAAAAAAAAAAAAAAAAAAAAAAAAAAAAAAAAAAAAAAAAAAAAAAAAAAAAAAAAAAAAAAAAAAAAAAAAAAAAAAAAAAAAAAAAAAAAAAAAAAAAAAAAAAAAAAAAAAAAAAAAAAAAAAAAAAAAAAAAAAAAAAAAAAAAAAAAAAAAAAAAAAAAAAAAAAAAAAAAAAAAAAAAAAAAAAAAAAAAAAAAAAAAAAAAAAAAAAAAAAAAAAAAAAAAAAAAAAAAAAAAAAAAAAAAAAAAAAAAAAAAAAAAAAAAAAAAAAAAAAAAAAAAAAAAAAAAAAAAAAAAAAAAAAAAAAAAAAAAAAAAAAAAAAAAAAAAAAAAAAAAAAAAAAAAAAAAAAAAAAAAAAAAAAAAAAAAAAAAAAAAAAAAAAAAAAAAAAAAAAAAAAAAAAAAAAAAAAAAAAAAAAAAAAAAAAAAAAAAAAAAAAAAAAAAAAAAAAAAAAAAAAAAAAAAAAAAAAAAAAAAAAAAAAAAAAAAAAAAAAAAAAAAAAAAAAAAAAAAAAAAAAAAAAAAAAAAAAAAAAAAAAAAAAAAAAAAAAAAAAAAAAAAAAAAAAAAAAAAAAAAAAAAAAAAAAAAAAAAAAAAAAAAAAAAAAAAAAAAAAAAAAAAAAAAAAAAAAAAAAAAAAAAAAAAAAAAAAAAAAAAAAAAAAAAAAAAAAAAAAAAAAAAAAAAAAAAAAAAAAAAAAAAAAAAAAAAAAAAAAAAAAAAAAAAAAAAAAAMjAyMTowMzozMCAwNzowNjoyNQAyMDIxOjAzOjMwIDA3OjA2OjI1AAAAQQBsAGUAcwBzAGkAYQAgAEwAbwBpAAAA/+ELHmh0dHA6Ly9ucy5hZG9iZS5jb20veGFwLzEuMC8APD94cGFja2V0IGJlZ2luPSfvu78nIGlkPSdXNU0wTXBDZWhpSHpyZVN6TlRjemtjOWQnPz4NCjx4OnhtcG1ldGEgeG1sbnM6eD0iYWRvYmU6bnM6bWV0YS8iPjxyZGY6UkRGIHhtbG5zOnJkZj0iaHR0cDovL3d3dy53My5vcmcvMTk5OS8wMi8yMi1yZGYtc3ludGF4LW5zIyI+PHJkZjpEZXNjcmlwdGlvbiByZGY6YWJvdXQ9InV1aWQ6ZmFmNWJkZDUtYmEzZC0xMWRhLWFkMzEtZDMzZDc1MTgyZjFiIiB4bWxuczpkYz0iaHR0cDovL3B1cmwub3JnL2RjL2VsZW1lbnRzLzEuMS8iLz48cmRmOkRlc2NyaXB0aW9uIHJkZjphYm91dD0idXVpZDpmYWY1YmRkNS1iYTNkLTExZGEtYWQzMS1kMzNkNzUxODJmMWIiIHhtbG5zOnhtcD0iaHR0cDovL25zLmFkb2JlLmNvbS94YXAvMS4wLyI+PHhtcDpDcmVhdGVEYXRlPjIwMjEtMDMtMzBUMDc6MDY6MjUuNzcwPC94bXA6Q3JlYXRlRGF0ZT48L3JkZjpEZXNjcmlwdGlvbj48cmRmOkRlc2NyaXB0aW9uIHJkZjphYm91dD0idXVpZDpmYWY1YmRkNS1iYTNkLTExZGEtYWQzMS1kMzNkNzUxODJmMWIiIHhtbG5zOmRjPSJodHRwOi8vcHVybC5vcmcvZGMvZWxlbWVudHMvMS4xLyI+PGRjOmNyZWF0b3I+PHJkZjpTZXEgeG1sbnM6cmRmPSJodHRwOi8vd3d3LnczLm9yZy8xOTk5LzAyLzIyLXJkZi1zeW50YXgtbnMjIj48cmRmOmxpPkFsZXNzaWEgTG9pPC9yZGY6bGk+PC9yZGY6U2VxPg0KCQkJPC9kYzpjcmVhdG9yPjwvcmRmOkRlc2NyaXB0aW9uPjwvcmRmOlJERj48L3g6eG1wbWV0YT4NCiAgICAgICAgICAgICAgICAgICAgICAgICAgICAgICAgICAgICAgICAgICAgICAgICAgICAgICAgICAgICAgICAgICAgICAgICAgICAgICAgICAgICAgICAgICAgICAgICAgICAKICAgICAgICAgICAgICAgICAgICAgICAgICAgICAgICAgICAgICAgICAgICAgICAgICAgICAgICAgICAgICAgICAgICAgICAgICAgICAgICAgICAgICAgICAgICAgICAgICAgIAogICAgICAgICAgICAgICAgICAgICAgICAgICAgICAgICAgICAgICAgICAgICAgICAgICAgICAgICAgICAgICAgICAgICAgICAgICAgICAgICAgICAgICAgICAgICAgICAgICAgCiAgICAgICAgICAgICAgICAgICAgICAgICAgICAgICAgICAgICAgICAgICAgICAgICAgICAgICAgICAgICAgICAgICAgICAgICAgICAgICAgICAgICAgICAgICAgICAgICAgICAKICAgICAgICAgICAgICAgICAgICAgICAgICAgICAgICAgICAgICAgICAgICAgICAgICAgICAgICAgICAgICAgICAgICAgICAgICAgICAgICAgICAgICAgICAgICAgICAgICAgIAogICAgICAgICAgICAgICAgICAgICAgICAgICAgICAgICAgICAgICAgICAgICAgICAgICAgICAgICAgICAgICAgICAgICAgICAgICAgICAgICAgICAgICAgICAgICAgICAgICAgCiAgICAgICAgICAgICAgICAgICAgICAgICAgICAgICAgICAgICAgICAgICAgICAgICAgICAgICAgICAgICAgICAgICAgICAgICAgICAgICAgICAgICAgICAgICAgICAgICAgICAKICAgICAgICAgICAgICAgICAgICAgICAgICAgICAgICAgICAgICAgICAgICAgICAgICAgICAgICAgICAgICAgICAgICAgICAgICAgICAgICAgICAgICAgICAgICAgICAgICAgIAogICAgICAgICAgICAgICAgICAgICAgICAgICAgICAgICAgICAgICAgICAgICAgICAgICAgICAgICAgICAgICAgICAgICAgICAgICAgICAgICAgICAgICAgICAgICAgICAgICAgCiAgICAgICAgICAgICAgICAgICAgICAgICAgICAgICAgICAgICAgICAgICAgICAgICAgICAgICAgICAgICAgICAgICAgICAgICAgICAgICAgICAgICAgICAgICAgICAgICAgICAKICAgICAgICAgICAgICAgICAgICAgICAgICAgICAgICAgICAgICAgICAgICAgICAgICAgICAgICAgICAgICAgICAgICAgICAgICAgICAgICAgICAgICAgICAgICAgICAgICAgIAogICAgICAgICAgICAgICAgICAgICAgICAgICAgICAgICAgICAgICAgICAgICAgICAgICAgICAgICAgICAgICAgICAgICAgICAgICAgICAgICAgICAgICAgICAgICAgICAgICAgCiAgICAgICAgICAgICAgICAgICAgICAgICAgICAgICAgICAgICAgICAgICAgICAgICAgICAgICAgICAgICAgICAgICAgICAgICAgICAgICAgICAgICAgICAgICAgICAgICAgICAKICAgICAgICAgICAgICAgICAgICAgICAgICAgICAgICAgICAgICAgICAgICAgICAgICAgICAgICAgICAgICAgICAgICAgICAgICAgICAgICAgICAgICAgICAgICAgICAgICAgIAogICAgICAgICAgICAgICAgICAgICAgICAgICAgICAgICAgICAgICAgICAgICAgICAgICAgICAgICAgICAgICAgICAgICAgICAgICAgICAgICAgICAgICAgICAgICAgICAgICAgCiAgICAgICAgICAgICAgICAgICAgICAgICAgICAgICAgICAgICAgICAgICAgICAgICAgICAgICAgICAgICAgICAgICAgICAgICAgICAgICAgICAgICAgICAgICAgICAgICAgICAKICAgICAgICAgICAgICAgICAgICAgICAgICAgICAgICAgICAgICAgICAgICAgICAgICAgICAgICAgICAgICAgICAgICAgICAgICAgICAgICAgICAgICAgICAgICAgICAgICAgIAogICAgICAgICAgICAgICAgICAgICAgICAgICAgICAgICAgICAgICAgICAgICAgICAgICAgICAgICAgICAgICAgICAgICAgICAgICAgICAgICAgICAgICAgICAgICAgICAgICAgCiAgICAgICAgICAgICAgICAgICAgICAgICAgICAgICAgICAgICAgICAgICAgICAgICAgICAgICAgICAgICAgICAgICAgICAgICAgICAgICAgICAgICAgICAgICAgICAgICAgICAKICAgICAgICAgICAgICAgICAgICAgICAgICAgICAgICAgICAgICAgICAgICAgICAgICAgICAgICAgICAgICAgICAgICAgICAgICAgICAgICAgICAgICAgICAgICAgICAgICAgIAogICAgICAgICAgICAgICAgICAgICAgICAgICAgPD94cGFja2V0IGVuZD0ndyc/Pv/bAEMABwUFBgUEBwYFBggHBwgKEQsKCQkKFQ8QDBEYFRoZGBUYFxseJyEbHSUdFxgiLiIlKCkrLCsaIC8zLyoyJyorKv/bAEMBBwgICgkKFAsLFCocGBwqKioqKioqKioqKioqKioqKioqKioqKioqKioqKioqKioqKioqKioqKioqKioqKioqKv/AABEIANAArAMBIgACEQEDEQH/xAAfAAABBQEBAQEBAQAAAAAAAAAAAQIDBAUGBwgJCgv/xAC1EAACAQMDAgQDBQUEBAAAAX0BAgMABBEFEiExQQYTUWEHInEUMoGRoQgjQrHBFVLR8CQzYnKCCQoWFxgZGiUmJygpKjQ1Njc4OTpDREVGR0hJSlNUVVZXWFlaY2RlZmdoaWpzdHV2d3h5eoOEhYaHiImKkpOUlZaXmJmaoqOkpaanqKmqsrO0tba3uLm6wsPExcbHyMnK0tPU1dbX2Nna4eLj5OXm5+jp6vHy8/T19vf4+fr/xAAfAQADAQEBAQEBAQEBAAAAAAAAAQIDBAUGBwgJCgv/xAC1EQACAQIEBAMEBwUEBAABAncAAQIDEQQFITEGEkFRB2FxEyIygQgUQpGhscEJIzNS8BVictEKFiQ04SXxFxgZGiYnKCkqNTY3ODk6Q0RFRkdISUpTVFVWV1hZWmNkZWZnaGlqc3R1dnd4eXqCg4SFhoeIiYqSk5SVlpeYmZqio6Slpqeoqaqys7S1tre4ubrCw8TFxsfIycrS09TV1tfY2dri4+Tl5ufo6ery8/T19vf4+fr/2gAMAwEAAhEDEQA/ALVFFFfBHkBRRRQAUUUUAFFFFABRRRQAUUUUAFFFFABRRRQAUUUUAFFFFABRRRQAUUUUAFFFFABS4J6Va0xlTUIy5Crzkk+1WvD00SW1zvkQH7QxGWHTiu3D4X20ea9j1MJl7xNGVXmtZ22MvafQ/lQQR1Fdl/aaf89ofzFYevXMc15pzCSM/wCkAttI4HFXHAVL+80jopZRKpPlcrfIydp9D+VG0+h/KuxXUY0UKJocD/aFI+oxSKVaaHB/2hR9Qq81tLGf9lz7/gcfgnpRtPofyrU8PTRJbXO+RAftDEZYdOK3v7TT/ntD+YpywE9OR3/A1q5RKnNxUr/L/gnGkEdRRtPofyrW165jmvNOYSRn/SAW2kcDittdRjRQomhwP9oUSwE7aPUJZRKMIy5t/I47BHUGkrptWv0m0yVBLExOOFIz1FczXHVpSpS5ZHl4nDuhPlYUUUVkcwUUVb0xlTUIy5Crzkk+1XCPPJR7l04881HuVcE9KNp9D+Vanh6aJLa53yID9oYjLDpxW9/aaf8APaH8xXdLAT05Hf8AA9qrlEqc3FSv8v8AgnGUUUV5x4QUUUUAWbG1jvbxIJk3o2cqD14zWx/wi+n/APPm3/fTf41zc93JYwtcQSmJ06OO3aqf/CV6l/0E5Pzr1MJKooPlS36n1mS06s8O3Cpyq/e3RG3Ho9k3iWS0MOYVgDBdx65Fav8Awi+n/wDPm3/fTf41wS65drqbXIvGDlNu/NXf+Er1L/oJyfnXdKUvsJfM92VOtO3LVtbTd/edHq2gWNppc80dsUdUypLN/jUmn+HrC40+CVrUuzRqWIZupH1rkb3xFfXVq8ct+8gYY2k9ada+Jb+3tkjj1B0CqBgHpRzS5dlf8A9nW5eT2uu97v7jtf8AhF9P/wCfNv8Avpv8ayo9Hsm8SyWhhzCsAYLuPXIrE/4SvUv+gnJ+dUl1y7XU2uReMHKbd+aIyl9pL5BGnWhfmq3vpu/vO9/4RfT/APnzb/vpv8apatoFjaaXPNHbFHVMqSzf41zn/CV6l/0E5PzqC98RX11avHLfvIGGNpPWlGVS/vJWFGlXg1KVVNLzZ0y6RaR6HHeRwES+WpL7j1OM1n1n6drV1MkVm92zRFQDHnjgVoV5eNbdT5HyedqSxKcpXuv1egUUUVxHhhVmxtY728SCZN6NnKg9eM1Wpk93JYwtcQSmJ06OO3atKV/aK3c6cIm8RBJ2d1+Z0n/CL6f/AM+bf99N/jXJ6/aQ2WqGG2TYgQHGSaj/AOEr1L/oJyfnWPqGo3F1dGR52kOANxr3oym17yXyP0Ok6mHlz1J8y7J3Onooor50/MwooooAraiUWwkMn3eM5HvXOl4PtII27NvPy963tXuI7XS5ZpgSi4zgZ7iuY/4SDTz0WT/v1Xs4GEpU20up9lkcoLDNSkl719fRF7zbX0X/AL5qKZ4C0ezbgN83y9qyNV1a3uoYVtllBWVWb5COKvf8JBp46rJ/36r0HRna9j3HXpzbg5RW2v8ATL3m2vov/fNHm2vov/fNUv7f0/8AuS/9+qq2muwLJP8AaY2CmT93tjP3fel7Gp2KeJpqSXNHXy/4JpF4PtII27NvPy96l8219F/75qj/AMJBp56LJ/36qjqurW91DCtssoKyqzfIRxTjRm3ZomVenTi5KUX/AF6mvM8BaPZtwG+b5e1S+ba+i/8AfNUf+Eg08dVk/wC/VL/b+n/3Jf8Av1U+yn2LVWkm3zx1/rua2nSW5v4xGF3c4wvtW7XH+HdVS41honQgu7GI7CPlwetdhXkY+LjVSfY+KzuoquIjJW26erCiiivPPDCq2olFsJDJ93jOR71Zqlq9xHa6XLNMCUXGcDPcVrRTdSKXdHVg2liabf8AMvzMEvB9pBG3Zt5+XvUvm2vov/fNUf8AhINPPRZP+/VL/b9h/cl/79V9F7Kp2P0eNWlG/vx1/rudnRRRXzB+XBRRRQBb0wouoRmQqF5yW6dKs+HpIEtrne0YP2hiNxHTiqljax3t4kEyb0bOVB68ZrY/4RfT/wDnzb/vpv8AGvYwMkqbu+p9NlM6Sw0ozb1f9dTQ/tGL/npB+YrE16aGa805g0R/0gFtpHA4qrHo9k3iWS0MOYVgDBdx65Fav/CL6f8A8+bf99N/jXWoU6bukkexGOHoTUrvbsuvzL638KKFWSDA9xQ99BIhVpIMH3FYeraBY2mlzzR2xR1TKks3+NSaf4esLjT4JWtS7NGpYhm6kfWl7OlfnsvUy9jh+T2l3vbZf5kfh6SBLa53tGD9oYjcR04rd/tGL/npB+YrP/4RfT/+fNv++m/xrKj0eybxLJaGHMKwBgu49ciqlGnUXvJOxrKNCvOU7vvsv8y1r00M15pzBoj/AKQC20jgcVtLfwooVZIMD3FUP+EX0/8A582/76b/ABqlq2gWNppc80dsUdUypLN/jScac1yuzJ/2eqoU03p5Lr8zR1a9jl0yVFeEk44XGetc1WgukWkehx3kcBEvlqS+49TjNZ9eTjIxhUSiraHzOaxhCvyw7fqwoooriPJCremFF1CMyFQvOS3TpVSrNjax3t4kEyb0bOVB68ZrWjpUj6o3w9vbQvtdfmW/D0kCW1zvaMH7QxG4jpxW7/aMX/PSD8xWf/wi+n/8+bf99N/jXJ6/aQ2WqGG2TYgQHGSa96UadRe8k7H3caNHGVXyt39F/mW6KKK+cPz0KKKKAGT3cljC1xBKYnTo47dqp/8ACV6l/wBBOT86m1EothIZPu8ZyPeudLwfaQRt2befl716mEhGUG2up9lkbisM7qPxdfRfgX11y7XU2uReMHKbd+au/wDCV6l/0E5PzrI8219F/wC+aimeAtHs24DfN8vau2UYy+JXPflyRV3ys1b3xFfXVq8ct+8gYY2k9ada+Jb+3tkjj1B0CqBgHpWb5tr6L/3zR5tr6L/3zRyxty20KtC+8Lduhr/8JXqX/QTk/OqS65drqbXIvGDlNu/NUC8H2kEbdm3n5e9S+ba+i/8AfNEYxj8KsSuSW3KrP7/+Aa//AAlepf8AQTk/OoL3xFfXVq8ct+8gYY2k9aypngLR7NuA3zfL2qXzbX0X/vmkoQTukg9xtpcq8zW07WrqZIrN7tmiKgGPPHArQrC06S3N/GIwu7nGF9q3a8zGfxPkfG59ZYmNrfCtvVhRRRXEeAFMnu5LGFriCUxOnRx27U+q2olFsJDJ93jOR71pSV6iT7nXg7fWad/5lv6kP/CV6l/0E5PzrH1DUbi6ujI87SHAG41GXg+0gjbs28/L3qXzbX0X/vmvdjGMfhVj9EajNNRcY+mh01FFc14q8RyaRLBaW4UPcA7pc5aIZAzjvwa8SjRnWmoQ3Z+ZRi5OyOlorz6x12907X4o3v5L6yncR7rjKlRnG7npXoCOsiBkYMp6EHINdGNwNXBVOSoKyspLZlPV7iO10uWabOxcZwM9xXMf8JBp392T/v1XaEZ60m1f7o/KjD4qNGPK43+f/APYwObVMFTdOMU7u557qur211DCtt5gZZQzfJjir/8AwkGnf3ZP+/VWPF+v3WlSR29pH5IkH+vZMhv9lff3qnaNrWhS6Zc6jdfaItRkWL7NLIWZA3Rs4wOCDwTXprEKUE+T01/4B79HHYydGWLjGNu19dPL/Mk/4SDTv7sn/fqqtpr1usk/2lGCmTMe2M/d967w+WGCnbuPIHc0u1f7o/KuX+0Kf8n4/wDAPMfENZyUuRaHGf8ACQad/dk/79VQ1XV7a6hhW28wMsoZvkxxXoW1f7o/Kjav90flTjmEIu6h+P8AwAnxBWnFxcEcZ/wkGnf3ZP8Av1R/wkGnf3ZP+/VdntX+6Pyo2r/dH5Uvr9P+T8f+AX/rHX/kRyHhzVo7jWGiZSC7t5WE/hwetdhSBQOgA/ClrhxNZVp8yVjw8Zi5YqanJWsrfi3+oUVzXirxHJpEsFpbhQ9wDulzlohkDOO/BrDsddvdO1+KN7+S+sp3Ee64ypUZxu56V1Ucsr1qEq8dkcyjsu+x6DVLV7iO10uWabOxcZwM9xVxHWRAyMGU9CDkGlIz1rz4S5JqT6FUajo1Y1F0af3HF/8ACQad/dk/79Uf8JBp392T/v1XZ7V/uj8qNq/3R+Vep9fp/wAn4/8AAPo/9Y6/8iMjXNUa0MVpbOqTz5y5OfKX1x/L6VzstlBI0mmXEqSSECeKR2+eMgjILn5sHPGTWx4hhW31CDUC3loYzFNIwyqgcr+pNc9oWrW2ja9O+qWkN3ZNbtb2zyMVETMQRKTg84B+p9K9vL44algY1Iq823fXXTyPl8Oq08S0naCXbf59LdiCWCcah5txCFhtT52JFOHC84+bhs4xnmti1u5tKVL9Z1njnIMkS8KR/sAcLj2qr4iGiRaRE2najqF3e3UZCOxDox6HK8bQTnvx71jxanehZBcwW8U04VXjBIYgcZC8+vrXqVKtHFzlHFJO6+63l1NMTRq06UFQeieq7/PoepI6yxq8bB0YZVlOQR61HeXcVhZTXVwSIoULuQM4Apba3S0tYreLOyJAi5POAMVx/wARNTMUFrp8LqWkbzJEH3gB938M5r4ClT9pUUVt+hphqLr1o0l1ZzniDWp9cuhNLlII2/dRZ4X3Pqa3Ln7bqWm2UEF017c2zK0HlJwG2AqOnJHGR2Aya4+ODfMkbSKGY87jgAAZxXT6nfXdva2eoaVGtilpGq+Sj7x656DGc8j1J57V9BRpLpHRbdv8/uPt8eqOFhDDUUl3766fj5mta3FzfSR6pcRTK8MlsjIqt/F5udo7g7O3p7V1qOssavGwdGGVZTkEetcRYa4NZtJ0M62jzOiR2sEnzE872xjnPHGR0ruQAAABgDoBXj4x6pWtbT9f1/A+PxtGNKSigooorgOAKKKKACsfXNUa0MVpbOqTz5y5OfKX1x/L6VsVzviGFbfUINQLeWhjMU0jDKqByv6k16eV06NXGQhW+FsyrSlGnJw3toY8tlBI0mmXEqSSECeKR2+eMgjILn5sHPGTWfLBONQ824hCw2p87EinDhecfNw2cYzzU+hatbaNr076paQ3dk1u1vbPIxURMxBEpODzgH6n0qfxENEi0iJtO1HULu9uoyEdiHRj0OV42gnPfj3r7FYpQU4U0lF/PbzPSo0JcsJ1XeSXpv5dC1a3c2lKl+s6zxzkGSJeFI/2AOFx7V2COssavGwdGGVZTkEeteWxanehZBcwW8U04VXjBIYgcZC8+vrXp9tbpaWsVvFnZEgRcnnAGK+ezqOHtTqUlZyWvX8TzoRrxlJVnfXR7EtFFFfOGhT1cWp0e6F+SLbyj5pGfu/hzXJWFlcXdvb6dDFFLfao+11ON2/aW6e20496s3Vv4la7nmvolurDkmzicfvF/u9M8/WsPWn8R6tqCzWmj3No3m70ZUKlCePvDtzX1OVzWEpzcZx5pKye9v66mssNCqoqctE02u9jcvtL0fRtCFpqb6kb2abZsmhlhEj4CbWfAUqABnBPTIzSeGLO3sdeeFmUv5JeAxjCkk/vMY47JXPX3h7xcqRz3u++WFwyx+e0pznqBmtJrrWbjT4If7Cuob2By0V2ibducZGOhHA/KtZSo1sLKleN31XkdNW9SfMp6Weh6BXlni17vVfFMrW1pJKkCiJGiQuHA5zx7kj8K77w/Hq8dm8euMjyhvkdTkke+K4HVdfgsY7qw0e51NkbeCcoqqxJyPuZx+NeRgKSVWS3t1WxpgKv1ev7RK9iIWV14aaK71NUSWW2eRIHI8xOVAJU9Cc/lmm+H9S+0/bLS/uSPOUkO7jaueuM1nJqEN1qMUt9p9xd7VKrG0hO9j0yTyR7VJfW93DfNc65pMlnHMoRAsZVVIAHAPsK91S5GoI9KpWjXrN1OvX9CG1nksNThmtj88cgZCQCM17LZXiXsAdAUb+JG6qf6j0I4PUV5DY6hDdXQgbQFdnG2M2u8SbuxG4kfpXrGkWjQ2KTSibz50VpDPjeMDAU4AHA44FeLmEYqN5LXocmZYiGIUXy2ktPUvUUuCelG0+h/KvGPGEopSCOoo2n0P5UAJVPVxanR7oX5ItvKPmkZ+7+HNXcEdQa466t/ErXc819Et1Yck2cTj94v93pnn610Yekqk9ZJW7/AKGkI3e9itYWVxd29vp0MUUt9qj7XU43b9pbp7bTj3qzfaXo+jaELTU31I3s02zZNDLCJHwE2s+ApUADOCemRmsPWn8R6tqCzWmj3No3m70ZUKlCePvDtzUN94e8XKkc97vvlhcMsfntKc56gZr66ti6c6kE3FRSSS/4PnodFClCgp2leUm23+X3HQ+GLO3sdeeFmUv5JeAxjCkk/vMY47JXY15+11rNxp8EP9hXUN7A5aK7RNu3OMjHQjgflXV+H49Xjs3j1xkeUN8jqckj3xXhZpCE6rrQkrPpcwlTcYq8r2NWilwT0o2n0P5V4xkJRRRSAKKKKALemMqahGXIVeckn2qz4ee3W3ufMaIE3DEbiPaqljax3t4kEyb0bOVB68ZrY/4RfT/+fNv++m/xr2MDJKm7vqfTZTOksNKM29X+XzND+0If+elv+lYmvzxT3mnNvjbFwCcEcdKqx6PZN4lktDDmFYAwXceuRWr/AMIvp/8Az5t/303+NdahTpu6SR68Y4ehNSu9uy6/MvpfwxqAskAx05FK+oxSKVaaHB/2hWFq2gWNppc80dsUdUypLN/jUmn+HrC40+CVrUuzRqWIZupH1pezo357L1M/Y4fk9pd722X+Yzw9NEltc75EB+0MRlh04re/tNP+e0P5is3/AIRfT/8Anzb/AL6b/GsqPR7JvEsloYcwrAGC7j1yKqUKdRe8k7Gko4evOU7vvsv8y3r1zHNeacwkjP8ApALbSOBxW2uoxooUTQ4H+0Kzv+EX0/8A582/76b/ABqlq2gWNppc80dsUdUypLN/jScaU1yuzFbD1VCmm9PJdfmaWrX6TaZKgliYnHCkZ6iuZrQXSLSPQ47yOAiXy1Jfcepxms+vJxkIQqJRVtD5jNYwhX5Ydv1YUUUVxHlBVvTGVNQjLkKvOST7VUqzY2sd7eJBMm9GzlQevGa1o6VI+qN8Pb20L7XX5lzw9NEltc75EB+0MRlh04re/tNP+e0P5is3/hF9P/582/76b/GuT1+0hstUMNsmxAgOMk170o06i95J2Puo0aOMqvlbv6L/ADLdFFFfOH58FFFFADJ7uSxha4glMTp0cdu1U/8AhK9S/wCgnJ+dTaiUWwkMn3eM5HvXOl4PtII27NvPy969TCQjKDbXU+yyNxWGd1H4uvovwL665drqbXIvGDlNu/NXf+Er1L/oJyfnWR5tr6L/AN81FM8BaPZtwG+b5e1dsoxl8Sue/LkirvlZq3viK+urV45b95AwxtJ60618S39vbJHHqDoFUDAPSs3zbX0X/vmjzbX0X/vmjljbltoVaF94W7dDX/4SvUv+gnJ+dUl1y7XU2uReMHKbd+aoF4PtII27NvPy96l8219F/wC+aIxjH4VYlcktuVWf3/8AANf/AISvUv8AoJyfnUF74ivrq1eOW/eQMMbSetZUzwFo9m3Ab5vl7VL5tr6L/wB80lCCd0kHuNtLlXma2na1dTJFZvds0RUAx544FaFYWnSW5v4xGF3c4wvtW7XmYz+J8j43PrLExtb4Vt6sKKKK4jwApk93JYwtcQSmJ06OO3an1W1EothIZPu8ZyPetKSvUSfc68Hb6zTv/Mt/Uh/4SvUv+gnJ+dY+oajcXV0ZHnaQ4A3Goy8H2kEbdm3n5e9S+ba+i/8AfNe7GMY/CrH6I1Gaai4x9NDpqKKK+ePzAKKKKAKWr3Edrpcs0wJRcZwM9xXMf8JBp56LJ/36rv8ATCi6hGZCoXnJbp0qz4ekgS2ud7Rg/aGI3EdOK9vL+X2buuv+R9bk1arTws3C2j7dzynVdWt7qGFbZZQVlVm+Qjir3/CQaeOqyf8AfqvZf7Ri/wCekH5isTXpoZrzTmDRH/SAW2kcDiu2Mm9JxsvX/gHqUcTiJVXolfy7Hm39v6f/AHJf+/VVbTXYFkn+0xsFMn7vbGfu+9e2rfwooVZIMD3FD30EiFWkgwfcVKbvbk09f+AZvG4hyTstPI8b/wCEg089Fk/79VR1XVre6hhW2WUFZVZvkI4r1bw9JAltc72jB+0MRuI6cVu/2jF/z0g/MVblytOEb/P/AIBpicTiLunZfceNf8JBp46rJ/36pf7f0/8AuS/9+q9J16aGa805g0R/0gFtpHA4raW/hRQqyQYHuKmW2kdfX/gFyxmJjCMrLXyPH/Duqpcaw0ToQXdjEdhHy4PWuwrpdWvY5dMlRXhJOOFxnrXNV42ObdRXVtO9/wBEfIZpOc60eft+rCiiiuE8oKpavcR2ulyzTAlFxnAz3FXat6YUXUIzIVC85LdOlbUbe1jfujowsnGvCS3TX5nAf8JBp56LJ/36pf7fsP7kv/fqvR/D0kCW1zvaMH7QxG4jpxW7/aMX/PSD8xX0MrWXJG/zt+h95VxmIpzcUk/kcdRRRXzB+dhRRRQBZsbWO9vEgmTejZyoPXjNbH/CL6f/AM+bf99N/jXNz3cljC1xBKYnTo47dqp/8JXqX/QTk/OvUwkqig+VLfqfWZLTqzw7cKnKr97dEbcej2TeJZLQw5hWAMF3HrkVq/8ACL6f/wA+bf8AfTf41wS65drqbXIvGDlNu/NXf+Er1L/oJyfnXdKUvsJfM92VOtO3LVtbTd/edHq2gWNppc80dsUdUypLN/jUmn+HrC40+CVrUuzRqWIZupH1rkb3xFfXVq8ct+8gYY2k9ada+Jb+3tkjj1B0CqBgHpRzS5dlf8A9nW5eT2uu97v7jtf+EX0//nzb/vpv8ayo9Hsm8SyWhhzCsAYLuPXIrE/4SvUv+gnJ+dUl1y7XU2uReMHKbd+aIyl9pL5BGnWhfmq3vpu/vO9/4RfT/wDnzb/vpv8AGqWraBY2mlzzR2xR1TKks3+Nc5/wlepf9BOT86gvfEV9dWrxy37yBhjaT1pRlUv7yVhRpV4NSlVTS82dMukWkehx3kcBEvlqS+49TjNZ9Z+na1dTJFZvds0RUAx544FaFeXjW3U+R8nnaksSnKV7r9XoFFFFcR4YVZsbWO9vEgmTejZyoPXjNVqZPdyWMLXEEpidOjjt2rSlf2it3OnCJvEQSdndfmdJ/wAIvp//AD5t/wB9N/jXJ6/aQ2WqGG2TYgQHGSaj/wCEr1L/AKCcn51j6hqNxdXRkedpDgDca96Mpte8l8j9DpOph5c9SfMuydz/2Q==)\n",
    "\n",
    "* Contrairement à A*, Local Repair A* permet de parcourir les mêmes cases plusieurs fois. Il n'y a pas de limites au nombre de visites sur une même case, et cela implique une information nulle sur l'environnemment déjà parcouru.\n",
    "\n",
    "Vu que la detection de la collision ne peut arriver que au niveau locale, cette approche ne permet pas d'évaluer une zone plus large de 8 carreau autour d'un joueur. Le resultat dependera completement du nombre de collision rencontrées sur son propre chemin et aussi du risque de boucles ou blocages representé par un nombre élevé d'agents et un map dense.\n",
    "De plus, il n'y a aucune communication entre agents d'une même équipe, ce qui ne favorise pas des strategies collaboratives de detection ou action. \n",
    "\n",
    "\n",
    "\n",
    "\n"
   ]
  },
  {
   "cell_type": "markdown",
   "metadata": {
    "id": "aVAhkn3TNDoG"
   },
   "source": [
    "## Collaborative Pathfinding with A*\n",
    "**Description générale**\n",
    "\n",
    "---\n",
    "\n",
    "**Implementation**\n",
    "\n",
    "    collaborativePathfinding(equipe,posPlayersEquipe,posPlayersAdv,objectifsEquipe,initStatesEquipe,scoreEquipe,verbose=False,stepwise=False)\n",
    "\n",
    "    collaborativePath(p,reservationTable,verbose=False,stepwise=False)\n",
    "\n",
    "    freeExCollaborativePath(p,reservationTable,verbose=False,stepwise=False)\n",
    "\n",
    "\n",
    "---\n",
    "\n",
    "L'algorithme \"Collaborative Pathfinding with A*\\\" permet à chaque agent au sein d'une équipe de calculer son propre chemin avec A* en prenant en compte les chemins déjà contituées par les autres co-équipiers, de manière à eviter toute collision parmi eux. Cela est possible grâce à un système de reservations des cases répresenté par une structure de données en 3 dimensions (x, y, temps) qui assure le passage d'un seul agent sur la case (x,y) au moment t. L'agent interessé à une case déjà reservée, attendra le temps necessaire pour qu'elle se libère, en réservant la même case à un creneau successif disponible.\n",
    "\n",
    "![img.JPG](data:image/jpeg;base64,/9j/4AAQSkZJRgABAQEAeAB4AAD/4RDuRXhpZgAATU0AKgAAAAgABAE7AAIAAAAMAAAISodpAAQAAAABAAAIVpydAAEAAAAYAAAQzuocAAcAAAgMAAAAPgAAAAAc6gAAAAgAAAAAAAAAAAAAAAAAAAAAAAAAAAAAAAAAAAAAAAAAAAAAAAAAAAAAAAAAAAAAAAAAAAAAAAAAAAAAAAAAAAAAAAAAAAAAAAAAAAAAAAAAAAAAAAAAAAAAAAAAAAAAAAAAAAAAAAAAAAAAAAAAAAAAAAAAAAAAAAAAAAAAAAAAAAAAAAAAAAAAAAAAAAAAAAAAAAAAAAAAAAAAAAAAAAAAAAAAAAAAAAAAAAAAAAAAAAAAAAAAAAAAAAAAAAAAAAAAAAAAAAAAAAAAAAAAAAAAAAAAAAAAAAAAAAAAAAAAAAAAAAAAAAAAAAAAAAAAAAAAAAAAAAAAAAAAAAAAAAAAAAAAAAAAAAAAAAAAAAAAAAAAAAAAAAAAAAAAAAAAAAAAAAAAAAAAAAAAAAAAAAAAAAAAAAAAAAAAAAAAAAAAAAAAAAAAAAAAAAAAAAAAAAAAAAAAAAAAAAAAAAAAAAAAAAAAAAAAAAAAAAAAAAAAAAAAAAAAAAAAAAAAAAAAAAAAAAAAAAAAAAAAAAAAAAAAAAAAAAAAAAAAAAAAAAAAAAAAAAAAAAAAAAAAAAAAAAAAAAAAAAAAAAAAAAAAAAAAAAAAAAAAAAAAAAAAAAAAAAAAAAAAAAAAAAAAAAAAAAAAAAAAAAAAAAAAAAAAAAAAAAAAAAAAAAAAAAAAAAAAAAAAAAAAAAAAAAAAAAAAAAAAAAAAAAAAAAAAAAAAAAAAAAAAAAAAAAAAAAAAAAAAAAAAAAAAAAAAAAAAAAAAAAAAAAAAAAAAAAAAAAAAAAAAAAAAAAAAAAAAAAAAAAAAAAAAAAAAAAAAAAAAAAAAAAAAAAAAAAAAAAAAAAAAAAAAAAAAAAAAAAAAAAAAAAAAAAAAAAAAAAAAAAAAAAAAAAAAAAAAAAAAAAAAAAAAAAAAAAAAAAAAAAAAAAAAAAAAAAAAAAAAAAAAAAAAAAAAAAAAAAAAAAAAAAAAAAAAAAAAAAAAAAAAAAAAAAAAAAAAAAAAAAAAAAAAAAAAAAAAAAAAAAAAAAAAAAAAAAAAAAAAAAAAAAAAAAAAAAAAAAAAAAAAAAAAAAAAAAAAAAAAAAAAAAAAAAAAAAAAAAAAAAAAAAAAAAAAAAAAAAAAAAAAAAAAAAAAAAAAAAAAAAAAAAAAAAAAAAAAAAAAAAAAAAAAAAAAAAAAAAAAAAAAAAAAAAAAAAAAAAAAAAAAAAAAAAAAAAAAAAAAAAAAAAAAAAAAAAAAAAAAAAAAAAAAAAAAAAAAAAAAAAAAAAAAAAAAAAAAAAAAAAAAAAAAAAAAAAAAAAAAAAAAAAAAAAAAAAAAAAAAAAAAAAAAAAAAAAAAAAAAAAAAAAAAAAAAAAAAAAAAAAAAAAAAAAAAAAAAAAAAAAAAAAAAAAAAAAAAAAAAAAAAAAAAAAAAAAAAAAAAAAAAAAAAAAAAAAAAAAAAAAAAAAAAAAAAAAAAAAAAAAAAAAAAAAAAAAAAAAAAAAAAAAAAAAAAAAAAAAAAAAAAAAAAAAAAAAAAAAAAAAAAAAAAAAAAAAAAAAAAAAAAAAAAAAAAAAAAAAAAAAAAAAAAAAAAAAAAAAAAAAAAAAAAAAAAAAAAAAAAAAAAAAAAAAAAAAAAAAAAAAAAAAAAAAAAAAAAAAAAAAAAAAAAAAAAAAAAAAAAAAAAAAAAAAAAAAAAAAAAAAAAAAAAAAAAAAAAAAAAAAAAAAAAAAAAAAAAAAAAAAAAAAAAAAAAAAAAAAAAAAAAAAAAAAAAAAAAAAAAAAAAAAAAAAAAAAAAAAAAAAAAAAAAAAAAAAAAAAAAAAAAAAAAAAAAAAAAAAAAAAAAAAAAAAAAAAAAAAAAAAAAAAAAAAAAAAAAAAAAAAAAAAAAAAAAAAAAAAAAAAAAAAAAAAAAAAAAAAAAAAAAAAAAAAAAAAAAAAAAAAAAAAAAAAAAAAAAAAAAAAAAAAAAAAAAAAAAAAAAAAAAAAAAAAAAAAAAAAAAAAAAAAAAAAAAAAAAAAAAAAAAAAAAAAAAAAAAAAAAAAAAAAAAAAAAAAAAAAAAAAAAAAAAAAAAAAAAAAAAAAAAAAAAAAAAAAAAAAAAAAAAAAAAAAAAAAAAAAAAAAAAAAAAAAAAAAAAAAAAAAAAAAAAAAAAAAAAAAAAAAAAAAAAAAAAAAAAAAAAAAAAAAAAAAAAAAAAAAAAAAAAAAAAAAAAAAAAAAAAAAAAAAAAAAAAAAAAAAAAAAAAAAAAAAAAAAAAAAAAAAAAAAAAAAAAAAAAAAAAAAAAAAAAAAAAAAAAAAAAAAAAAAAAAAAAAAAAAAAAAAAAAAAAAAAAAAAAAAAAAAAAAAAAAAAAAAAAAAAAAAAAAAAAAAAAAAAAAAAAAAAAAAAAAAAAAAAAAAAAAAAAAAAAAAAAAAAAAAAAAAAAAAAAAAAAAAAAAAAAAAAAAAAAAAAAAAAAAAAAAAAAAAAAAAAAAAAAAAAAAAAAAAAAAAAAAAAAAAAAAAAAAAAAAAAAAAAAAAAAAAAAAAAAAAAAAAAAAAAAAAAAAAAAAAAAAAAAAAAAAAAAAAAAAAAAAAAAAAAAAAAAAAAAAAAAAAAAAAAAAAAAAAAAAAAAAAAAAAAAAAAAAAAAAAAAAAAAAAAAAAAAAAAAAAAAAAAAAAAAAAAAAAAAAAAAAAAAAAAAAAAAAAAAAAAAAAAAAAAAAAAAAAAAAAAAAAAAAAAAAAAAAAAAAAAAAAAAAAAAAAAAAAAAAAAAAEFsZXNzaWEgTG9pAAAFkAMAAgAAABQAABCkkAQAAgAAABQAABC4kpEAAgAAAAM5MQAAkpIAAgAAAAM5MQAA6hwABwAACAwAAAiYAAAAABzqAAAACAAAAAAAAAAAAAAAAAAAAAAAAAAAAAAAAAAAAAAAAAAAAAAAAAAAAAAAAAAAAAAAAAAAAAAAAAAAAAAAAAAAAAAAAAAAAAAAAAAAAAAAAAAAAAAAAAAAAAAAAAAAAAAAAAAAAAAAAAAAAAAAAAAAAAAAAAAAAAAAAAAAAAAAAAAAAAAAAAAAAAAAAAAAAAAAAAAAAAAAAAAAAAAAAAAAAAAAAAAAAAAAAAAAAAAAAAAAAAAAAAAAAAAAAAAAAAAAAAAAAAAAAAAAAAAAAAAAAAAAAAAAAAAAAAAAAAAAAAAAAAAAAAAAAAAAAAAAAAAAAAAAAAAAAAAAAAAAAAAAAAAAAAAAAAAAAAAAAAAAAAAAAAAAAAAAAAAAAAAAAAAAAAAAAAAAAAAAAAAAAAAAAAAAAAAAAAAAAAAAAAAAAAAAAAAAAAAAAAAAAAAAAAAAAAAAAAAAAAAAAAAAAAAAAAAAAAAAAAAAAAAAAAAAAAAAAAAAAAAAAAAAAAAAAAAAAAAAAAAAAAAAAAAAAAAAAAAAAAAAAAAAAAAAAAAAAAAAAAAAAAAAAAAAAAAAAAAAAAAAAAAAAAAAAAAAAAAAAAAAAAAAAAAAAAAAAAAAAAAAAAAAAAAAAAAAAAAAAAAAAAAAAAAAAAAAAAAAAAAAAAAAAAAAAAAAAAAAAAAAAAAAAAAAAAAAAAAAAAAAAAAAAAAAAAAAAAAAAAAAAAAAAAAAAAAAAAAAAAAAAAAAAAAAAAAAAAAAAAAAAAAAAAAAAAAAAAAAAAAAAAAAAAAAAAAAAAAAAAAAAAAAAAAAAAAAAAAAAAAAAAAAAAAAAAAAAAAAAAAAAAAAAAAAAAAAAAAAAAAAAAAAAAAAAAAAAAAAAAAAAAAAAAAAAAAAAAAAAAAAAAAAAAAAAAAAAAAAAAAAAAAAAAAAAAAAAAAAAAAAAAAAAAAAAAAAAAAAAAAAAAAAAAAAAAAAAAAAAAAAAAAAAAAAAAAAAAAAAAAAAAAAAAAAAAAAAAAAAAAAAAAAAAAAAAAAAAAAAAAAAAAAAAAAAAAAAAAAAAAAAAAAAAAAAAAAAAAAAAAAAAAAAAAAAAAAAAAAAAAAAAAAAAAAAAAAAAAAAAAAAAAAAAAAAAAAAAAAAAAAAAAAAAAAAAAAAAAAAAAAAAAAAAAAAAAAAAAAAAAAAAAAAAAAAAAAAAAAAAAAAAAAAAAAAAAAAAAAAAAAAAAAAAAAAAAAAAAAAAAAAAAAAAAAAAAAAAAAAAAAAAAAAAAAAAAAAAAAAAAAAAAAAAAAAAAAAAAAAAAAAAAAAAAAAAAAAAAAAAAAAAAAAAAAAAAAAAAAAAAAAAAAAAAAAAAAAAAAAAAAAAAAAAAAAAAAAAAAAAAAAAAAAAAAAAAAAAAAAAAAAAAAAAAAAAAAAAAAAAAAAAAAAAAAAAAAAAAAAAAAAAAAAAAAAAAAAAAAAAAAAAAAAAAAAAAAAAAAAAAAAAAAAAAAAAAAAAAAAAAAAAAAAAAAAAAAAAAAAAAAAAAAAAAAAAAAAAAAAAAAAAAAAAAAAAAAAAAAAAAAAAAAAAAAAAAAAAAAAAAAAAAAAAAAAAAAAAAAAAAAAAAAAAAAAAAAAAAAAAAAAAAAAAAAAAAAAAAAAAAAAAAAAAAAAAAAAAAAAAAAAAAAAAAAAAAAAAAAAAAAAAAAAAAAAAAAAAAAAAAAAAAAAAAAAAAAAAAAAAAAAAAAAAAAAAAAAAAAAAAAAAAAAAAAAAAAAAAAAAAAAAAAAAAAAAAAAAAAAAAAAAAAAAAAAAAAAAAAAAAAAAAAAAAAAAAAAAAAAAAAAAAAAAAAAAAAAAAAAAAAAAAAAAAAAAAAAAAAAAAAAAAAAAAAAAAAAAAAAAAAAAAAAAAAAAAAAAAAAAAAAAAAAAAAAAAAAAAAAAAAAAAAAAAAAAAAAAAAAAAAAAAAAAAAAAAAAAAAAAAAAAAAAAAAAAAAAAAAAAAAAAAAAAAAAAAAAAAAAAAAAAAAAAAAAAAAAAAAAAAAAAAAAAAAAAAAAAAAAAAAAAAAAAAAAAAAAAAAAAAAAAAAAAAAAAAAAAAAAAAAAAAAAAAAAAAAAAAAAAAAAAAAAAAAAAAAAAAAAAAAAAAAAAAAAAAAAAAAAAAAAAAAAAAAAAAAAAAAAAAAAAAAAAAAAAAAAAAAAAAAAAAAAAAAAAAAAAAAAAAAAAAAAAAAAAAAAAAAAAAAAAAAAAAAAAAAAAAAAAAAAAAAAAAAAAAAAAAAAAAAAAAAAAAAAAAAAAAAAAAAAAAAAAAAAAAAAAAAAAAAAAAAAAAAAAAAAAAAAAAAAAAAAAAAAAAAAAAAAAAAAAAAAAAAAAAAAAAAAAAAAAAAAAAAAAAAAAAAAAAAAAAAAAAAAAAAAAAAAAAAAAAAAAAAAAAAAAAAAAAAAAAAAAAAAAAAAAAAAAAAAAAAAAAAAAAAAAAAAAAAAAAAAAAAAAAAAAAAAAAAAAAAAAAAAAAAAAAAAAAAAAAAAAAAAAAAAAAAAAAAAAAAAAAAAAAAAAAAAAAAAAAAAAAAAAAAAAAAAAAAAAAAAAAAAAAAAAAAAAAAAAAAAAAAAAAAAAAAAAAAAAAAAAAAAAAAAAAAAAAAAAAAAAAAAAAAAAAAAAAAAAAAAAAAAAAAAAAAAAAAAAAAAAAAAAAAAAAAAAAAAAAAAAAAAAAAAAAAAAAAAAAAAAAAAAAAAAAAAAAAAAAAAAAAAAAAAAAAAAAAMjAyMTowMzozMCAxMTowNDoxNgAyMDIxOjAzOjMwIDExOjA0OjE2AAAAQQBsAGUAcwBzAGkAYQAgAEwAbwBpAAAA/+ELHmh0dHA6Ly9ucy5hZG9iZS5jb20veGFwLzEuMC8APD94cGFja2V0IGJlZ2luPSfvu78nIGlkPSdXNU0wTXBDZWhpSHpyZVN6TlRjemtjOWQnPz4NCjx4OnhtcG1ldGEgeG1sbnM6eD0iYWRvYmU6bnM6bWV0YS8iPjxyZGY6UkRGIHhtbG5zOnJkZj0iaHR0cDovL3d3dy53My5vcmcvMTk5OS8wMi8yMi1yZGYtc3ludGF4LW5zIyI+PHJkZjpEZXNjcmlwdGlvbiByZGY6YWJvdXQ9InV1aWQ6ZmFmNWJkZDUtYmEzZC0xMWRhLWFkMzEtZDMzZDc1MTgyZjFiIiB4bWxuczpkYz0iaHR0cDovL3B1cmwub3JnL2RjL2VsZW1lbnRzLzEuMS8iLz48cmRmOkRlc2NyaXB0aW9uIHJkZjphYm91dD0idXVpZDpmYWY1YmRkNS1iYTNkLTExZGEtYWQzMS1kMzNkNzUxODJmMWIiIHhtbG5zOnhtcD0iaHR0cDovL25zLmFkb2JlLmNvbS94YXAvMS4wLyI+PHhtcDpDcmVhdGVEYXRlPjIwMjEtMDMtMzBUMTE6MDQ6MTYuOTA1PC94bXA6Q3JlYXRlRGF0ZT48L3JkZjpEZXNjcmlwdGlvbj48cmRmOkRlc2NyaXB0aW9uIHJkZjphYm91dD0idXVpZDpmYWY1YmRkNS1iYTNkLTExZGEtYWQzMS1kMzNkNzUxODJmMWIiIHhtbG5zOmRjPSJodHRwOi8vcHVybC5vcmcvZGMvZWxlbWVudHMvMS4xLyI+PGRjOmNyZWF0b3I+PHJkZjpTZXEgeG1sbnM6cmRmPSJodHRwOi8vd3d3LnczLm9yZy8xOTk5LzAyLzIyLXJkZi1zeW50YXgtbnMjIj48cmRmOmxpPkFsZXNzaWEgTG9pPC9yZGY6bGk+PC9yZGY6U2VxPg0KCQkJPC9kYzpjcmVhdG9yPjwvcmRmOkRlc2NyaXB0aW9uPjwvcmRmOlJERj48L3g6eG1wbWV0YT4NCiAgICAgICAgICAgICAgICAgICAgICAgICAgICAgICAgICAgICAgICAgICAgICAgICAgICAgICAgICAgICAgICAgICAgICAgICAgICAgICAgICAgICAgICAgICAgICAgICAgICAKICAgICAgICAgICAgICAgICAgICAgICAgICAgICAgICAgICAgICAgICAgICAgICAgICAgICAgICAgICAgICAgICAgICAgICAgICAgICAgICAgICAgICAgICAgICAgICAgICAgIAogICAgICAgICAgICAgICAgICAgICAgICAgICAgICAgICAgICAgICAgICAgICAgICAgICAgICAgICAgICAgICAgICAgICAgICAgICAgICAgICAgICAgICAgICAgICAgICAgICAgCiAgICAgICAgICAgICAgICAgICAgICAgICAgICAgICAgICAgICAgICAgICAgICAgICAgICAgICAgICAgICAgICAgICAgICAgICAgICAgICAgICAgICAgICAgICAgICAgICAgICAKICAgICAgICAgICAgICAgICAgICAgICAgICAgICAgICAgICAgICAgICAgICAgICAgICAgICAgICAgICAgICAgICAgICAgICAgICAgICAgICAgICAgICAgICAgICAgICAgICAgIAogICAgICAgICAgICAgICAgICAgICAgICAgICAgICAgICAgICAgICAgICAgICAgICAgICAgICAgICAgICAgICAgICAgICAgICAgICAgICAgICAgICAgICAgICAgICAgICAgICAgCiAgICAgICAgICAgICAgICAgICAgICAgICAgICAgICAgICAgICAgICAgICAgICAgICAgICAgICAgICAgICAgICAgICAgICAgICAgICAgICAgICAgICAgICAgICAgICAgICAgICAKICAgICAgICAgICAgICAgICAgICAgICAgICAgICAgICAgICAgICAgICAgICAgICAgICAgICAgICAgICAgICAgICAgICAgICAgICAgICAgICAgICAgICAgICAgICAgICAgICAgIAogICAgICAgICAgICAgICAgICAgICAgICAgICAgICAgICAgICAgICAgICAgICAgICAgICAgICAgICAgICAgICAgICAgICAgICAgICAgICAgICAgICAgICAgICAgICAgICAgICAgCiAgICAgICAgICAgICAgICAgICAgICAgICAgICAgICAgICAgICAgICAgICAgICAgICAgICAgICAgICAgICAgICAgICAgICAgICAgICAgICAgICAgICAgICAgICAgICAgICAgICAKICAgICAgICAgICAgICAgICAgICAgICAgICAgICAgICAgICAgICAgICAgICAgICAgICAgICAgICAgICAgICAgICAgICAgICAgICAgICAgICAgICAgICAgICAgICAgICAgICAgIAogICAgICAgICAgICAgICAgICAgICAgICAgICAgICAgICAgICAgICAgICAgICAgICAgICAgICAgICAgICAgICAgICAgICAgICAgICAgICAgICAgICAgICAgICAgICAgICAgICAgCiAgICAgICAgICAgICAgICAgICAgICAgICAgICAgICAgICAgICAgICAgICAgICAgICAgICAgICAgICAgICAgICAgICAgICAgICAgICAgICAgICAgICAgICAgICAgICAgICAgICAKICAgICAgICAgICAgICAgICAgICAgICAgICAgICAgICAgICAgICAgICAgICAgICAgICAgICAgICAgICAgICAgICAgICAgICAgICAgICAgICAgICAgICAgICAgICAgICAgICAgIAogICAgICAgICAgICAgICAgICAgICAgICAgICAgICAgICAgICAgICAgICAgICAgICAgICAgICAgICAgICAgICAgICAgICAgICAgICAgICAgICAgICAgICAgICAgICAgICAgICAgCiAgICAgICAgICAgICAgICAgICAgICAgICAgICAgICAgICAgICAgICAgICAgICAgICAgICAgICAgICAgICAgICAgICAgICAgICAgICAgICAgICAgICAgICAgICAgICAgICAgICAKICAgICAgICAgICAgICAgICAgICAgICAgICAgICAgICAgICAgICAgICAgICAgICAgICAgICAgICAgICAgICAgICAgICAgICAgICAgICAgICAgICAgICAgICAgICAgICAgICAgIAogICAgICAgICAgICAgICAgICAgICAgICAgICAgICAgICAgICAgICAgICAgICAgICAgICAgICAgICAgICAgICAgICAgICAgICAgICAgICAgICAgICAgICAgICAgICAgICAgICAgCiAgICAgICAgICAgICAgICAgICAgICAgICAgICAgICAgICAgICAgICAgICAgICAgICAgICAgICAgICAgICAgICAgICAgICAgICAgICAgICAgICAgICAgICAgICAgICAgICAgICAKICAgICAgICAgICAgICAgICAgICAgICAgICAgICAgICAgICAgICAgICAgICAgICAgICAgICAgICAgICAgICAgICAgICAgICAgICAgICAgICAgICAgICAgICAgICAgICAgICAgIAogICAgICAgICAgICAgICAgICAgICAgICAgICAgPD94cGFja2V0IGVuZD0ndyc/Pv/bAEMABwUFBgUEBwYFBggHBwgKEQsKCQkKFQ8QDBEYFRoZGBUYFxseJyEbHSUdFxgiLiIlKCkrLCsaIC8zLyoyJyorKv/bAEMBBwgICgkKFAsLFCocGBwqKioqKioqKioqKioqKioqKioqKioqKioqKioqKioqKioqKioqKioqKioqKioqKioqKv/AABEIAOUA9QMBIgACEQEDEQH/xAAfAAABBQEBAQEBAQAAAAAAAAAAAQIDBAUGBwgJCgv/xAC1EAACAQMDAgQDBQUEBAAAAX0BAgMABBEFEiExQQYTUWEHInEUMoGRoQgjQrHBFVLR8CQzYnKCCQoWFxgZGiUmJygpKjQ1Njc4OTpDREVGR0hJSlNUVVZXWFlaY2RlZmdoaWpzdHV2d3h5eoOEhYaHiImKkpOUlZaXmJmaoqOkpaanqKmqsrO0tba3uLm6wsPExcbHyMnK0tPU1dbX2Nna4eLj5OXm5+jp6vHy8/T19vf4+fr/xAAfAQADAQEBAQEBAQEBAAAAAAAAAQIDBAUGBwgJCgv/xAC1EQACAQIEBAMEBwUEBAABAncAAQIDEQQFITEGEkFRB2FxEyIygQgUQpGhscEJIzNS8BVictEKFiQ04SXxFxgZGiYnKCkqNTY3ODk6Q0RFRkdISUpTVFVWV1hZWmNkZWZnaGlqc3R1dnd4eXqCg4SFhoeIiYqSk5SVlpeYmZqio6Slpqeoqaqys7S1tre4ubrCw8TFxsfIycrS09TV1tfY2dri4+Tl5ufo6ery8/T19vf4+fr/2gAMAwEAAhEDEQA/APpGiiigAooooAKKKKACiiigAoopjyxxlRI6oWO1Qxxk+goAfRRUdxcQ2lu89zIsUSDLOxwAKAJKKyf+Eo0j/n7P/fp/8KP+Eo0j/n7P/fp/8KANaisZ/FuhxMiyX6o0h2oGjcbjjOBxz0p//CUaR/z9n/v0/wDhQBrUVk/8JRpH/P2f+/T/AOFM/wCEu0PzvJ+3r5u3ds8t92PXGOlAGzRWT/wlGkf8/Z/79P8A4Uf8JRpH/P2f+/T/AOFAGtRWMni7Q5GdY79XaM7XCxuSpxnB444NP/4SjSP+fs/9+n/woA1qKyf+Eo0j/n7P/fp/8KyJPin4GikaOXxTpiOpwytOAQfQigDraK5H/ha/gP8A6GzS/wDwIFH/AAtbwGenivS//AgUAddRWQPFOjsoK3eQehET8/pS/wDCUaR/z9n/AL9P/hQBrUVjP4t0OJoxNqCReZIsaGRWUMzHAGSOpJxWzQAUUUUAFFFFABRRRQAUUUUAFFFZ2ua5Y+HtLkv9SkKxqQqIg3PK56Ii9WYnoBQBW8W6wmieGbu6N2LScoUtn8vzGaUj5FVP4iT2ryj4ReFvGd9481HxJ8SpLt7myUQ2cdw3yAuMlkA+UYXA49TXoWhaHfatqqeJPFcYW6UH7Bp+cpYoe57NIe7dugrqLu7t7CzluryVIIIVLySOcBQO5oAdc3MNnbSXFzIscUYyzMeAK5pl13VdRS9fTLVrCMhrS3uLxomz/fdRG3PoM8fXpDJPb+I5Iry61tdOt4n321vHLEWPo8gcMM+g7fXpc/df9DnN/wB92v8A8boAufaPEH/QI03/AMGT/wDxmqmp65rOlWvnXGkaexZgkUUeouXlc9FUeTyT/wDXPFVNR1C10yza4m8Y3L8hUjjNqzyMeiqPL6mqenaf506anrHi9vt+0qiJJbFYEJ+6Mpgn1bAz9MUAXbGz8SNqDapqel6bLdMCsKf2g4W2Q/wqPJPJ43HufbArV+0eIP8AoEab/wCDJ/8A4zVP91/0Oc3/AH3a/wDxus3VtTFksdvZeLZri+uMiGLfahRjqzHy+FH69BQBe1HXdetJ4rO30bTpr64B8qJdQc7R/fb9yMKPX8BzSaTZa/pyySzabp9ze3B3XFy2ouC57ADyeFHYdqradplvZb55PGksl7OAbiffbfOQMcZQ4HoBwKvfuv8Aoc5v++7X/wCN0AXPtHiD/oEab/4Mn/8AjNZF9rPiS7updJ0nTdPS6VQZrgX7MtuD2P7n75GSBzjqRjrT1DUJJb5dM0nxjKZ8Bp53NrsgQ/8AbPlz2H4ntm9YafY6ba+RaeMJkTJZiZLYlmPJJJTJJ9TQBb0621jS7Nba10bTgoJZmbU3LOx6sx8nkk8k1a+0eIP+gRpv/gyf/wCM1T/df9DnN/33a/8AxuvDPjP8YbjSZZfDnhHxJd3k5BS8usQ7EB4KKVQHPqQeKAJvjL8db20juvC2gLbQXf8Aq7q9tLkzBB3RSUXDep5xXzaSWYljknkk96VmLMWYkknJJ70lAAOelfQ/wZ+CWqW0tr4p8Q6Ta3GVElnZXdy0RQ9ndRG3PcDPHeoPgx8HrCSCDxN4t1KG0myJLG1EkZZPR3VwRn0BHHWvfx5IGB4zm/77tf8A43QBc+0eIB00jTf/AAZP/wDGarahrOsaZZvc3el6cqLgADUXLOx6Ko8nkk8AVXubiC1t2lbxjdSbeiRfZndz2CqI8kn0FVfDtlqU/im4l8RXMt00NtFPZwTBM2u9pFOdiqCxCDnHGSB7gGbq6z654Lu9f1aHybhGCW9nu3LaFZQrHP8AE5x9704HfPeaczPpsDOckoMn8K5DVf8Akmepf9fUv/pUa63S/wDkF2//AFzH8qALdFFFABWfrt9Ppfh+/v7WBbia2t3lSJn2hiqk4zg46VoVXv7NdQ025s5GKpcQvExXqAwI/rSle2g1a+pxGleJ7i+vtDuNR0+7W/n0aS8VYbsCGT7mQU4G7kYJ6ZpNP+J11qa6b9k8K3jHVLJru0zcxDcq43Bufl+8MHnPpVnT/AN/YXGlTf2+ZzpthJYoJbVfnVgACcEdNq/kfWk0n4f3mkHQ/I1pXGjWMllEGtf9YrY5b5uo2r09D603/X4/8AlX6/1t/wAEry/FmzOlWt5p+kXl681il9Jbxgl0RiQFGAdzfK3HHTrXdWtwt3Zw3CKyrKgcK67WAIzgg9DXAaf8LbvSI9POk+J7qzntrQWM0kcCEXEIYlcq2QHGThh69K7DVNVsPC2hfadQmYQwqsaA5aSVuiqo6sxNMNSTXNcsvD2lyX+pSbI1wqooy8jHgIq9SxPAFYOh6HfaxqkfiTxXGFuVB+wadnKWKHuezSEdW7dB7mh6HfazqkfiTxXHsuFydP04nK2KHuexlI6nt0FdVcXENpbSXFzIsUUa7ndjgAUhhc3MNpbPcXLrHFGNzOx4Arljd32rX32jUPD2oyWMbZtYAYNr/wDTRw0gOfRSOPr0sTWWr69cw3wmhs7SI7oLS5tzIWPaRwGXB9B2+vS/9l8Q/wDQU0//AMAX/wDjtAFXz1/6E+8/75tf/jtVb/V7TTYVkuvCd4u9wkahLYs7HoABLk/5NWNTuda0qz8+41SxJJCRxpYOXlc9FUebyTVWw0TxJPdJquq6jYfbSmEhNmzJbA9Qv7zqe57/AEoAqaZazNeNqer+Ertrx1KxxILYpbp/dH73k+rd/oAK1/PX/oT7z/vm1/8AjtWvsviH/oKaf/4Av/8AHazNVvfENk0VraX+n3OoXH+pgFk4wO7sfN4Udz+A5oAg1LWktnW0tPB9zLqEykwQsttjj+JiJDhR69+lGk2S6fE73Hha+ubyc7552S1G4+gHm8KOwq3p2ga7YPNO2rWM13cNumnksWLH0UfvOFHQCr/2XxD/ANBTT/8AwBf/AOO0AVfPX/oT7z/vm1/+O1kahqsl1NJpmi+FrlbtcefMUtiLdT3/ANZgv6KT3BPHW1e3PiWfUP7K0vU7Bp8ZuZ1sWxaqRx1kILnsv4njGbmnaJrOl2Yt7XUrDGSzO1k5aRj1Zj5vJPrQBW0+3t9NsktrfwffFVySzi2ZmJOSxJl5JPNWvPX/AKFC8/75tf8A47Vr7L4h/wCgpp//AIAv/wDHa8F+M3xr1TSJLjwv4e1W0uLhlMd5d2tu0ZhP9xG3nnrk9qAIvjN8aLOC2uPDXhTTxaXpJjvLpljJi9VQoWGfU54r5yJJOTyaVmZ2LOSzE5JJ60lAABk4HWvoL4L/AAfuLS4h8S+LvDt9dgASWNqPJ2+odw8gOfQEe9TfBr4EXzx2vinxEIYJARJZ2V3bmQY7O67hg9wPzr6DFr4gAwNT08D/AK8H/wDjtAFbz0/6E+8/75tf/jtVr/VrTTbRrm98KXkcSkDOy2JJPQACXJJ9BVrUJtZ0yye6vNX09I1wOLByWJ4AA83kk8AVR8NR6lq9/e3nigRG5sZxFawRqVSFWiR9xUk/vPnwTnjoO+QCgunRalLoviK4t44jLdRtZ26KAII2Vjk+rkdT26DuT00H/I6X3/YPtv8A0ZPWRaf8ih4V/wB+2/8ARZqe/wBVTTPF92qo093PYW6W9uh+aRvMn/IDue1AGLr2oW1n8OruGd8S3F5KkUaglmP2k5OB2Hc9BXbaX/yC7f8A65j+VcDJpfk/DvVb+8Pm3887iR85EY+0/cT0XP59677S/wDkF2//AFzH8qALdFFFABRRRQAUUVn63rdj4f0uS/1OTZEmAqqMvIx6Iq9WY9gKADW9bsfD+lyX+pSFIkwqqoy8jHoijuxPAFYGh6JfazqsfiTxXHsnUH+z9OzlbJD/ABH1kI6nt0FGiaJfa1qsfiTxXFsnTP8AZ+nE5WyU/wAR7NIe57dBXV3FxDaW7z3MixRRjczscACgBLi4htLd57mRYooxuZ2OABXHyalYeIpS+t2mofYUbMFm2m3B3EHiR8JyfQduvXpclj1rWL6O9FjbHT48NbW1zM0bFu0jqFP4A9Pr00vP8Q/8+Gnf+Bj/APxugDI2eFP+gXef+Cy6/wDiKrX134PsLfzJtMvCzHbHGNNuA0rYyFXKDJOK1dS1nWtKszPc2GnnJCxxpduXlc9FUeXyTVSxs/Est/8A2rqdjpz3JXEMJu322qnqo/d8t6t39hxQBkaXp3h+SZtQ1jTbs3Mn+rt1026KWy+g+TlvVu/0rW2eFP8AoF3n/gsuv/iK1/P8Q/8APhp3/gY//wAbrP1LXNfspobWHTNPnvbg4jhS7fIHd2/d8KPX8ByaAMjVL7wvaqILHR7m5v5BmKA6fcrxnG9vkztHcil0vS/C9lCXurK9uryTmWdtLuRn2A2cKM8CtXSrDxBp/mTz2un3N9cHM9y104LegA8v5VHYD+eTWj5/iH/nw07/AMDH/wDjdAGRs8Kf9Au8/wDBZdf/ABFZOp3Xh6eb+ztG025+0E4nuP7NuCLVcZyV2ZLEHgdO59Dr32seJbi8fSdKs9PF1szNcC5ZltQemcx8sew/E8dbem2mtaXZi3ttO0/GSzu165aRj1Zj5fJNAGXZaf4QsbZYYtMvmP8AFI+m3RaQ92Y7OSfWrGzwp/0C7z/wWXX/AMRWv5/iH/nw07/wMf8A+N14T8ZPjrqGmrdeF9ANrHeEbLm9tJzJ5XqikqPm9SOn1oAofGb4qaDZ276B4GgAu2yt1e7HQw+qKGwQ3qccV88sxdizEkk5JPehmZ2LOSzE5JJ60nXpQAV738GPhPp6suv+PLG9fva6e2nTup/23whB9hn3qz8GvghqStaeKvEOnW0ox5lpY3crRkekjgKfwB+tfQ4m8QgYGn6aB/19v/8AG6AMkR+FAMDS7wD/ALBl1/8AEVXvrvwXptm9zfWVxBCnV5NPuFGewyUArWv9W1nTbN7m7s9NSNeOLtyWJ6KB5fJJ4AHWsJ/tXiHwhq+ta9bi3nhtruKCxD7ltiquhbPG5jjrjjoO5IAtjoCw+KtK1S4txatMZRDZqcrEmzILer+p7dB3J6TSf+Qvr/8A1+J/6TQ0l/8A8hvRPrL/AOgVRGqx6ZqWuARtPdTXyLBbIfmlb7ND+QHc9BQBmTaitj4L8KCNPPupGt/ItgwDSnyz0z2Hc9hWjoenzweMtQudTmFxfS2FuzMB8sQMk3yIOy8D69TWTomk/ZvDnhu+u5Dc3sz24MhGBGnlnCKOwH6nk11EH/I6X3/YPtv/AEZPQBz+q/8AJM9S/wCvqX/0qNdZpf8AyC7f/rmP5VwmvarFB4Fu7CGNp7mW6lZkT/lkn2o/Ox7DsPU9Ohx3el/8gu3/AOuY/lQBbooooAKKK5TxR8S/Cng6+Sx17VVhvZI/MS3WNndh26A4z0GcUAbet63ZeH9Lkv8AU5fLhTAAAyzseAqgclieABWBomiX2t6pH4k8VxeXMmTp+mk5WyU/xN2aU9z26Ck0TRb3XdUi8SeKovLkTJ07TScrZqf4m7GUjqe3QV1lxPFa27z3MixRRqWd2OAooAS6uobK1lubuVYYIlLvI5wFA6k1xsuraJ4nZLjUtetbWyjcPbW8d+sbsR0d8N+S9up56W3udS1XUBc3OiXUmnxENaw+ZGvmHtI4Zgc+i9uvXpp/2lff9C7df9/Yf/iqAMzz/Df/AENx/wDBz/8AZVWv9V8L6fZvcS+K5ZAvSOLVtzOewADVpaj4km0u18+68P3YBYIiLJCWkY9FUbuSapWI1STUDqer+H7iS55WCJZYiluh7DLcse7fh0oAzdOg0OeZdR1rxWhu+fJiXWARbKcfKDu5PHJ/Litb7R4b/wChuP8A4Of/ALKtP+0r7/oXbr/v7D/8VWXrPi240sJAvh64e9uA3kQmWLkgfebDcKOMmgChqusaBZRJHZ+JXuryY7YYxrHyg/3mbd8qjr79BzS6ba+G7QNPdeMBPfzKPPuBqwXdjoAN3CjsP680uk6u1gJJ7nRL25vrjBnuC0I3eiqN/CjsP65NaP8Awljf9C/ef99w/wDxdADPtHhv/obj/wCDn/7KsjVNW0ZrldN0nxYVuZBukuX1bKW6evLYZvRfxPHW5d+LdS1GSXTfD+g3AvgoMksjRFIFPc/Ny3oPxPvWs9I1Oyg8uPQrhixLPI88RaRj1YndyTQBasYvCWnwGO38WBdzF3b+2Rl2PJY/N1NWftXhr/ob/wDys/8A2VVPsmr/APQBm/7/AEX/AMVXivxY+LkmmC58OaFEYL8Ex3VwHVvK9VUqT83YntQBd+MvxbttH3aD4I1q9ubth/pN8l88kcYP8C84J9+316fOTMzsWclmY5JJ60MxZizEkk5JPekoAOte7fBj4V6DcxR+IvG+q2cHIezsTeIjqQch35yPYfnVn4M/Bu7intvE/irQri6jwJbK03RgZ7O4Yg+4H419FDUb0DA8OXQH/XWH/wCKoAzBP4aAAHi3AHQf2x/9lTJr3w1DEXPiuWQ/wpFqpd3PYKobJJ9BV6/8Qy6bZPdXmg3UcSYyfMhJJPAAG7kk8AVjXETa/otn4h1CIxBrq0ezs2x/o6m4j+ZuxkIJBPQDgdyQCXRdNvD4thn1aW4eN7Z5razuZjL9mIZQGJJPzkE5x0zgdybUv/Ih+I/rqP8A6HJWrL/yOVt/14yf+hpXOaxq1vpfgLXVmbM1zLqEUES8s7F5P0HUnsKANTxFqH9n6jojpA9xO7SLFBH1din6D1J6VH4W06WPWtevdTMc2ovdIrSKuBGvkRHYvsM9epqOHSpLfxDpF/qUon1CfzA7r92JdnCIOyj8yeTWtpP/ACF9f/6/E/8ASaGgDKtP+RQ8K/79t/6LNPv9RuIPGt1aabD519cafbhNw+SICSbLufQZHHU/mRlTak0fhfwpp+nlH1KUW7ojglY18sje+Og9B3PHqRtaHpaaZ4s1EGR57iWxtnnuJPvSt5k/J/kB2AAoAwJNOjsPhfqh/wBZcy3TmecjDSsLnGT/AIdBXc6X/wAgu3/65j+Vcnqv/JM9S/6+pf8A0qNdZpf/ACC7f/rmP5UAW6KKKACvMPHPwO0Xxz42t/EV7fXVvIgRZ4IwCswTpyeV44Nen0UANRQiKijAUYFc7rVlcat4mtbRb6W2gt4PtOxERg77sAkMDnHb359K6Ssg/wDI6D/rw/8AalAB/Zeqf9B+5/8AAeH/AOIo/svVP+hguf8AwHh/+IrXooA46z0XUL7xJqFzca7cvJp8q29vmCIhA0SOSBt4JL4z6AVtf2Xqn/QwXP8A4Dw//EUaP/yGNf8A+v1P/SaGtegDI/svVP8AoYLn/wAB4f8A4iuCsNP1C5mudQm1q4e5nldXcwxH5VYqqj5eAAOleqV4n44mkg+EmuSwO0ciCQq6nBU+d1BoA6X+ztR/6DVx/wB+Yv8A4mquqQanZaPeXUeszF4IHkUGCLBKqSP4favA/Bvx11/R2is9bjOsWuQoJ4mX6N/F+P517HqPji2v/Cl666PrUXnWcmBJYMNuUPU0AeiaR4WutIsFgs9cugGO93aCEtIx6sx2cmr/APZeqf8AQwXP/gPD/wDEVlR+P7QRr/xJNf6D/mGPWtoHiOz8R29xLYx3MRtpjDLHcwmN0cAHBB9iKAOH+MN3r3hn4V6tqVjr9x5yKkY/cxLw7hTghQQcE8ivit3Z3LuSzMckk8k19rftC/8AJEdZ/wB6D/0clfFFABXpvwC8K2fiz4l+RfsyrZWj3keEVgXV0UZDAgj5yfqBXmVe1fssf8lWvf8AsES/+jYqAPqEaVqYAA1+5AHQfZ4f/iKX+y9U/wChguf/AAHh/wDiK16KAObsrCWXxZMuqXkl/wDYoI5bfzEVRGzlwxwoAJwoGT059aqx/wDJPdN/6+LP/wBKY617X/kcNR/69Lf/ANClrnLzUY7H4daWoHm3M09qIIA2GlYTocD06degoA1Na1SPTPFdofLae4ms5Egt0+9K29OPYep7CuLks5RoviC71Eq98xvFbYSUjG5/lTPQZ/M12GnafcQeM4rvU5vOvZ7GQvt+5EN64RB2A9ep61zup/8AID8Rf9dL3/0J6AOyv/8AkN6J9Zf/AECsz+1ZLfXdcsNNjWfUp7tGRG+7Ev2eIeY/ovoOpPHqQ7xDqUkWu6JZaYI5tRcSMsbNgRrsxvb2Hp1PT1In8Laf/Z99r6yTPczteo0s8n3nY28RP0GTwBwKAMnRNMg0/wAI+G3jDPNcTW8k0rnLOfLPf0A4A7Cujg/5HS+/7B9t/wCjJ6ybT/kUPCv+/bf+izTLi6udS8dahp+jTKgWyt0u7pTkwDfMdq/7ZB69vrQBhaxqs1z4L1Gx0yNZFgvJPtk752x/6SfkHq5/QdfSvQtL/wCQXb/9cx/KuNu7aOz+FN/BACEjuJFGTknFz3Pc+9dlpf8AyC7f/rmP5UAW6KKKACiiigArIP8AyOg/68P/AGpWvXPX+nxah4xjWaW5jCWJI+z3MkJPz9yhGfxoA6Gisj/hG7P/AJ+tU/8ABpcf/F0f8I3Z/wDP1qn/AINLj/4ugA0f/kMa/wD9fqf+k0Na9cnpPh20bVtcBudTG28QDGpTjP8Ao8R5+fnrWr/wjdn/AM/Wqf8Ag0uP/i6ANevJ9T0L/hJfBN/o5n+zi7eVDJt3bR5pPT8K9B/4Ruz/AOfrVP8AwaXH/wAXXxZ4p8aeJ9J8YazYaf4h1OC2t7+eOKNbt8KokPvQB9C+Efhd4a8IKslnZi5vAObq4Ad8+3ZfwrofEA/4pnVP+vOX/wBANfIn/CxfGP8A0M+q/wDgW/8AjQfH/i24Hkz+JNTkik+R0a6chgeCDzQB9+x/6pP90Vy3g7/kNeK/+wsf/RUdaMXhu0MKH7Vqn3R/zE7j/wCLrm/CWgWsmseKA1zqICaqVG3UZ1z+6j64fk+5oAo/tC/8kR1n/eg/9HJXxRX3f4v8HaTqOix2eoG+urWe7gSWGfUJ3R1Mg4IL4qh/wof4b/8AQtxf9/5f/iqAPh+vav2WP+SrXv8A2CJf/RsVe7f8KH+G/wD0LcX/AH/l/wDiqbpvwv8ACfhrxnZN4f06XTnnsbkSvbXcyMwDw4GQ2ccnigD0Wisj/hG7P/n61T/waXH/AMXR/wAI3Z/8/Wqf+DS4/wDi6AKF3qsel+Kr/KNPcTWtukFun3pW3S8D0HqegFYumaV5Xgmx1G9bzb2aezGSciFPtMf7tPb37nmtvSdItLLxpqMsYlllFnABLcTPM4BaTIDOSQOOlVo/+Se6b/18Wf8A6Ux0Aa8v/I5W3/XjJ/6Glefa5dy/2X4htLCLz7otfOwz8sSBny7Ht7DufxI6/WtQnh8ZWtrpcSz30tjIAG+5CC6/O/twcDqTx6kZ1vpyWPw68Tlm865kGoGe4ZQGlYGQZOPYYoAg0Wz+z+KNMllkae5m81pp3+852D8gOw6AV1Ok/wDIX1//AK/E/wDSaGufsP8AkZ9I/wB2X/0CrEd1eX3iDX9N0hjFm7Q3F6ORCPs8Q2r6vx+HU9qAMkX8mpeHfDelaW7rsNuLm8jIxAfLPyr6uR+XX0FdPpNhb6b4ou7WzjEcSadbYHcnzJ8knuT1zWXpdrBZ+CvCsVtEsaeZbthRjJMZJP4mtyEgeNL8ngf2fbf+jJ6AOf1X/kmepf8AX1L/AOlRrrNL/wCQXb/9cx/KvOtSubzVfA2oGzY2+mwXcjGYAE3R+08Bf9j379uOvoul/wDILt/+uY/lQBbooooAKKKKACsg/wDI6D/rw/8Aala9Yk08UHjJTPKkYNhxvYDP7z3oA26Krf2jZf8AP5B/39X/ABo/tGy/5/IP+/q/40AUdH/5DGv/APX6n/pNDWvWBpF/ZjWNeJu4ADeoR+8Xn/Rofetb+0bL/n8g/wC/q/40AWa/Prx1/wAlC8Qf9hK4/wDRjV9+f2jZf8/kH/f1f8a+AvHDBviBr7KQQdRnIIPX941AGFT4v9cn+8P50ynRf65P94UAfo9D/qU/3R/KuJtofFWha7rj2Gh2t9bX979pila+8sgbFXBXYe611sWoWfkp/pkH3R/y1X/Gn/2jZf8AP5B/39X/ABoA4nXtY8XtaW3m+F7VALyAgjUs5O8YH3K1P7a8Z/8AQqWn/g0/+11c8RX9mbO1xdwH/Trc8SL/AM9B71rf2jZf8/kH/f1f8aAOd/trxn/0Klp/4NP/ALXWXc6x4vPirT2bwvaiQWlyFT+0uCN0OTnZ24/Ou2/tGy/5/IP+/q/41k3V/Z/8Jhph+1wYFldZPmL/AH4PegDMvfEvi6w0+4vLjwpa+VbxNK+3U8naoyf+WfoK6fS70alpNpfBDGLmFJdmc7dwBx+tZnii/s28IawFu4CTYTgASLz+7b3o8L39mvhHSQ13ACLOLIMi/wBwe9AE9r/yOGo/9elv/wChS1y15qnleB9K06y/eahNJaMg27liH2hMO/PC549T271pT6yy+Mb210cJd3s9nBswcxxDdLl3I7D06k8epFPTNNisPh7Yuvz3E91ZvPMesjfaI/yHoOgoA1NP0qPTPFkPztPczWcjz3D/AHpW3pyfbsB0Aqvcf8k/8Tf9xH/0KSteX/kcrb/rxk/9DSuS1G/ubvwr4j0zS1+41+bu4YfLEpaQ7B6sR+QOfSgDOvr+5l1zT7bSZGidd6TXYXKxZTlR/t4/Lv2rp/AlrFZJrcEClUW+Xqckn7PFkk9yfWota0+20tNBtbGIRRI8mAOSTs5JPcn1q34POJdeJ/5/l/8ASeKgCG0OPB/hUngbrb/0Warq3/CU+M76K2ldNKWygWZwMfa8STfKp/uZyCe+OOOuVbSyeIvDPhu2RCukI9vHNIcq1y3lnKr6IO579OnXsbOJIfGF5HEoRE062CqowAPMnoA5/UY0i+F2oRxKERbmQKoGAB9p6V1+l/8AILt/+uY/lXJar/yTPUv+vqX/ANKjXW6X/wAgu3/65j+VAFuiiigAooooAKwbqztbzxkgu4I5wthlRIgbH7z3rerIP/I6D/rw/wDalAFj+xNK/wCgda/9+V/wo/sTSv8AoHWv/flf8Kv0UAfFv7QsaWfxl1KK0UQxiGAhIxtA/dL2FeY+dJ/z0b/vo16h+0d/yWvU/wDrhb/+ilryygB/nSf89G/76Nfbvwk0XS7n4S+HZrjTrWWV7JCzvCpLH3OK+H6+7vg7/wAke8Nf9eKUAdH/AMI9o3/QKs/+/C/4VmeJtB0hPCWrummWastjMQRAuQfLPtXS1leKf+RP1n/rwn/9FtQBJHomleWv/Euteg/5Yr/hTv7E0r/oHWv/AH5X/Crsf+rX6CnUAeU/H3TLC1+DGsTW1nBDKrQ4dIwpH71e4r4186T/AJ6N/wB9GvtT9oX/AJIjrP8AvQf+jkr4ooAf50n/AD0b/vo17H+zFBFffFG8jvY1nQaTKwWUbgD5sXPNeM17V+yx/wAlWvf+wRL/AOjYqAPpPxdpmj2ngrWriSytIljsJ2LmJRt/dn2pPCGm6Pe+C9GuYrO0lSWyiYOIlO75B7V5X+0746/s3QLfwpYy4uNQ/e3W08rEDwp+p/lTP2YPHX9oaHc+Er6XM9h++tNx5aInlR/un/0KgD2HTbS3tPFupJawRwqbS3JEaBQTul9Kzo/+Se6b/wBfFn/6Ux1r2v8AyOGo/wDXpb/+hS1yE+oyX3g2w0rTC2VmtBdXSH/j3zPHgKcEF+Qcdh17UAa2qXk+o+OItN0adUkjs3W7uB1gBZThexfH5ZyewplvZw2Hw48QW1uCI4/7QAyck/NJyT3PvWna2FvpniaztbNNkaWMvfJJMiZJPck85qnKceA/EmfXUf8A0KSgB3io4utEyf8AlpJ/6LrlNPvZ9XuNas7SQppj3imaVSQ0/wC4iGwf7PHJHXOPWtvVCnizXNItVVxpMbyb51bH2lgnKr/sep79Bx1Hijg1/WYoUCRpPGqqowAPs8XFAFuxAXwb4UA4Aa2/9FmtJ7uCx8U6ndXkyQwQ6ZbvJI5wqqJJySTWSl1BZeBPDNzdypDBD9neSRzhVURHJJr5q+NHxdfxlr1zZeHZZYdHCJDI2cG62MxDEemXOB9KALXi/wCLt54n8SWHh7RpWh0SLVt7MhIN3un3At/s8jAr6z0v/kF2/wD1zH8q/Pjw7/yNGlf9fkP/AKGK/QfS/wDkF2//AFzH8qALdFFFABRRRQAVz1/qUGneMY2uVnIexIHk28kv8ffYpx+NdDWQf+R0H/Xh/wC1KAD/AISfTv7mof8AgtuP/jdH/CT6d/c1D/wW3H/xuteigD49+OGha34n+LOpX+gaFq19a+XAhki0+bAYRLkH5cg15/8A8K/8Zf8AQp65/wCC6b/4mvuvR/8AkMa//wBfqf8ApNDWvQB+fv8Awr/xl/0Keuf+C6b/AOJr69+Fms2+m/C3QbK9g1CK4t7RY5U/s6c7WHBGQmK9FrI8L/8AIAi/66S/+jGoAP8AhJ9O/uah/wCC24/+N1meJfElhJ4T1dFS/wAtZTAZ064A+4e5TArqqyvFP/In6z/14T/+i2oAjj8T6d5a/JqHQf8AMNuP/jdO/wCEn07+5qH/AILbj/43WrH/AKtfoKdQB5F8etds734NavBAt4HZocebYzRr/rV/iZAB+dfHNfa/7Qv/ACRHWf8Aeg/9HJXxRQAV7D+zLfQ6f8T7yW4ExU6VKv7mB5TnzYuyAnt1rx6vav2WP+SrXv8A2CJf/RsVAHtvjjRfA+uadq2q6joMlzqX2OQrczaXPuBWM7eSnGMCk8D6L4H0TT9L1XT9BkttSFqm65h0ufcSyDdyE5zXceKf+RO1n/rwn/8ARbUnhX/kUNI/68ov/QBQBgjUbrVvF19baIs9uslpAJryaBozCoaT7quASxzwcYHXtiixtYrP4baZFAuB9osyT3Y/aY8knuT61u2v/I4aj/16W/8A6FLWQn/JPdN/672f/pTHQBrzHHjK2z/z4yf+hpXH3MlzrnhHxDHaSeVpcT37yXCMCbo75DsUj+H1Pfp0znSuZP8AhKPGUUFtLJHpkdpIssqjH2r51yinsueCe/QcdZ/Kjg+HviGKFFSNP7QVVUYAG6SgDSuo0h1bQo4kCIvmBVUYAHl1gX9xFa67r89zIsUUc6M7ucBQLeLkmt3WLmCy1HSLm7lSGCISvJI5wqgR8kmvk/4w/FRvFfiDUrHw9O6aNLOrM2NpuCqKmT/s/JkCgCL4l/F668V6Hp/hvSt1vpFlBGsmeGuJFXGT6KOw/GvL6Kktraa8uY7e1jaWaRgqIoyWJoAv+GkaTxVpSxqWb7ZEcKM/xiv0F0v/AJBdv/1zH8q8M+DPwZTRoo9W1uNZL5wCARxEPQf4175FGsUaonCqMCgB1FFFABRRRQAVkH/kdB/14f8AtSteuev7yW08YxmGwuLwtYnIgKAr8/fcy0AdDRWR/bV5/wBC9qX/AH1B/wDHKP7avP8AoXtS/wC+oP8A45QAaP8A8hjX/wDr9T/0mhrXrk9J1i7XVtcI0DUW3XiEgNB8v+jxcH95+P41q/21ef8AQval/wB9Qf8AxygDXrI8L/8AIAi/66S/+jGo/tq8/wChe1L/AL6g/wDjleTW37RfhLw2JtH1LT9YF3aXEscojgjYBhI2RnzKAPcKyvFP/In6z/14T/8Aotq8q/4an8Df8+Gt/wDgPF/8cqlrX7TfgvUdB1CygsdZEtzbSRIWt4wAWUgZ/edOaAPdY/8AVr9BTq8UX9qXwOqAGw1vgY/494v/AI5S/wDDU/gb/nw1v/wHi/8AjlAG9+0J/wAkR1n/AHoP/RyV8UV9MeOfjFoXxY8KzeC/Ctjqf9rapLElv9qjjSMlXDHLBzjhT2rzr/hnP4i/9A22/wDApKAPLK9q/ZY/5Kte/wDYIl/9GxVkf8M5/EX/AKBtt/4FJXe/Bj4deK/hv8RXvNe0lpVutNmjjS1mjZsiSIknLAY6d+9AHvvin/kT9Z/68J//AEW1HhX/AJFDSP8Aryi/9AFZXibWLt/CWrqdA1FAbGYFmaDA/dnk4ko8M6xdp4T0pV0DUXAs4gGVoMH5BzzJQBp2v/I4ajz/AMudv/6FLXGmWfXPBdjaRKY9LiuLWO4kYYNyftCAov8AsjPLdzwK1xFf694uvoJoJtNsTaQfaEkZfNmG6TCgoSAp7nOT0p9vGkPw40uOJQiJNZhVA4A+0R0Aa3lRweLbSKFBHGlhIqqowAN6Vl3MqQ/D7xNJK4RF/tEsxPAG6StK+uYbPxTHc3UqwwxafK8kjnCqodMkmvlD4r/F258Rtd+HtBnMeiC8mlaRMg3W6RmGf9kZ6UAT/Gv4xN42vE0fQWaPRrRiPNGQ1y3Qk/7PoK8goqS3t5ru4jgto2llkbaiKMljQAW9vNd3MdvbRtLNIwVEUZLGvqH4M/BlNHij1bW41kvnGQCMiIeg/wAaT4M/BlNHjj1fW41kvnGQDyIh6D39698hiSCMJGMADtQAkUSQxhIxgAdqkoooAKKKKACiiigArIP/ACOg/wCvD/2pWvWQf+R0H/Xh/wC1KANeiiigDI0f/kMa/wD9fqf+k0Na9ZGj/wDIY1//AK/U/wDSaGtegAr8+vHX/JQvEH/YSuP/AEY1foLX59eOv+SheIP+wlcf+jGoAwaKKKACiiigDtfg7/yWHw3/ANfg/wDQTX3dXwj8Hf8AksPhv/r8H/oJr7sk/wBU/wDumgBn2mD/AJ7R/wDfQrJurmD/AITDTD50ePsV1/EP78Fcp4F8EeG9U8E6be6hpFtcXM0ZaSWRMsxyeSauXPw/8Kr4r06IaHaCN7S5Zl8vgkNDg/qfzoA6DxTcwHwfrIE0ZP2Cf+If882qTwr/AMihpH/XlF/6AKzj8OPCDKQ2gWRBGCDGOa6OCCK2t44LdFjiiUIiKMBQOAKAMy1/5HDUf+vS3/8AQpaxJLiK1+GtjcXMqRQxS2jvI5wqqLiMkk9hWutxDaeKNVuLmVIoYrKBnkc4CgNLkk18nfE/4wXXiTSYPC+iu0OkWwCzODzdMD1/3fQfjQBZ+NvxgPjPWTp3h2SSHSbdTE8oODdcgkn/AGcjgV4/RUlvby3VxHBbRtLLIwVEUZLE0AFvbzXdxHBbRtLLI21EQZLGvp/4M/BlNJij1fXIg984yARxEPQe/vSfBj4MrpMcer65GHvXGQpGREPQe/vXvsMKQRhIwAAO1ACwwpBGEjACin0UUAFFFFABRRRQAUUUUAFc7f8A2/8A4TGP+zTbhvsJ3+erEY39sEV0VZB/5HQf9eH/ALUoAP8Aiov7+m/9+5P/AIqj/iov7+m/9+5P/iq16KAPn7xt8cdU+G3jzV9Hm0e0v5JXiuGlWRkAzDGMY5/u1if8NZah/wBCxbf+BLf4Vxf7R3/Ja9T/AOuFv/6KWvLKAPof/hrLUP8AoWLb/wACW/wqlpv7P+ofESxXxeuvW9kNaZr37MbZn8rexbbncM4zXgtfdPwnmNt8E9AnEUkxj05XEUQBZ8AnAyQMn60AeN/8Mmal/wBDVbf+Abf/ABdVdT/ZZ1HTdJu75vE9tILaB5igtGG7apOPve1e1zeN5f7RXVxb3UOj20TRzwyBFk3nJLFd2ONqjBOeTxTNU+JfhbVfA+oyR6nHBJPYzBYJ+JASjAAgZHP1oA8gX9k3UmUH/hKrbkZ/482/+Lpf+GTNS/6Gq2/8A2/+Lr3dPiJ4SEa/8T606D+I/wCFO/4WJ4S/6D1n/wB9H/CgDxTQv2e9T8C+J9J8QJr9rdta3kYWE2rKGLHb13e9e7Sf8JF5T/Ppv3T/AMs5P/iqwNf8f+FZrS2EWuWjFbyBjhjwA4JNaUnxE8JGNgNetOh/iP8AhQBk/Dv+3f8AhX+k+Q2n+X5Py70fPU+hrn/it8QdZ+G02j6zdWVjf+as9ssUZdMbvLYkkk/3P1rtPhqc/DjRyOhgyOPc15P+1j/yLfh7/r6l/wDQVoAxP+GstQ/6Fi2/8CW/wo/4ay1D/oWLb/wJb/CvniigD0n4hfGrW/HQkhjhXS7OeNEuIYZCfO2FiMn0+bp7V5tRUkEEt1cJBbxtLLI21EUZLH0oAIIJbq4SC3jaSWRgqIoyWJ7V9O/Bj4MppUcesa5GHvXGQpGREPQe/vR8GPgyulJHrGuRK964yqkZEQ9B7+9e/QwpBGEjGFA7CgAhhSCMJGMADtUlFFABRRRQAUUUUAFFFFABRRRQAVkH/kdB/wBeH/tStesbWNGu7u6W90vU5bC6WLyiUjjdXXOeQyn9KANmiuS/sfxb/wBDPJ/4Cwf/ABFH9j+Lf+hnk/8AAWD/AOIoA+XP2jv+S16n/wBcLf8A9FLXllfXXin4AxeMvEEus67rN1NeTKqu6CNAQqhRwFx0FY3/AAyxo3/QUvf++l/woA+Xq+7vg7/yR7w1/wBeKV5l/wAMsaN/0FL3/vpf8K9G0Pwb4g8O6HaaRpfiOaO0tIxHErW8LEKPcpk0AWrnwHJcxXkjatKt5PctPG4QeWnz7lUp/FjA5znjt0rX8TWkC+D9X/cxbhYTchB/zzNZv9j+Lf8AoZ5P/AWD/wCIqG88O+KL6xntLjxLI0NxG0UgFtAMqwwednoaAOrjtLfy1/cRdB/AKd9kt/8AnhF/3wK5gaN4sCgDxPJgf9OsH/xFH9j+Lf8AoZ5P/AWD/wCIoA0PEVrbiztMQxj/AE63/gH/AD0Fa/2S3/54Rf8AfArkrrw54nvI0SfxLKQkiyLi2gHzKcj+D1FTf2P4t/6GeT/wFg/+IoA6xVCKFUBQOgA6V8//ALWP/It+Hv8Ar6l/9BWvVP7H8W/9DPJ/4Cwf/EVzXjT4T33j61tbfxJr1xPHauzxCOKKPBIAP3VGelAHxdRX1D/wyxo3/QUvf++l/wAKP+GWNG/6Cl7/AN9L/hQB8wwQS3NwkFvG0ksjbURRksa+nfgx8GF0tI9Y12MPeuMqpHEQ9B7+9dH4N+AGjeE9YF+skl3IBhTOQdn0wK9chhSCIJGAqgdqACGFIIwkYAAHapKKKACiiigAooooAKKKKACiiigAooooAKKKKACiiigAooooAKKKKACiiigAooooAKKKKACiiigAooooAKKKKACiiigAooooAKKKKACiiigAooooA//Z)\n",
    "\n",
    "---\n",
    "\n",
    "*Image : Cooperative Pathfinding, David Silver, University of Alberta*\n",
    "\n",
    "---\n",
    "1. En fonction du remplissage du tableau des scores de l'équipe, on ne traite que les joueurs qui ne sont pas encore arrivés à leur objectif (score[\\joueur]=0). Les joueurs ainsi selectionnées seront répresentés par un chiffre dans une liste *joueursEnAttente*.\n",
    "\n",
    "2. On itère sur la liste *joueursEnAttente*. Pour chaque joueur, on teste si il y a déjà un chemin path pre-calculé en memoire : dans la structure de données ProblemeGrid2D associée à chaque joueur, nous avons ajouté un champ *self.path* contenant le path à effectuer, i.e la liste de cases (x,y) à partir de l'état courant jusqu'à l'état objectif. Ce champ permettra à chaque agent de reprendre son chemin sans le recalculer. En debut de jeu la liste path est vide, donc on initialise la liste en appelant la fonction *collaborativePath*.\n",
    "\n",
    "3. *collaborativePath* retourne un chemin qui ne collide pas avec les chemins des autres joueurs au sein de la même équipe. La fonction calcule un chemin A*\\, ensuite, pour chaque case de ce chemin elle teste si la case correspondante est libre ou réservée au moment t. La structure de réservation est implementée à l'aide d'un dictionnaire *reservationTable*, dont les clés sont des tuples (x,y,t) et les valeurs sont des booleens indiquant l'état de la réservation (True : case réservée au moment t; False : case libre au moment t). \n",
    "Si la case recherchée n'est pas disponible, le joueur doit attendre sur la case precedente tant que le passage se libère.\n",
    "\n",
    "4. Les collisions entre co-équipiers normalement ne doivent pas se produire, sauf si la case occupée est une case objectif et l'autre agent l'a rejoint avant notre passage. Dans ce cas, l'autre agent ne va surement pas se deplacer: on recalcule donc le chemin.\n",
    "\n",
    "5. Gestion des collisions : la case (row,col) choisie est occupée par un joueur de l'équipe adversaire. Principe : en ne connaissant pas les intentions de mon adversaire (simple passage ou blocage volontaire?), il est mieux de trouver de suite un nouveau chemin pour m'éloigner de son perimetre et lui empecher d'autres blocages. En détail, il y a 2 cas possibles:\n",
    "  * tant qu'il y a d'autres cases accessibles autour du joueur (liste facteurBr) ---> le joueur cherche un nouveau path, en appelant la fonction *collaborativePath*\n",
    "  * si il n'y a plus de cases accessibles ---> le joueur courant fait une pause = il ne se deplace pas dans ce tour de jeu. Dans ce cas il est notifié en affectant la valeur True à la variable *joueurBloqueParEnnemi*\n",
    "  \n",
    "  NB. En cas de recalcul de chemin, on utilise la fonction *freeExCollaborativePath* afin de rendre l'ancien path du joueur à nouveau disponible pour les autres joueurs de l'équipe dans le dictionnaire *reservationTable*\n",
    "\n",
    "6. Si la case choisie n'est pas occupée par un co-équipier ou un adversaire, alors la case choisie est valide et le joueur peut affecter la liste *posPlayersEquipe* à retourner. Sinon, la case est replacé en tete de liste de *path* car il ne la \"consomme\" pas (= ne fait aucun déplacement) pour l'itération en cours.\n",
    "\n",
    "**Observations**\n",
    "\n",
    "\n",
    "1. Si un joueur croise un co-équipier, il attend que ce dernier soit passé. Au contraire, si il croise un joueur de l'équipe adversaire, il récalcule son chemin. Cela implique que, par rapport au Local Repaire A*\\, le joueur changera moins souvent son chemin optimale, en préférant d'effectuer des pauses.\n",
    "\n",
    "2. Si deux co-équipiers se croisent en directions opposées, ils vont se rencontrer à la moitié du chemin et avoir une collision. Cette strategie assure que les cases sont libres au moment t, mais ne peut pas identifier l'appartenance à un parcours de chaque case. En effet, le dictionnaire montre si la case (x, y, t) est libre au moment t, mais n'indique pas à quel joueur elle est attribuée, à quelle chemin elle appartient, ni dans quelle direction elle sera empruntée.\n",
    "\n",
    "3. On remarque que souvent les co-équipiers suivent le même parcours à une case de distance et cela ne pose évidemment pas de soucis.\n",
    "\n",
    "4. Si il y a beaucoup de joueurs, les temps d'attente peuvent augmenter considérablement et ralentir l'avancée générale de l'équipe.\n",
    "\n"
   ]
  },
  {
   "cell_type": "markdown",
   "metadata": {
    "id": "jwpu1tDDNYYg"
   },
   "source": [
    "## MinMax\n",
    "**Explication de MinMax**\n",
    "\n",
    "\n",
    "---\n",
    "\n",
    "\n",
    "*À information complète\n",
    "\n",
    "Pour une équipe donnée de n joueurs, pour chaque joueur, on trouve les coups valides (les cordonnées des cases dans lesquelles il pourrait se déplacer), maximum c'est 4 cases et avec la possibilité de rester sur place on y rajoute la case courante, donc au plus, 5 cases pour chaque joueurs, on exclue les cases où se trouve les obstacles, les joueurs adverses et les autres joueurs de la même équipe.\n",
    "\n",
    "l'idée est de réussire à trouver la combinaison des cases des joueurs de cette équipe (des situations) qui maximise le gain minimum jusqu'à une profondeur donnée.\n",
    "\n",
    "\n",
    "*   **minmax(pere) = max(min(fils1), min(fils2), ...min(filsn))**\n",
    "\n",
    "pere est le noeud(pos1, 0, None) des joueurs dans la liste des positions pos1 avec des fils fils1, fils2, ..., filsn;\n",
    "\n",
    "ainsi \n",
    "*   **min(fils1) = min(max(fils1'), max(fils2'), ..., max(filsk'))**\n",
    "\n",
    "\n",
    "\n",
    "où fils est le neoud(pos2, 0, pere) des joueurs adverses dans les positions pos2 dont le pere est pere, avec les fils fils1', fils2', ..., filsk'\n",
    "\n"
   ]
  },
  {
   "cell_type": "markdown",
   "metadata": {
    "id": "19f0OQ6PiYvU"
   },
   "source": [
    "**Explication de code:**\n",
    "\n",
    "---\n",
    "\n",
    "la fonction *MinMax* qui prend en paramètre la grille du jeu (matrice), les deux équipes, leurs positions, leurs objectifs et la profondeur souhaitée, verbose=True si on veut les affichages, stepwise=True si on veut controler les itérations\n",
    "\n",
    "```\n",
    "MinMax(g, equipe1, equipe2, position1, position2, depth, verbose=False, stepwise=False)\n",
    "\n",
    "```\n",
    "crée un noeud pere, qui contient toutes les positions de tous les joueurs (l'etat de la grille)\n",
    "\n",
    "la fonction cherche les combinaisons valides possibles pour equipe1 (les positions de chacun de ses joueurs), pour celà elle fait appel à la fonction *coup_valide* qui renvoie une liste des listes des coups valides pour chaque joueur en evitant les obstacles, les cases où se trouvent les adversaires et les autres joueurs de la même équipe => éviter les collisions avec les adversaires\n",
    "```\n",
    "coup_valide_par_joueur = coups_valides(g, equipe1, equipe2, position1, position2)\n",
    "```\n",
    "ainsi avec la fonction *ensemble_coup* celle ci va donner toutes les combinaisons valides pour l'equipe (ça se rapproche du produit cartesien)\n",
    "```\n",
    "liste = ensemble_coup(coup_valide_par_joueur)\n",
    "```\n",
    "On applique une méthodes pour éviter les collisions en prenant les combinaisons dans lesquelles toutes les positions des joueurs sont differentes => pas de collision avec les collègues"
   ]
  },
  {
   "cell_type": "markdown",
   "metadata": {
    "id": "UgievDX1op4w"
   },
   "source": [
    "Donc quand on aura toutes les situations suivantes possible pour l'équipe, on regarde pour chaque situation celle avec un gain maximal\n",
    "```\n",
    "for coups in l_coups_valides:\n",
    "  .\n",
    "  .\n",
    "  .\n",
    "```\n",
    "pour celà, on crée un noeud pour chaque situation en le reliant au noeud pere, et on choisit le noeud qui maximisera les gains de l'équipe,\n",
    "\n",
    "donc on cherche l'évalution la plus grande (la maximum) qui minimisera les gains\n",
    "\n",
    "pour celà on fait appel à *minValue*:\n",
    "\n",
    "```\n",
    "val = minValue(noeud_impair, [coups,position2], g, equipe1, equipe2, depth)\n",
    "```"
   ]
  },
  {
   "cell_type": "markdown",
   "metadata": {
    "id": "0wOv7wWormD9"
   },
   "source": [
    "**minValue**\n",
    "\n",
    "va chercher pour l'adversaire (equipe2) la situation  qui minimisera le gain de equipe1, et renvoie son evaluation.\n",
    "\n",
    "\n",
    "1.   si la profondeur == 1:\n",
    "\n",
    "on renvoie l'evaluation de la situation avec l'appel de Evaluation\n",
    "```\n",
    "evalu = Evaluation(noeud.etat, equipe1, equipe2)\n",
    "```\n",
    "2.   Sinon:\n",
    "\n",
    "pour chaque liste de coups valides pour l'equipe2, renvoie l'estimation la plus petite qui maximisera le gain de equipe1, donc elle appelle la fonction *maxValue* avec une profondeur-1 par rapport à la profondeur initiale\n",
    "```\n",
    "val = maxValue(noeud_pair, [coup[0],coups], g, equipe1, equipe2, depth-1)\n",
    "```\n"
   ]
  },
  {
   "cell_type": "markdown",
   "metadata": {
    "id": "3FtVXcOQ179W"
   },
   "source": [
    "**maxValue**\n",
    "\n",
    "va chercher pour l'equipe1 la situation qui maximisera le gain de equipe1, et renvoie son evaluation.\n",
    "\n",
    "\n",
    "1.   Si profondeur == 1:\n",
    "on renvoie l'evaluation de la situation avec l'appel de Evalution\n",
    "```\n",
    "return Evaluation(noeud.etat, equipe1, equipe2)\n",
    "```\n",
    "2.   Sinon:\n",
    "\n",
    "pour chaque liste des coups valides pour equipe1, renvoie l'estimation la plus grande qui minimisera le gain de equipe1, donc elle appelle la fonction *minValue* avec une profondeur-1\n",
    "```\n",
    "val = maxValue(noeud_pair, [coup[0],coups], g, equipe1, equipe2, depth-1)\n",
    "```\n",
    "\n"
   ]
  },
  {
   "cell_type": "markdown",
   "metadata": {
    "id": "jtT2H_XG3nMd"
   },
   "source": [
    "**Evaluation**\n",
    "\n",
    "donnera une estimation de la situation courante par rapport à equipe1\n",
    "\n",
    "```\n",
    "def Evaluation(coups, equipe1, equipe2):\n",
    "  .\n",
    "  .\n",
    "  .\n",
    "```\n",
    "pour chaque joueur dans equipe1, on cherche la distance du chemin qui mene à son objectif on somme les distances, et je rajourte a chaque fois a evalu (la variable de retour), 1/distance_calculee"
   ]
  },
  {
   "cell_type": "markdown",
   "metadata": {},
   "source": [
    "---\n",
    "**Observation**\n",
    "\n",
    "l'algorithme semble bien marcher, néanmoins, il parcourt tous les noeuds de l'arbre, et plus la profondeur est grande plus il pracourt de noeuds, ce qui lui confère un peu de latence en temps d'execution, et plus on a de joueur, plus le temps necessaire à l'execution est exponentiel au nombre des joueurs.\n",
    "\n",
    "sachant qu'on a au plus 5 cases valides possibles pour chaque joueur, donc pour un niveau de profondeur donné, on crée au plus 5^n noeuds, et plus on va dans la profondeur plus on crée de neouds.\n",
    "\n",
    "On a remarqué aussi que pour 10 joueurs par équipe, c'est prèsque pas faisable, (des heures pour prendre une descision de déplacement)!"
   ]
  },
  {
   "cell_type": "markdown",
   "metadata": {
    "id": "JiHii9guMQZV"
   },
   "source": [
    "# III. Comparaison de strategies"
   ]
  },
  {
   "cell_type": "markdown",
   "metadata": {
    "id": "pRj1QVtGaqb1"
   },
   "source": [
    "pour tester, on crée un fichier main_statistique.py, et à chaque fois on règle main.py pour confronter les stratégies entre elles."
   ]
  },
  {
   "cell_type": "markdown",
   "metadata": {
    "id": "gGXlnNVw7twb"
   },
   "source": [
    "Pour comparer les stratégies, on a décidé de tester sur des maps à 1, 2, 3, 5, et même 10 joueurs, en fesant jouer les stratégies entre elles, qui crée des fichiers .txt en y mettant les scores des deux equipes.\n",
    "\n",
    "On utilise la fonction *toGraph* qui prend en paramètre un fichier .txt et construit un dataframe ainsi dessiner les droites des scores pour l'équipe 1 (bleue), et l'équipe 2 (rouge)"
   ]
  },
  {
   "cell_type": "code",
   "execution_count": 31,
   "metadata": {
    "executionInfo": {
     "elapsed": 622,
     "status": "ok",
     "timestamp": 1617096698874,
     "user": {
      "displayName": "myriem moulouel",
      "photoUrl": "",
      "userId": "04198335217864405063"
     },
     "user_tz": -120
    },
    "id": "Px_G87Xa8EpL"
   },
   "outputs": [
    {
     "name": "stdout",
     "output_type": "stream",
     "text": [
      "The autoreload extension is already loaded. To reload it, use:\n",
      "  %reload_ext autoreload\n"
     ]
    }
   ],
   "source": [
    "# commande TRES utile pour recharger automatiquement le code que vous modifiez dans les modules\n",
    "%load_ext autoreload\n",
    "%autoreload 2\n",
    "\n",
    "\n",
    "import pandas as pd\n",
    "import matplotlib\n",
    "from matplotlib import pyplot as plt\n",
    "import numpy as np\n",
    "\n",
    "def toGraph(fichier):\n",
    "    table = pd.read_csv(fichier, sep = '\\t')\n",
    "    print(table.head())\n",
    "    iteration = table['iteration'].tolist()\n",
    "    print(iteration)\n",
    "    scoreB = table['scoreB'].tolist()\n",
    "    print(scoreB)\n",
    "    scoreR = table['scoreR'].tolist()\n",
    "    print(scoreR)\n",
    "    \n",
    "    plt.scatter(iteration,scoreB,color='blue')\n",
    "    plt.scatter(iteration,scoreR,color='red')\n",
    "    "
   ]
  },
  {
   "cell_type": "markdown",
   "metadata": {
    "id": "hweDneINWigt"
   },
   "source": [
    "comparer local_repair et collaborative_path_finding sur un seul joueur par équipe:"
   ]
  },
  {
   "cell_type": "code",
   "execution_count": 36,
   "metadata": {
    "colab": {
     "base_uri": "https://localhost:8080/",
     "height": 441
    },
    "executionInfo": {
     "elapsed": 932,
     "status": "ok",
     "timestamp": 1617096720537,
     "user": {
      "displayName": "myriem moulouel",
      "photoUrl": "",
      "userId": "04198335217864405063"
     },
     "user_tz": -120
    },
    "id": "XtJXw9mBQgbr",
    "outputId": "c06eb069-529a-4f3b-fed6-adbaf2af2790"
   },
   "outputs": [
    {
     "name": "stdout",
     "output_type": "stream",
     "text": [
      "   iteration  scoreB  scoreR\n",
      "0          0       1       0\n",
      "1          1       1       0\n",
      "2          2       1       0\n",
      "3          3       1       0\n",
      "4          4       1       0\n",
      "[0, 1, 2, 3, 4, 5, 6, 7, 8, 9, 10, 11, 12, 13, 14, 15, 16, 17, 18, 19, 20, 21, 22, 23, 24, 25, 26, 27, 28, 29, 30, 31, 32, 33, 34, 35, 36, 37, 38, 39, 40, 41, 42, 43, 44, 45, 46, 47, 48, 49, 50, 51, 52, 53, 54, 55, 56, 57, 58, 59, 60, 61, 62, 63, 64, 65, 66, 67, 68, 69, 70, 71, 72, 73, 74, 75, 76, 77, 78, 79, 80, 81, 82, 83, 84, 85, 86, 87, 88, 89, 90, 91, 92, 93, 94, 95, 96, 97, 98, 99]\n",
      "[1, 1, 1, 1, 1, 1, 1, 1, 1, 1, 1, 1, 1, 1, 1, 1, 1, 1, 1, 1, 1, 1, 1, 1, 1, 1, 1, 1, 1, 1, 1, 1, 1, 1, 1, 1, 1, 1, 1, 1, 1, 1, 1, 1, 1, 1, 1, 1, 1, 1, 1, 1, 1, 1, 1, 1, 1, 1, 1, 1, 1, 1, 1, 1, 1, 1, 1, 1, 1, 1, 1, 1, 1, 1, 1, 1, 1, 1, 1, 1, 1, 1, 1, 1, 1, 1, 1, 1, 1, 1, 1, 1, 1, 1, 1, 1, 1, 1, 1, 1]\n",
      "[0, 0, 0, 0, 0, 0, 0, 0, 0, 0, 0, 0, 0, 0, 0, 0, 0, 0, 0, 0, 0, 0, 0, 0, 0, 0, 0, 0, 0, 0, 0, 0, 0, 0, 0, 0, 0, 0, 0, 0, 0, 0, 0, 0, 0, 0, 0, 0, 0, 0, 0, 0, 0, 0, 0, 0, 0, 0, 0, 0, 0, 0, 0, 0, 0, 0, 0, 0, 0, 0, 0, 0, 0, 0, 0, 0, 0, 0, 0, 0, 0, 0, 0, 0, 0, 0, 0, 0, 0, 0, 0, 0, 0, 0, 0, 0, 0, 0, 0, 0]\n"
     ]
    },
    {
     "data": {
      "image/png": "[encoded data removed]",
      "text/plain": [
       "<Figure size 432x288 with 1 Axes>"
      ]
     },
     "metadata": {
      "needs_background": "light"
     },
     "output_type": "display_data"
    }
   ],
   "source": [
    "toGraph(\"1joueur_localrepair_collabpath.txt\")"
   ]
  },
  {
   "cell_type": "markdown",
   "metadata": {
    "id": "H3JGHw3_WlS-"
   },
   "source": [
    "comparer collaborative_path_finding et local_repair sur un seul joueur par équipe:"
   ]
  },
  {
   "cell_type": "code",
   "execution_count": 35,
   "metadata": {
    "colab": {
     "base_uri": "https://localhost:8080/",
     "height": 441
    },
    "executionInfo": {
     "elapsed": 850,
     "status": "ok",
     "timestamp": 1617096726598,
     "user": {
      "displayName": "myriem moulouel",
      "photoUrl": "",
      "userId": "04198335217864405063"
     },
     "user_tz": -120
    },
    "id": "tPhdQpynVq5n",
    "outputId": "775ef7ec-f635-4b7b-f364-97f63866a323"
   },
   "outputs": [
    {
     "name": "stdout",
     "output_type": "stream",
     "text": [
      "   iteration  scoreB  scoreR\n",
      "0          0       1       0\n",
      "1          1       1       0\n",
      "2          2       1       0\n",
      "3          3       1       0\n",
      "4          4       1       0\n",
      "[0, 1, 2, 3, 4, 5, 6, 7, 8, 9, 10, 11, 12, 13, 14, 15, 16, 17, 18, 19, 20, 21, 22, 23, 24, 25, 26, 27, 28, 29, 30, 31, 32, 33, 34, 35, 36, 37, 38, 39, 40, 41, 42, 43, 44, 45, 46, 47, 48, 49, 50, 51, 52, 53, 54, 55, 56, 57, 58, 59, 60, 61, 62, 63, 64, 65, 66, 67, 68, 69, 70, 71, 72, 73, 74, 75, 76, 77, 78, 79, 80, 81, 82, 83, 84, 85, 86, 87, 88, 89, 90, 91, 92, 93, 94, 95, 96, 97, 98, 99]\n",
      "[1, 1, 1, 1, 1, 1, 1, 1, 1, 1, 1, 1, 1, 1, 1, 1, 1, 1, 1, 1, 1, 1, 1, 1, 1, 1, 1, 1, 1, 1, 1, 1, 1, 1, 1, 1, 1, 1, 1, 1, 1, 1, 1, 1, 1, 1, 1, 1, 1, 1, 1, 1, 1, 1, 1, 1, 1, 1, 1, 1, 1, 1, 1, 1, 1, 1, 1, 1, 1, 1, 1, 1, 1, 1, 1, 1, 1, 1, 1, 1, 1, 1, 1, 1, 1, 1, 1, 1, 1, 1, 1, 1, 1, 1, 1, 1, 1, 1, 1, 1]\n",
      "[0, 0, 0, 0, 0, 0, 0, 0, 0, 0, 0, 0, 0, 0, 0, 0, 0, 0, 0, 0, 0, 0, 0, 0, 0, 0, 0, 0, 0, 0, 0, 0, 0, 0, 0, 0, 0, 0, 0, 0, 0, 0, 0, 0, 0, 0, 0, 0, 0, 0, 0, 0, 0, 0, 0, 0, 0, 0, 0, 0, 0, 0, 0, 0, 0, 0, 0, 0, 0, 0, 0, 0, 0, 0, 0, 0, 0, 0, 0, 0, 0, 0, 0, 0, 0, 0, 0, 0, 0, 0, 0, 0, 0, 0, 0, 0, 0, 0, 0, 0]\n"
     ]
    },
    {
     "data": {
      "image/png": "[encoded data removed]",
      "text/plain": [
       "<Figure size 432x288 with 1 Axes>"
      ]
     },
     "metadata": {
      "needs_background": "light"
     },
     "output_type": "display_data"
    }
   ],
   "source": [
    "toGraph(\"1joueur_collabpath_localrepair.txt\")"
   ]
  },
  {
   "cell_type": "markdown",
   "metadata": {
    "id": "lr5yodl3fWxZ"
   },
   "source": [
    "comparer local_repair et minmax sur un seul joueur par équipe:"
   ]
  },
  {
   "cell_type": "code",
   "execution_count": 34,
   "metadata": {
    "id": "e6c3IGBAfitL"
   },
   "outputs": [
    {
     "name": "stdout",
     "output_type": "stream",
     "text": [
      "   iteration  scoreB  scoreR\n",
      "0          0       1       0\n",
      "1          1       1       0\n",
      "2          2       1       1\n",
      "3          3       1       1\n",
      "4          4       1       1\n",
      "[0, 1, 2, 3, 4, 5, 6, 7, 8, 9, 10, 11, 12, 13, 14, 15, 16, 17, 18, 19, 20, 21, 22, 23, 24, 25, 26, 27, 28, 29, 30, 31, 32, 33, 34, 35, 36, 37, 38, 39, 40, 41, 42, 43, 44, 45, 46, 47, 48, 49, 50, 51, 52, 53, 54, 55, 56, 57, 58, 59, 60, 61, 62, 63, 64, 65, 66, 67, 68, 69, 70, 71, 72, 73, 74, 75, 76, 77, 78, 79, 80, 81, 82, 83, 84, 85, 86, 87, 88, 89, 90, 91, 92, 93, 94, 95, 96, 97, 98, 99]\n",
      "[1, 1, 1, 1, 1, 1, 1, 1, 1, 1, 1, 1, 1, 1, 1, 1, 1, 1, 1, 1, 1, 1, 1, 1, 1, 1, 1, 1, 1, 1, 1, 1, 1, 1, 1, 1, 1, 1, 1, 1, 1, 1, 1, 1, 1, 1, 1, 1, 1, 1, 1, 1, 1, 1, 1, 1, 1, 1, 1, 1, 1, 1, 1, 1, 1, 1, 1, 1, 1, 1, 1, 1, 1, 1, 1, 1, 1, 1, 1, 1, 1, 1, 1, 1, 1, 1, 1, 1, 1, 1, 1, 1, 1, 1, 1, 1, 1, 1, 1, 1]\n",
      "[0, 0, 1, 1, 1, 0, 1, 0, 1, 0, 1, 0, 0, 0, 1, 0, 1, 1, 0, 0, 1, 0, 0, 0, 1, 1, 0, 1, 0, 0, 1, 0, 0, 0, 0, 1, 0, 1, 1, 1, 1, 0, 1, 0, 0, 0, 0, 0, 0, 1, 0, 1, 1, 1, 0, 1, 0, 0, 0, 0, 1, 0, 0, 0, 1, 1, 0, 0, 1, 1, 1, 1, 1, 0, 1, 0, 0, 1, 1, 0, 1, 0, 1, 1, 0, 0, 0, 1, 0, 0, 1, 0, 0, 0, 0, 1, 1, 0, 0, 1]\n"
     ]
    },
    {
     "data": {
      "image/png": "[encoded data removed]",
      "text/plain": [
       "<Figure size 432x288 with 1 Axes>"
      ]
     },
     "metadata": {
      "needs_background": "light"
     },
     "output_type": "display_data"
    }
   ],
   "source": [
    "toGraph('1joueur_localrepair_minmax3.txt')"
   ]
  },
  {
   "cell_type": "raw",
   "metadata": {},
   "source": [
    "le joueur1 est favorisé car il commence !"
   ]
  },
  {
   "cell_type": "markdown",
   "metadata": {
    "id": "uu-7H3Lofzhz"
   },
   "source": [
    "\n",
    "\n",
    "---\n",
    "\n",
    "\n",
    "\n",
    "---\n",
    "\n"
   ]
  },
  {
   "cell_type": "markdown",
   "metadata": {
    "id": "nrzo8i0GYjpi"
   },
   "source": [
    "comparer minmax et minmax sur deux joueurs par équipe:"
   ]
  },
  {
   "cell_type": "code",
   "execution_count": 33,
   "metadata": {
    "colab": {
     "base_uri": "https://localhost:8080/",
     "height": 421
    },
    "executionInfo": {
     "elapsed": 1496,
     "status": "ok",
     "timestamp": 1617096729977,
     "user": {
      "displayName": "myriem moulouel",
      "photoUrl": "",
      "userId": "04198335217864405063"
     },
     "user_tz": -120
    },
    "id": "K6rq-cO4XFLI",
    "outputId": "b7cb6f31-8b2b-4a1e-9506-fcb373871329"
   },
   "outputs": [
    {
     "name": "stdout",
     "output_type": "stream",
     "text": [
      "   iteration  scoreB  scoreR\n",
      "0          0       2       1\n",
      "1          1       2       1\n",
      "2          2       0       2\n",
      "3          3       1       2\n",
      "4          4       2       1\n",
      "[0, 1, 2, 3, 4, 5]\n",
      "[2, 2, 0, 1, 2, 2]\n",
      "[1, 1, 2, 2, 1, 1]\n"
     ]
    },
    {
     "data": {
      "image/png": "[encoded data removed]",
      "text/plain": [
       "<Figure size 432x288 with 1 Axes>"
      ]
     },
     "metadata": {
      "needs_background": "light"
     },
     "output_type": "display_data"
    }
   ],
   "source": [
    "toGraph('2joueur_minmax_minmax.txt')"
   ]
  },
  {
   "cell_type": "markdown",
   "metadata": {
    "id": "UrbGO3EMbk15"
   },
   "source": [
    "comparer minmax et local_repair sur deux joueurs par équipe:"
   ]
  },
  {
   "cell_type": "code",
   "execution_count": 32,
   "metadata": {
    "id": "O6P0oNwabbd7"
   },
   "outputs": [
    {
     "name": "stdout",
     "output_type": "stream",
     "text": [
      "   iteration  scoreB  scoreR\n",
      "0          0       0       2\n",
      "1          1       2       1\n",
      "2          2       2       1\n",
      "3          3       0       2\n",
      "4          4       2       1\n",
      "[0, 1, 2, 3, 4, 5, 6, 7, 8, 9, 10, 11, 12, 13, 14, 15, 16, 17, 18, 19, 20, 21, 22, 23, 24, 25, 26, 27, 28, 29, 30, 31, 32, 33, 34, 35, 36, 37, 38, 39, 40, 41, 42, 43, 44, 45, 46, 47, 48, 49, 50, 51, 52, 53, 54, 55, 56, 57, 58, 59, 60, 61, 62, 63, 64, 65, 66, 67, 68, 69, 70, 71, 72, 73, 74, 75, 76, 77, 78, 79, 80, 81, 82, 83, 84, 85, 86, 87, 88, 89, 90, 91, 92, 93, 94, 95, 96, 97, 98, 99]\n",
      "[0, 2, 2, 0, 2, 2, 2, 2, 2, 2, 2, 0, 0, 2, 2, 2, 1, 2, 0, 2, 1, 2, 0, 2, 1, 2, 2, 2, 2, 2, 2, 1, 1, 2, 2, 2, 1, 2, 2, 2, 2, 2, 2, 1, 1, 2, 1, 2, 2, 2, 2, 1, 2, 2, 2, 0, 1, 2, 2, 2, 2, 0, 2, 1, 2, 0, 2, 1, 2, 2, 1, 1, 1, 1, 2, 0, 0, 2, 0, 2, 0, 2, 1, 1, 2, 2, 2, 0, 2, 2, 2, 2, 1, 2, 2, 1, 0, 2, 1, 2]\n",
      "[2, 1, 1, 2, 1, 1, 1, 1, 1, 1, 1, 2, 2, 1, 1, 0, 2, 1, 2, 0, 2, 1, 2, 1, 2, 1, 1, 1, 1, 1, 1, 2, 2, 1, 1, 1, 2, 1, 1, 1, 1, 0, 1, 2, 2, 1, 2, 1, 1, 1, 0, 2, 0, 0, 0, 2, 2, 1, 1, 0, 0, 2, 1, 2, 1, 2, 1, 2, 0, 1, 2, 2, 2, 2, 1, 2, 2, 1, 2, 1, 2, 1, 2, 2, 1, 1, 0, 2, 1, 1, 0, 1, 2, 1, 1, 2, 2, 1, 2, 1]\n"
     ]
    },
    {
     "data": {
      "image/png": "[encoded data removed]",
      "text/plain": [
       "<Figure size 432x288 with 1 Axes>"
      ]
     },
     "metadata": {
      "needs_background": "light"
     },
     "output_type": "display_data"
    }
   ],
   "source": [
    "toGraph('2joueur_minmax2_localrepair.txt')"
   ]
  },
  {
   "cell_type": "markdown",
   "metadata": {},
   "source": [
    "l'equipe bleue l'emporte en moyenne !"
   ]
  },
  {
   "cell_type": "markdown",
   "metadata": {
    "id": "CgeiaQpxf63r"
   },
   "source": [
    "\n",
    "\n",
    "---\n",
    "\n",
    "\n",
    "\n",
    "---\n",
    "\n"
   ]
  },
  {
   "cell_type": "markdown",
   "metadata": {
    "id": "PpWL_aPqe6lW"
   },
   "source": [
    "comparer minmax et local_repair sur trois joueurs par équipe:\n"
   ]
  },
  {
   "cell_type": "code",
   "execution_count": 27,
   "metadata": {
    "id": "7qIoeQV0fGaF"
   },
   "outputs": [
    {
     "name": "stdout",
     "output_type": "stream",
     "text": [
      "   iteration  scoreB  scoreR\n",
      "0          0       2       3\n",
      "[0]\n",
      "[2]\n",
      "[3]\n"
     ]
    },
    {
     "data": {
      "image/png": "[encoded data removed]",
      "text/plain": [
       "<Figure size 432x288 with 1 Axes>"
      ]
     },
     "metadata": {
      "needs_background": "light"
     },
     "output_type": "display_data"
    }
   ],
   "source": [
    "toGraph('3joueur_minmax2_localrepair.txt')"
   ]
  },
  {
   "cell_type": "raw",
   "metadata": {},
   "source": [
    "ça a craché au bout de la deuxième itération !"
   ]
  },
  {
   "cell_type": "markdown",
   "metadata": {
    "id": "7LhUn4MZghoF"
   },
   "source": [
    "comparer minmax et collab_path_finding sur trois joueurs par équipe:\n"
   ]
  },
  {
   "cell_type": "code",
   "execution_count": 29,
   "metadata": {
    "id": "JJlu9Rewgu85"
   },
   "outputs": [
    {
     "name": "stdout",
     "output_type": "stream",
     "text": [
      "   iteration  scoreB  scoreR\n",
      "0          0       0       3\n",
      "[0]\n",
      "[0]\n",
      "[3]\n"
     ]
    },
    {
     "data": {
      "image/png": "[encoded data removed]",
      "text/plain": [
       "<Figure size 432x288 with 1 Axes>"
      ]
     },
     "metadata": {
      "needs_background": "light"
     },
     "output_type": "display_data"
    }
   ],
   "source": [
    "toGraph('3joueur_minmax2_collabpath.txt')"
   ]
  },
  {
   "cell_type": "raw",
   "metadata": {},
   "source": [
    "ça a craché au bout de la deuxième itération !"
   ]
  },
  {
   "cell_type": "markdown",
   "metadata": {
    "id": "VeCDjhoHgBpZ"
   },
   "source": [
    "\n",
    "\n",
    "---\n",
    "\n",
    "\n",
    "\n",
    "---\n",
    "\n"
   ]
  },
  {
   "cell_type": "markdown",
   "metadata": {
    "id": "Y2v_b40YZLz2"
   },
   "source": [
    "comparer collaborative_path_finding et local_repair sur 5 joueurs par équipe:"
   ]
  },
  {
   "cell_type": "code",
   "execution_count": 37,
   "metadata": {
    "colab": {
     "base_uri": "https://localhost:8080/",
     "height": 441
    },
    "executionInfo": {
     "elapsed": 955,
     "status": "ok",
     "timestamp": 1617096732667,
     "user": {
      "displayName": "myriem moulouel",
      "photoUrl": "",
      "userId": "04198335217864405063"
     },
     "user_tz": -120
    },
    "id": "d3UHIhUZZDHD",
    "outputId": "641ac5fd-3168-4434-95f7-2edacc361cf6"
   },
   "outputs": [
    {
     "name": "stdout",
     "output_type": "stream",
     "text": [
      "   iteration  scoreB  scoreR\n",
      "0          0       1       2\n",
      "1          1       2       1\n",
      "2          2       2       1\n",
      "3          3       2       0\n",
      "4          4       1       2\n",
      "[0, 1, 2, 3, 4, 5, 6, 7, 8, 9, 10, 11, 12, 13, 14, 15, 16, 17, 18, 19, 20, 21, 22, 23, 24, 25, 26, 27, 28, 29]\n",
      "[1, 2, 2, 2, 1, 2, 2, 2, 2, 2, 2, 1, 2, 1, 1, 2, 1, 1, 1, 2, 1, 2, 2, 1, 2, 2, 0, 1, 0, 2]\n",
      "[2, 1, 1, 0, 2, 1, 1, 1, 1, 1, 1, 2, 1, 2, 2, 1, 2, 2, 2, 1, 2, 1, 1, 2, 1, 1, 2, 2, 2, 0]\n"
     ]
    },
    {
     "data": {
      "image/png": "[encoded data removed]",
      "text/plain": [
       "<Figure size 432x288 with 1 Axes>"
      ]
     },
     "metadata": {
      "needs_background": "light"
     },
     "output_type": "display_data"
    }
   ],
   "source": [
    "toGraph('5joueur_collapath_localrepair.txt')"
   ]
  },
  {
   "cell_type": "markdown",
   "metadata": {
    "id": "SwfdbTBXbeKk"
   },
   "source": [
    "on remarque que les deux stratégies sont équivalentes !"
   ]
  },
  {
   "cell_type": "markdown",
   "metadata": {},
   "source": [
    "on remarque que des fois la victoir est attribuée selon que l'équipe commence !"
   ]
  },
  {
   "cell_type": "markdown",
   "metadata": {},
   "source": [
    "minmax l'emporte géneralement, mais elle prend beaucoup de temps"
   ]
  }
 ],
 "metadata": {
  "colab": {
   "collapsed_sections": [],
   "name": "IAetJeux2021_projetCoopPathFinding_rapport_Loi_Moulouel.ipynb",
   "provenance": []
  },
  "kernelspec": {
   "display_name": "Python 3",
   "language": "python",
   "name": "python3"
  },
  "language_info": {
   "codemirror_mode": {
    "name": "ipython",
    "version": 3
   },
   "file_extension": ".py",
   "mimetype": "text/x-python",
   "name": "python",
   "nbconvert_exporter": "python",
   "pygments_lexer": "ipython3",
   "version": "3.9.0"
  }
 },
 "nbformat": 4,
 "nbformat_minor": 1
}
